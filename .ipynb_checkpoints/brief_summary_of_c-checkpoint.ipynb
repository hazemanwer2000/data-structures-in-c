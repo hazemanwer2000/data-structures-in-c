{
 "cells": [
  {
   "cell_type": "markdown",
   "id": "0971233f",
   "metadata": {},
   "source": [
    "# A brief summary of C (89, 99, 11)\n",
    "<br>\n",
    "<div style=\"opacity: 0.8; font-family: Consolas, Monaco, Lucida Console, Liberation Mono, DejaVu Sans Mono, Bitstream Vera Sans Mono, Courier New; font-size: 12px; font-style: italic;\">\n",
    "    ────────\n",
    "    for more from the author, visit\n",
    "    <a href=\"https://github.com/hazemanwer2000\">github.com/hazemanwer2000</a>.\n",
    "    ────────\n",
    "</div>"
   ]
  },
  {
   "cell_type": "markdown",
   "id": "3314bd3b",
   "metadata": {},
   "source": [
    "## Table of Contents\n",
    "* [The Compilation Process](#the-compilation-process)\n",
    "* [Data Types](#data-types)\n",
    "* [Operators](#operators)\n",
    "* [The Fundamentals](#the-fundamentals)\n",
    "    * [Functions](#functions)\n",
    "    * [Variables](#variables)\n",
    "        * [Local Variables](#local-variables)\n",
    "        * [Global Variables](#global-variables)\n",
    "    * [Casting](#casting)\n",
    "    * [Literals](#literals)\n",
    "        * [Integer Literals](#integer-literals)\n",
    "        * [Floating-point Literals](#floating-point-literals)\n",
    "        * [Character Literals](#character-literals)\n",
    "<hr>"
   ]
  },
  {
   "cell_type": "markdown",
   "id": "fab2a185",
   "metadata": {},
   "source": [
    "Every C program must contain a single `main` function across all files. It is the entry point of the program.\n",
    "\n",
    "When running as bare-metal firmware, the function returns nothing. When running on an OS, the function returns a value to the OS, indicating its exit status."
   ]
  },
  {
   "cell_type": "code",
   "execution_count": 23,
   "id": "65de4bff",
   "metadata": {},
   "outputs": [],
   "source": [
    "int main() {\n",
    "    return 0;\n",
    "}"
   ]
  },
  {
   "cell_type": "markdown",
   "id": "c21c109c",
   "metadata": {},
   "source": [
    "## The Compilation Process <a class=\"anchor\" id=\"the-compilation-process\"></a>"
   ]
  },
  {
   "cell_type": "markdown",
   "id": "c23aafb9",
   "metadata": {},
   "source": [
    "Files in *C* are either *source* files, `*.c`, or *header* files, `*.h`."
   ]
  },
  {
   "cell_type": "markdown",
   "id": "8ba72956",
   "metadata": {},
   "source": [
    "*Note:* Header files are ignored throughout the compilation process."
   ]
  },
  {
   "cell_type": "markdown",
   "id": "dd8ad4c4",
   "metadata": {},
   "source": [
    "*Note:* The compiler used throughout this notebook is *GCC* (GNU Compiler Collection). The term *compiler* used here is an umbrella term for all tools used throughout the compilation process, usually lumped together under a single executable."
   ]
  },
  {
   "cell_type": "markdown",
   "id": "5427cacd",
   "metadata": {},
   "source": [
    "The first stage in the compilation process is the *preprocessing* stage. The **preprocessor** reads and executes *directives* in `*.c` files, outputting a `*.i` file for each `*.c` file."
   ]
  },
  {
   "cell_type": "markdown",
   "id": "76677843",
   "metadata": {},
   "source": [
    "`gcc -E *.c > *.i`"
   ]
  },
  {
   "cell_type": "markdown",
   "id": "93290288",
   "metadata": {},
   "source": [
    "*Note:* Only a single file may be preprocessed at a time."
   ]
  },
  {
   "cell_type": "markdown",
   "id": "af47e168",
   "metadata": {},
   "source": [
    "The second stage is the *compilation* stage. The **compiler** (proper) *compiles* each `*.i` file into a `*.s` file, translating C code into assembly instructions of the *target architecture*. Hence, compilers are architecture-dependent, but platform-independent."
   ]
  },
  {
   "cell_type": "markdown",
   "id": "e7fb6b6c",
   "metadata": {},
   "source": [
    "*Note:* An *architecture* is a family of *platforms* that share the same *ISA* (Instruction Set Architecture)."
   ]
  },
  {
   "cell_type": "markdown",
   "id": "9b3740fd",
   "metadata": {},
   "source": [
    "`gcc -S *.i`"
   ]
  },
  {
   "cell_type": "markdown",
   "id": "d19b7618",
   "metadata": {},
   "source": [
    "*Note:* Passing a `*.c` file instead, it will be preprocessed in the background, before it is compiled."
   ]
  },
  {
   "cell_type": "markdown",
   "id": "0c7e4301",
   "metadata": {},
   "source": [
    "The third stage is the *assembly* stage. The **assembler** assembles each `*.s` file into an `*.o*` object file, translating assembly instructions into machine code."
   ]
  },
  {
   "cell_type": "markdown",
   "id": "e858948f",
   "metadata": {},
   "source": [
    "`gcc -c *.s`"
   ]
  },
  {
   "cell_type": "markdown",
   "id": "361c7528",
   "metadata": {},
   "source": [
    "*Note:* Passing a `*.c` or `*.i` file instead, it will be preprocessed and compiled in the background, before it is assembled."
   ]
  },
  {
   "cell_type": "markdown",
   "id": "1269112e",
   "metadata": {},
   "source": [
    "While compiling and assembling, files are handled separately. Declared but undefined symbols within a single file are left symbolic, for the **linker** to resolve.\n",
    "\n",
    "The fourth stage is the *linking* stage. The linker *links* all input `*.o*` files into a single *relocatable file*, by resolving symbolic associations between files."
   ]
  },
  {
   "cell_type": "markdown",
   "id": "57ca84cd",
   "metadata": {},
   "source": [
    "*Note:* A *declaration* acknowledges the existence of a *definition*, in the same or in a different source file. It does not allocate memory."
   ]
  },
  {
   "cell_type": "markdown",
   "id": "cf6888f1",
   "metadata": {},
   "source": [
    "In the fifth and final stage, the **locator** uses the *linker map file* of the *target platform* to map the memory regions within the relocatable file according to the target's memory map. The final output is a single *executable*, able to run on the target platform.\n",
    "\n",
    "Usually, there is no intermediary output between both stages, and *symbolic resolution* and *relocation* are performed by the linker, implicity calling or implementing the locator. The linker is, hence, platform-dependent."
   ]
  },
  {
   "cell_type": "markdown",
   "id": "1930e8d6",
   "metadata": {},
   "source": [
    "`gcc *.o -o run.exe`"
   ]
  },
  {
   "cell_type": "markdown",
   "id": "87db90ef",
   "metadata": {},
   "source": [
    "*Note:* Passing a `*.c`, `*.i` or `*.s` file instead, it will be preprocessed, compiled and assembled in the background."
   ]
  },
  {
   "cell_type": "markdown",
   "id": "50839052",
   "metadata": {},
   "source": [
    "## Data Types <a class=\"anchor\" id=\"data-types\"></a>"
   ]
  },
  {
   "cell_type": "markdown",
   "id": "4e362787",
   "metadata": {},
   "source": [
    "* Arithmetic Types\n",
    "    * Integer Types\n",
    "        * Size: *1 byte*\n",
    "            * `unsigned char`\n",
    "            * `signed char`\n",
    "        * Size: *2 bytes*\n",
    "            * `unsigned short int`\n",
    "            * `signed short int`\n",
    "        * Size: *2 or 4 bytes*\n",
    "            * `unsigned int`\n",
    "            * `signed int`\n",
    "        * Size: *4 or 8 bytes*\n",
    "            * `unsigned long int`\n",
    "            * `signed long int`\n",
    "        * Size: *8 bytes*\n",
    "            * `unsigned long long int`\n",
    "            * `signed long long int`\n",
    "    * Floating-point Types\n",
    "        * Size: *4 bytes*\n",
    "            * `float`\n",
    "        * Size: *8 bytes*\n",
    "            * `double`\n",
    "        * Size: *10 bytes*\n",
    "            * `long double`\n",
    "* Derived Types\n",
    "    * Functions\n",
    "    * Pointers\n",
    "    * Arrays\n",
    "    * Structures\n",
    "    * Unions\n",
    "* Enumerations\n",
    "* `void`"
   ]
  },
  {
   "cell_type": "markdown",
   "id": "ad52f06b",
   "metadata": {},
   "source": [
    "*Note:* Omitting the `unsigned` keyword, the integer data type will default to `signed`."
   ]
  },
  {
   "cell_type": "markdown",
   "id": "e0e856d4",
   "metadata": {},
   "source": [
    "*Note:* For non-`char` integer data types, the `int` keyword may be omitted."
   ]
  },
  {
   "cell_type": "markdown",
   "id": "223af65f",
   "metadata": {},
   "source": [
    "## Operators <a class=\"anchor\" id=\"operators\"></a>"
   ]
  },
  {
   "cell_type": "markdown",
   "id": "564c19a0",
   "metadata": {},
   "source": [
    " | *Operator* | *Associativity* | *Precedence* |\n",
    "| --- | --- | |\n",
    "| `()` `[]` `->` `.` | *left-to-right* | ↑ |\n",
    "| `++` `--` `+` `-` `!` `~` *`(type)`* `*` `&` `sizeof` | *right-to-left* |\n",
    "| `*` `/` `%` | *left-to-right* |\n",
    "| `+` `-` | *left-to-right* |\n",
    "| `<<` `>>` | *left-to-right* |\n",
    "| `<` `<=` `>` `>=` | *left-to-right* |\n",
    "| `==` `!=` | *left-to-right* |\n",
    "| `&` | *left-to-right* |\n",
    "| `^` | *left-to-right* |\n",
    "| `\\|` | *left-to-right* |\n",
    "| `&&` | *left-to-right* |\n",
    "| `\\|\\|` | *left-to-right* |\n",
    "| `?:` | *right-to-left* |\n",
    "| `=` `+=` `-=` `*=` `/=` `%=` `&=` `^=` `\\|=` `<<=` `>>=` | *right-to-left* |\n",
    "| `,` | *left-to-right* | ↓ |"
   ]
  },
  {
   "cell_type": "markdown",
   "id": "d1fc31c1",
   "metadata": {},
   "source": [
    "## The Fundamentals <a class=\"anchor\" id=\"the-fundamentals\"></a>"
   ]
  },
  {
   "cell_type": "markdown",
   "id": "e1d57e81",
   "metadata": {},
   "source": [
    "### Functions <a class=\"anchor\" id=\"functions\"></a>"
   ]
  },
  {
   "cell_type": "markdown",
   "id": "635e6b96",
   "metadata": {},
   "source": [
    "The C compiler (proper) is a single-pass compiler. Hence, to perform type-checking on passed function parameters, a function declaration (also called *prototype*) should be present before a function call. "
   ]
  },
  {
   "cell_type": "code",
   "execution_count": 41,
   "id": "b134c551",
   "metadata": {},
   "outputs": [
    {
     "name": "stdout",
     "output_type": "stream",
     "text": [
      "11"
     ]
    }
   ],
   "source": [
    "#include <stdio.h>\n",
    "\n",
    "int add(int x, int y) {   /* function definition (and declaration) */\n",
    "    return x + y;\n",
    "}\n",
    "\n",
    "int main() {\n",
    "    int x = 5;\n",
    "    int y = 6;\n",
    "    int sum = add(x, y);\n",
    "    printf(\"%d\", sum);\n",
    "    return 0;\n",
    "}"
   ]
  },
  {
   "cell_type": "code",
   "execution_count": 37,
   "id": "e133c41a",
   "metadata": {},
   "outputs": [
    {
     "name": "stdout",
     "output_type": "stream",
     "text": [
      "11"
     ]
    }
   ],
   "source": [
    "#include <stdio.h>\n",
    "\n",
    "int add(int x, int y);   /* function declaration */\n",
    "\n",
    "int main() {\n",
    "    int x = 5;\n",
    "    int y = 6;\n",
    "    int sum = add(x, y);\n",
    "    printf(\"%d\", sum);\n",
    "    return 0;\n",
    "}\n",
    "\n",
    "int add(int x, int y) {   /* function definition (and declaration) */\n",
    "    return x + y;\n",
    "}"
   ]
  },
  {
   "cell_type": "markdown",
   "id": "a8c5aed7",
   "metadata": {},
   "source": [
    "If a function declaration is missing before a function call, the compiler issues a warning."
   ]
  },
  {
   "cell_type": "code",
   "execution_count": 39,
   "id": "d0ca07bd",
   "metadata": {},
   "outputs": [
    {
     "name": "stderr",
     "output_type": "stream",
     "text": [
      "/tmp/tmpe6jm12l2.c: In function ‘main’:\n",
      "/tmp/tmpe6jm12l2.c:6:15: warning: implicit declaration of function ‘add’ [-Wimplicit-function-declaration]\n",
      "    6 |     int sum = add(x, y);\n",
      "      |               ^~~\n"
     ]
    },
    {
     "name": "stdout",
     "output_type": "stream",
     "text": [
      "11"
     ]
    }
   ],
   "source": [
    "#include <stdio.h>\n",
    "\n",
    "int main() {\n",
    "    int x = 5;\n",
    "    int y = 6;\n",
    "    int sum = add(x, y);\n",
    "    printf(\"%d\", sum);\n",
    "    return 0;\n",
    "}\n",
    "\n",
    "int add(int x, int y) {   /* function definition (and declaration) */\n",
    "    return x + y;\n",
    "}"
   ]
  },
  {
   "cell_type": "markdown",
   "id": "339b3429",
   "metadata": {},
   "source": [
    "Usually, a `*.h` file contains function declarations of functions in the corresponding `*.c` file. The `#include` directive is used to include the content of another file, usually a `*.h` file, into a `*.c` file."
   ]
  },
  {
   "cell_type": "code",
   "execution_count": 47,
   "id": "b151b67c",
   "metadata": {},
   "outputs": [
    {
     "name": "stdout",
     "output_type": "stream",
     "text": [
      "Hi!"
     ]
    }
   ],
   "source": [
    "#include <stdio.h>       /* Standard Library IO functions prototypes. */ \n",
    "                         /* Standard Library function definitions are linked to, automatically. */\n",
    "\n",
    "int main() {\n",
    "    printf(\"Hi!\");       /* 'printf' prototype defined in 'stdio.h' */\n",
    "    return 0;\n",
    "}"
   ]
  },
  {
   "cell_type": "markdown",
   "id": "3e2ba070",
   "metadata": {},
   "source": [
    "*Note:* The `#include` directive is recursive. Any directives in the included file are further executed."
   ]
  },
  {
   "cell_type": "markdown",
   "id": "924a5768",
   "metadata": {},
   "source": [
    "A *static* function may not be referenced outside the file it is defined in."
   ]
  },
  {
   "cell_type": "code",
   "execution_count": 50,
   "id": "6316edd4",
   "metadata": {},
   "outputs": [
    {
     "name": "stdout",
     "output_type": "stream",
     "text": [
      "11"
     ]
    }
   ],
   "source": [
    "#include <stdio.h>\n",
    "\n",
    "static int add(int x, int y);      /* static function declaration */\n",
    "\n",
    "int main() {\n",
    "    int x = 5;\n",
    "    int y = 6;\n",
    "    int sum = add(x, y);\n",
    "    printf(\"%d\", sum);\n",
    "    return 0;\n",
    "}\n",
    "\n",
    "static int add(int x, int y) {       /* static function definition */\n",
    "    return x + y;\n",
    "}"
   ]
  },
  {
   "cell_type": "markdown",
   "id": "59600a58",
   "metadata": {},
   "source": [
    "If a static function is referenced outside the file it is defined in, the linker throws an error."
   ]
  },
  {
   "cell_type": "code",
   "execution_count": 65,
   "id": "b7283f47",
   "metadata": {},
   "outputs": [
    {
     "name": "stdout",
     "output_type": "stream",
     "text": [
      "3"
     ]
    }
   ],
   "source": [
    "//%cflags: .jupyter/add.c\n",
    "\n",
    "#include <stdio.h>\n",
    "\n",
    "int add(int x, int y);           /* 'add' is a global (non-static) function declaration */\n",
    "                                 /* to a global function definition in another file */\n",
    "\n",
    "int main() {\n",
    "    printf(\"%d\", add(1, 2));\n",
    "    return 0;\n",
    "}"
   ]
  },
  {
   "cell_type": "code",
   "execution_count": 66,
   "id": "b4967bd1",
   "metadata": {},
   "outputs": [
    {
     "name": "stderr",
     "output_type": "stream",
     "text": [
      "/tmp/tmpy32z25fi.out: symbol lookup error: /tmp/tmpcjdsntr8.out: undefined symbol: add\n",
      "[C kernel] Executable exited with code 127"
     ]
    }
   ],
   "source": [
    "//%cflags: .jupyter/add_static.c\n",
    "\n",
    "#include <stdio.h>\n",
    "\n",
    "int add(int x, int y);           /* 'add' is a global function declaration */\n",
    "                                 /* to a static function definition in another file */\n",
    "                                 \n",
    "int main() {\n",
    "    printf(\"%d\", add(1, 2));\n",
    "    return 0;\n",
    "}"
   ]
  },
  {
   "cell_type": "markdown",
   "id": "1ecf0524",
   "metadata": {},
   "source": [
    "If a static function declaration is present before a function call, while the function definition is missing, the compiler issues a warning only."
   ]
  },
  {
   "cell_type": "code",
   "execution_count": 72,
   "id": "18224114",
   "metadata": {},
   "outputs": [
    {
     "name": "stderr",
     "output_type": "stream",
     "text": [
      "/tmp/tmpwmvlfefi.c:3:12: warning: ‘add’ used but never defined\n",
      "    3 | static int add(int x, int y);\n",
      "      |            ^~~\n",
      "/tmp/tmpy32z25fi.out: symbol lookup error: /tmp/tmpv305fucn.out: undefined symbol: add\n",
      "[C kernel] Executable exited with code 127"
     ]
    }
   ],
   "source": [
    "#include <stdio.h>\n",
    "\n",
    "static int add(int x, int y);\n",
    "\n",
    "int main() {\n",
    "    printf(\"%d\", add(1, 2));\n",
    "    return 0;\n",
    "}"
   ]
  },
  {
   "cell_type": "markdown",
   "id": "cf81cc46",
   "metadata": {},
   "source": [
    "In C, function parameters are passed by value."
   ]
  },
  {
   "cell_type": "code",
   "execution_count": 48,
   "id": "08400d8e",
   "metadata": {
    "scrolled": true
   },
   "outputs": [
    {
     "name": "stdout",
     "output_type": "stream",
     "text": [
      "5"
     ]
    }
   ],
   "source": [
    "#include <stdio.h>\n",
    "\n",
    "void increment(int x) {\n",
    "    x++; \n",
    "}\n",
    "\n",
    "int main() {\n",
    "    int x = 5;\n",
    "    increment(x);\n",
    "    printf(\"%d\", x);\n",
    "}"
   ]
  },
  {
   "cell_type": "markdown",
   "id": "607febba",
   "metadata": {},
   "source": [
    "### Variables <a class=\"anchor\" id=\"variables\"></a>"
   ]
  },
  {
   "cell_type": "markdown",
   "id": "9cb87863",
   "metadata": {},
   "source": [
    "#### Local Variables <a class=\"anchor\" id=\"local-variables\"></a>"
   ]
  },
  {
   "cell_type": "markdown",
   "id": "7a7e17b9",
   "metadata": {},
   "source": [
    "Variables defined within a function have *local* scope. They can only be accessed within that function."
   ]
  },
  {
   "cell_type": "code",
   "execution_count": 98,
   "id": "5aa49280",
   "metadata": {},
   "outputs": [
    {
     "name": "stdout",
     "output_type": "stream",
     "text": [
      "10"
     ]
    }
   ],
   "source": [
    "#include <stdio.h>\n",
    "\n",
    "int main() {\n",
    "    int x = 10;\n",
    "    printf(\"%d\", x);\n",
    "    return 0;\n",
    "}"
   ]
  },
  {
   "cell_type": "markdown",
   "id": "803b4907",
   "metadata": {},
   "source": [
    "Uninitialized local variables contain *garbage* values."
   ]
  },
  {
   "cell_type": "code",
   "execution_count": 100,
   "id": "c7fa6d3c",
   "metadata": {},
   "outputs": [
    {
     "name": "stdout",
     "output_type": "stream",
     "text": [
      "32767"
     ]
    }
   ],
   "source": [
    "#include <stdio.h>\n",
    "\n",
    "int main() {\n",
    "    int x;\n",
    "    printf(\"%d\", x);\n",
    "    return 0;\n",
    "}"
   ]
  },
  {
   "cell_type": "markdown",
   "id": "43de6635",
   "metadata": {},
   "source": [
    "Local variables may be `auto` or `static`. `auto` local variables are allocated and deallocated with each function call. `static` local variables persist throughout the lifetime of the program."
   ]
  },
  {
   "cell_type": "code",
   "execution_count": 90,
   "id": "8337a199",
   "metadata": {},
   "outputs": [
    {
     "name": "stdout",
     "output_type": "stream",
     "text": [
      "11\n",
      "11\n",
      "11\n"
     ]
    }
   ],
   "source": [
    "#include <stdio.h>\n",
    "\n",
    "int x_plus_one();\n",
    "\n",
    "int main() {\n",
    "    printf(\"%d\\n\", x_plus_one());\n",
    "    printf(\"%d\\n\", x_plus_one());\n",
    "    printf(\"%d\\n\", x_plus_one());\n",
    "    return 0;\n",
    "}\n",
    "\n",
    "int x_plus_one() {\n",
    "    auto int x = 10;         /* auto local variable definition executed */\n",
    "                             /* with each function call */\n",
    "    return ++x;\n",
    "}"
   ]
  },
  {
   "cell_type": "code",
   "execution_count": 91,
   "id": "49388a3c",
   "metadata": {},
   "outputs": [
    {
     "name": "stdout",
     "output_type": "stream",
     "text": [
      "11\n",
      "12\n",
      "13\n"
     ]
    }
   ],
   "source": [
    "#include <stdio.h>\n",
    "\n",
    "int x_plus_one();\n",
    "\n",
    "int main() {\n",
    "    printf(\"%d\\n\", x_plus_one());\n",
    "    printf(\"%d\\n\", x_plus_one());\n",
    "    printf(\"%d\\n\", x_plus_one());\n",
    "    return 0;\n",
    "}\n",
    "\n",
    "int x_plus_one() {\n",
    "    static int x = 10;         /* static local variable definition executed */\n",
    "                               /* once only at start of program, and not with */\n",
    "                               /* each function call */\n",
    "    return ++x;\n",
    "}"
   ]
  },
  {
   "cell_type": "markdown",
   "id": "3355d147",
   "metadata": {},
   "source": [
    "*Note:* Local variables are `auto` by default."
   ]
  },
  {
   "cell_type": "markdown",
   "id": "a7b2fa9a",
   "metadata": {},
   "source": [
    "Local variables may also be `register`. The `register` keyword tells the compiler to allocate and deallocate memory with each function call, in one of the CPU's registers."
   ]
  },
  {
   "cell_type": "code",
   "execution_count": 115,
   "id": "3e711fe1",
   "metadata": {},
   "outputs": [
    {
     "name": "stdout",
     "output_type": "stream",
     "text": [
      "11\n",
      "11\n",
      "11\n"
     ]
    }
   ],
   "source": [
    "#include <stdio.h>\n",
    "\n",
    "int x_plus_one();\n",
    "\n",
    "int main() {\n",
    "    printf(\"%d\\n\", x_plus_one());\n",
    "    printf(\"%d\\n\", x_plus_one());\n",
    "    printf(\"%d\\n\", x_plus_one());\n",
    "    return 0;\n",
    "}\n",
    "\n",
    "int x_plus_one() {\n",
    "    register int x = 10;         /* register (auto) local variable definition executed */\n",
    "                             /* with each function call */\n",
    "    return ++x;\n",
    "}"
   ]
  },
  {
   "cell_type": "markdown",
   "id": "d4a160a0",
   "metadata": {},
   "source": [
    "If mulitple *storage class specifiers* are used on a single local variable, the compiler throws an error."
   ]
  },
  {
   "cell_type": "code",
   "execution_count": 116,
   "id": "9013f604",
   "metadata": {},
   "outputs": [
    {
     "name": "stderr",
     "output_type": "stream",
     "text": [
      "/tmp/tmpze_ttdz4.c: In function ‘x_plus_one’:\n",
      "/tmp/tmpze_ttdz4.c:13:5: error: multiple storage classes in declaration specifiers\n",
      "   13 |     auto register int x = 10;         /* register (auto) local variable definition executed */\n",
      "      |     ^~~~\n",
      "[C kernel] GCC exited with code 1, the executable will not be executed"
     ]
    }
   ],
   "source": [
    "#include <stdio.h>\n",
    "\n",
    "int x_plus_one();\n",
    "\n",
    "int main() {\n",
    "    printf(\"%d\\n\", x_plus_one());\n",
    "    printf(\"%d\\n\", x_plus_one());\n",
    "    printf(\"%d\\n\", x_plus_one());\n",
    "    return 0;\n",
    "}\n",
    "\n",
    "int x_plus_one() {\n",
    "    auto register int x = 10;         /* register (auto) local variable definition executed */\n",
    "                             /* with each function call */\n",
    "    return ++x;\n",
    "}"
   ]
  },
  {
   "cell_type": "markdown",
   "id": "d601d46f",
   "metadata": {},
   "source": [
    "#### Global variables <a class=\"anchor\" id=\"global-variables\"></a>"
   ]
  },
  {
   "cell_type": "markdown",
   "id": "eb4cdca2",
   "metadata": {},
   "source": [
    "Variables defined outside a function have *global* scope. They can be accessed within any function in any file, as long as a declaration of the variable preceeds."
   ]
  },
  {
   "cell_type": "code",
   "execution_count": 77,
   "id": "3f527742",
   "metadata": {},
   "outputs": [
    {
     "name": "stdout",
     "output_type": "stream",
     "text": [
      "10"
     ]
    }
   ],
   "source": [
    "#include <stdio.h>\n",
    "\n",
    "int x = 10;      /* variable definition (and declaration) */\n",
    "\n",
    "int main() {\n",
    "    printf(\"%d\", x);\n",
    "    return 0;\n",
    "}"
   ]
  },
  {
   "cell_type": "markdown",
   "id": "7370e5a1",
   "metadata": {},
   "source": [
    "Explicitly uninitialized global variables are implicitly initialized to zero."
   ]
  },
  {
   "cell_type": "code",
   "execution_count": 101,
   "id": "8c133b00",
   "metadata": {},
   "outputs": [
    {
     "name": "stdout",
     "output_type": "stream",
     "text": [
      "0"
     ]
    }
   ],
   "source": [
    "#include <stdio.h>\n",
    "\n",
    "int x;        /* variable definition (and declaration) */\n",
    "\n",
    "int main() {\n",
    "    printf(\"%d\", x);\n",
    "    return 0;\n",
    "}"
   ]
  },
  {
   "cell_type": "markdown",
   "id": "1d52fe87",
   "metadata": {},
   "source": [
    "The keyword `extern` is used to declare variables, that may be defined later in the file, or within another file."
   ]
  },
  {
   "cell_type": "code",
   "execution_count": 106,
   "id": "1fc30076",
   "metadata": {},
   "outputs": [
    {
     "name": "stdout",
     "output_type": "stream",
     "text": [
      "23"
     ]
    }
   ],
   "source": [
    "//%cflags: .jupyter/x_def.c\n",
    "\n",
    "#include <stdio.h>\n",
    "\n",
    "extern int x;      /* Variable declaration */\n",
    "                   /* Variable definition resides in '.jupyter/x_def.c' */\n",
    "\n",
    "int main() {\n",
    "    printf(\"%d\", x);\n",
    "    return 0;\n",
    "}"
   ]
  },
  {
   "cell_type": "markdown",
   "id": "9ae39ae2",
   "metadata": {},
   "source": [
    "`static` global variables may not be accessed within another file."
   ]
  },
  {
   "cell_type": "code",
   "execution_count": 108,
   "id": "96f9c66b",
   "metadata": {},
   "outputs": [
    {
     "name": "stderr",
     "output_type": "stream",
     "text": [
      "/tmp/tmpy32z25fi.out: /tmp/tmpqrzuawqj.out: undefined symbol: x\n",
      "[C kernel] Executable exited with code 1"
     ]
    }
   ],
   "source": [
    "//%cflags: .jupyter/x_def_static.c\n",
    "\n",
    "#include <stdio.h>\n",
    "\n",
    "extern int x;      /* Variable declaration */\n",
    "                   /* Static variable definition resides in '.jupyter/x_def_static.c' */\n",
    "\n",
    "int main() {\n",
    "    printf(\"%d\", x);\n",
    "    return 0;\n",
    "}"
   ]
  },
  {
   "cell_type": "markdown",
   "id": "20cbf417",
   "metadata": {},
   "source": [
    "### Casting <a class=\"anchor\" id=\"casting\"></a>"
   ]
  },
  {
   "cell_type": "markdown",
   "id": "4d9135e7",
   "metadata": {},
   "source": [
    "In C, *implicit casting* of one data type into another never throws any error."
   ]
  },
  {
   "cell_type": "code",
   "execution_count": 135,
   "id": "2cb1efbb",
   "metadata": {},
   "outputs": [
    {
     "name": "stdout",
     "output_type": "stream",
     "text": [
      "13"
     ]
    }
   ],
   "source": [
    "#include <stdio.h>\n",
    "\n",
    "int main() {\n",
    "    float x = 13.0f;             /* float literal, discussed later */\n",
    "    printf(\"%d\", (int) x);\n",
    "    return 0;\n",
    "}"
   ]
  },
  {
   "cell_type": "markdown",
   "id": "c5774f6a",
   "metadata": {},
   "source": [
    "In arithmetic or comparison operations, the C compiler follows a number of casting rules:\n",
    "* `char` and `short` types are promoted to `int` by default.\n",
    "* If different integer data types are present, implicit conversion occurs towards the largest data type.\n",
    "* If `signed` and `unsigned` data types are present, implicit conversion occurs towards the `unsigned` data type.\n",
    "* If integer and floating-point types are present, implicit conversion occurs towards the floating-point data type.\n",
    "* If different floating-point types are present, implicit conversion occurs towards the largest floating-point data type."
   ]
  },
  {
   "cell_type": "code",
   "execution_count": 192,
   "id": "d073bf78",
   "metadata": {},
   "outputs": [
    {
     "name": "stdout",
     "output_type": "stream",
     "text": [
      "4294967295"
     ]
    }
   ],
   "source": [
    "#include <stdio.h>\n",
    "\n",
    "                    /* signed to unsigned */\n",
    "int main() {\n",
    "    signed int x = -1; \n",
    "    printf(\"%u\", x);         /* print as unsigned, discussed later */\n",
    "    return 0;\n",
    "}"
   ]
  },
  {
   "cell_type": "code",
   "execution_count": 193,
   "id": "88e1f4f1",
   "metadata": {},
   "outputs": [
    {
     "name": "stdout",
     "output_type": "stream",
     "text": [
      "-1"
     ]
    }
   ],
   "source": [
    "#include <stdio.h>\n",
    "\n",
    "                    /* unsigned to signed */\n",
    "int main() {\n",
    "    unsigned int x = 4294967295; \n",
    "    printf(\"%d\", x);                  /* print as signed, discussed later */\n",
    "    return 0;\n",
    "}"
   ]
  },
  {
   "cell_type": "markdown",
   "id": "36db554d",
   "metadata": {},
   "source": [
    "*Note:* The bits remain unchanged while casting from `signed` to `unsigned`, and vice versa."
   ]
  },
  {
   "cell_type": "code",
   "execution_count": 163,
   "id": "035a0465",
   "metadata": {},
   "outputs": [
    {
     "name": "stdout",
     "output_type": "stream",
     "text": [
      "1"
     ]
    }
   ],
   "source": [
    "#include <stdio.h>\n",
    "\n",
    "                    /* unsigned int to unsigned long long */\n",
    "int main() {\n",
    "    unsigned int x = 1; \n",
    "    printf(\"%llu\", (unsigned long long) x);         /* print as unsigned long long, discussed later */\n",
    "    return 0;\n",
    "}"
   ]
  },
  {
   "cell_type": "code",
   "execution_count": 191,
   "id": "13a0cce8",
   "metadata": {},
   "outputs": [
    {
     "name": "stdout",
     "output_type": "stream",
     "text": [
      "-1\n",
      "1\n"
     ]
    }
   ],
   "source": [
    "#include <stdio.h>\n",
    "\n",
    "                    /* signed int to signed long long */\n",
    "int main() {\n",
    "    signed int x = -1; \n",
    "    printf(\"%lld\\n\", (signed long long) x);         /* print as signed long long, discussed later */\n",
    "    \n",
    "    x = 1; \n",
    "    printf(\"%lld\\n\", (signed long long) x);\n",
    "    return 0;\n",
    "}"
   ]
  },
  {
   "cell_type": "markdown",
   "id": "7f823242",
   "metadata": {},
   "source": [
    "*Note:* Casting an integer data type into a larger data type, the bits will be zero-expanded if it is `signed` and non-negative, or `unsigned`. It will be one-expanded if it is `signed` and negative."
   ]
  },
  {
   "cell_type": "code",
   "execution_count": 170,
   "id": "eea60a0f",
   "metadata": {},
   "outputs": [
    {
     "name": "stdout",
     "output_type": "stream",
     "text": [
      "255"
     ]
    }
   ],
   "source": [
    "#include <stdio.h>\n",
    "#include <limits.h>\n",
    "\n",
    "                    /* signed int to signed long long */\n",
    "int main() {\n",
    "    unsigned int x = UINT_MAX; \n",
    "    printf(\"%u\", (unsigned char) x);\n",
    "}"
   ]
  },
  {
   "cell_type": "markdown",
   "id": "103217de",
   "metadata": {},
   "source": [
    "*Note:* Casting an integer data type into a smaller data type, bits are simply omitted."
   ]
  },
  {
   "cell_type": "markdown",
   "id": "7cdc1799",
   "metadata": {},
   "source": [
    "### Literals <a class=\"anchor\" id=\"literals\"></a>"
   ]
  },
  {
   "cell_type": "markdown",
   "id": "c7519c5e",
   "metadata": {},
   "source": [
    "#### Integer Literals <a class=\"anchor\" id=\"integer-literals\"></a>"
   ]
  },
  {
   "cell_type": "markdown",
   "id": "d29aa2c7",
   "metadata": {},
   "source": [
    "| *Prefix* | *Type* | \n",
    "| --- | --- | \n",
    "|  | Decimal |\n",
    "| `0x` | Hexadecimal |\n",
    "| `0` | Octal |\n",
    "| `0b` | Binary |"
   ]
  },
  {
   "cell_type": "markdown",
   "id": "5413e564",
   "metadata": {},
   "source": [
    "| *Suffix* | *Type* | \n",
    "| --- | --- | \n",
    "|  | `int` <br> `long int` <br> `long long int` |\n",
    "| `u`, `U` | `unsigned int` <br> `unsigned long int` <br> `unsigned long long int` |\n",
    "| `l`, `L` | `long int` |\n",
    "| `ll`, `LL`  | `long long int` |\n",
    "| `ul`, `uL`, `Ul`, `UL` | `unsigned long int` |\n",
    "| `ull`, `uLL`, `Ull`, `ULL` | `unsigned long long int` |"
   ]
  },
  {
   "cell_type": "markdown",
   "id": "93445b5e",
   "metadata": {},
   "source": [
    "*Note:* If a value is too large for its data type, the compiler issues a warning."
   ]
  },
  {
   "cell_type": "markdown",
   "id": "69ef56a6",
   "metadata": {},
   "source": [
    "#### Floating-point Literals <a class=\"anchor\" id=\"floating-point-literals\"></a>"
   ]
  },
  {
   "cell_type": "markdown",
   "id": "a4c39e39",
   "metadata": {},
   "source": [
    "| *Valid Format* | *Example* |\n",
    "| --- | --- |\n",
    "| *int.frac* | 1.1\n",
    "| *int.* | 1.\n",
    "| *.frac* | .1\n",
    "| *int-e-exp* | 1e-1"
   ]
  },
  {
   "cell_type": "markdown",
   "id": "3aba1c8e",
   "metadata": {},
   "source": [
    "| *Suffix* | *Type* |\n",
    "| --- | --- |\n",
    "|  | `double`\n",
    "| `f`, `F` | `float`\n",
    "| `l`, `L` | `long double`"
   ]
  },
  {
   "cell_type": "markdown",
   "id": "dab4fc5c",
   "metadata": {},
   "source": [
    "#### Character Literals <a class=\"anchor\" id=\"character-literals\"></a>"
   ]
  },
  {
   "cell_type": "markdown",
   "id": "8a8b1a16",
   "metadata": {},
   "source": [
    "A *character literal* is simply a `char`, which value of is the *ASCII* code of the corresponding character."
   ]
  },
  {
   "cell_type": "markdown",
   "id": "8c29db33",
   "metadata": {},
   "source": [
    "| *Example* | *ASCII code* |\n",
    "| --- | --- |\n",
    "| `'a'` | 97\n",
    "| `'0'` | 48\n",
    "| `'\\n'` | 10\n",
    "| `'\\0'` | 0\n",
    "| `'\"'` | 34"
   ]
  },
  {
   "cell_type": "markdown",
   "id": "6fa95329",
   "metadata": {},
   "source": []
  }
 ],
 "metadata": {
  "kernelspec": {
   "display_name": "C",
   "language": "c",
   "name": "c"
  },
  "language_info": {
   "file_extension": ".c",
   "mimetype": "text/plain",
   "name": "c"
  }
 },
 "nbformat": 4,
 "nbformat_minor": 5
}
