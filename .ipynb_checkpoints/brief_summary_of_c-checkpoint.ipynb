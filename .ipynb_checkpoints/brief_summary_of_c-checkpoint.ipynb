{
 "cells": [
  {
   "cell_type": "markdown",
   "id": "0971233f",
   "metadata": {},
   "source": [
    "# A brief summary of C (89, 99, 11)\n",
    "<br>\n",
    "<div style=\"opacity: 0.8; font-family: Consolas, Monaco, Lucida Console, Liberation Mono, DejaVu Sans Mono, Bitstream Vera Sans Mono, Courier New; font-size: 12px; font-style: italic;\">\n",
    "    ────────\n",
    "    for more from the author, visit\n",
    "    <a href=\"https://github.com/hazemanwer2000\">github.com/hazemanwer2000</a>.\n",
    "    ────────\n",
    "</div>"
   ]
  },
  {
   "cell_type": "markdown",
   "id": "28855350",
   "metadata": {},
   "source": [
    "## Table of Contents\n",
    "* [The Compilation Process](#the-compilation-process)\n",
    "* [Data Types](#data-types)\n",
    "* [Operators](#operators)\n",
    "* [The Fundamentals](#the-fundamentals)\n",
    "    * [Functions](#functions)\n",
    "    * [Variables](#variables)\n",
    "        * [Local Variables](#local-variables)\n",
    "        * [Global Variables](#global-variables)\n",
    "    * [Casting](#casting)\n",
    "    * [Literals](#literals)\n",
    "        * [Integer Literals](#integer-literals)\n",
    "        * [Floating-point Literals](#floating-point-literals)\n",
    "        * [Character Literals](#character-literals)\n",
    "    * [Conditional Execution](#conditional-execution)\n",
    "* [Pointers](#pointers)\n",
    "    * [`void *`](#void)\n",
    "    * [Function Pointers](#function-pointers)\n",
    "<hr>"
   ]
  },
  {
   "cell_type": "markdown",
   "id": "fab2a185",
   "metadata": {},
   "source": [
    "Every C program must contain a single `main` function across all files. It is the entry point of the program.\n",
    "\n",
    "When running as bare-metal firmware, the function returns nothing. When running on an OS, the function returns a value to the OS, indicating its exit status."
   ]
  },
  {
   "cell_type": "code",
   "execution_count": 23,
   "id": "65de4bff",
   "metadata": {},
   "outputs": [],
   "source": [
    "int main() {\n",
    "    return 0;\n",
    "}"
   ]
  },
  {
   "cell_type": "markdown",
   "id": "c21c109c",
   "metadata": {},
   "source": [
    "## The Compilation Process <a class=\"anchor\" id=\"the-compilation-process\"></a>"
   ]
  },
  {
   "cell_type": "markdown",
   "id": "c23aafb9",
   "metadata": {},
   "source": [
    "Files in *C* are either *source* files, `*.c`, or *header* files, `*.h`."
   ]
  },
  {
   "cell_type": "markdown",
   "id": "8ba72956",
   "metadata": {},
   "source": [
    "*Note:* Header files are ignored throughout the compilation process."
   ]
  },
  {
   "cell_type": "markdown",
   "id": "dd8ad4c4",
   "metadata": {},
   "source": [
    "*Note:* The compiler used throughout this notebook is *GCC* (GNU Compiler Collection). The term *compiler* used here is an umbrella term for all tools used throughout the compilation process, usually lumped together under a single executable."
   ]
  },
  {
   "cell_type": "markdown",
   "id": "5427cacd",
   "metadata": {},
   "source": [
    "The first stage in the compilation process is the *preprocessing* stage. The **preprocessor** reads and executes *directives* in `*.c` files, outputting a `*.i` file for each `*.c` file."
   ]
  },
  {
   "cell_type": "markdown",
   "id": "76677843",
   "metadata": {},
   "source": [
    "`gcc -E *.c > *.i`"
   ]
  },
  {
   "cell_type": "markdown",
   "id": "93290288",
   "metadata": {},
   "source": [
    "*Note:* Only a single file may be preprocessed at a time."
   ]
  },
  {
   "cell_type": "markdown",
   "id": "af47e168",
   "metadata": {},
   "source": [
    "The second stage is the *compilation* stage. The **compiler** (proper) *compiles* each `*.i` file into a `*.s` file, translating C code into assembly instructions of the *target architecture*. Hence, compilers are architecture-dependent, but platform-independent."
   ]
  },
  {
   "cell_type": "markdown",
   "id": "e7fb6b6c",
   "metadata": {},
   "source": [
    "*Note:* An *architecture* is a family of *platforms* that share the same *ISA* (Instruction Set Architecture)."
   ]
  },
  {
   "cell_type": "markdown",
   "id": "9b3740fd",
   "metadata": {},
   "source": [
    "`gcc -S *.i`"
   ]
  },
  {
   "cell_type": "markdown",
   "id": "d19b7618",
   "metadata": {},
   "source": [
    "*Note:* Passing a `*.c` file instead, it will be preprocessed in the background, before it is compiled."
   ]
  },
  {
   "cell_type": "markdown",
   "id": "0c7e4301",
   "metadata": {},
   "source": [
    "The third stage is the *assembly* stage. The **assembler** assembles each `*.s` file into an `*.o*` object file, translating assembly instructions into machine code."
   ]
  },
  {
   "cell_type": "markdown",
   "id": "e858948f",
   "metadata": {},
   "source": [
    "`gcc -c *.s`"
   ]
  },
  {
   "cell_type": "markdown",
   "id": "361c7528",
   "metadata": {},
   "source": [
    "*Note:* Passing a `*.c` or `*.i` file instead, it will be preprocessed and compiled in the background, before it is assembled."
   ]
  },
  {
   "cell_type": "markdown",
   "id": "1269112e",
   "metadata": {},
   "source": [
    "While compiling and assembling, files are handled separately. Declared but undefined symbols within a single file are left symbolic, for the **linker** to resolve.\n",
    "\n",
    "The fourth stage is the *linking* stage. The linker *links* all input `*.o*` files into a single *relocatable file*, by resolving symbolic associations between files."
   ]
  },
  {
   "cell_type": "markdown",
   "id": "57ca84cd",
   "metadata": {},
   "source": [
    "*Note:* A *declaration* acknowledges the existence of a *definition*, in the same or in a different source file. It does not allocate memory."
   ]
  },
  {
   "cell_type": "markdown",
   "id": "cf6888f1",
   "metadata": {},
   "source": [
    "In the fifth and final stage, the **locator** uses the *linker map file* of the *target platform* to map the memory regions within the relocatable file according to the target's memory map. The final output is a single *executable*, able to run on the target platform.\n",
    "\n",
    "Usually, there is no intermediary output between both stages, and *symbolic resolution* and *relocation* are performed by the linker, implicity calling or implementing the locator. The linker is, hence, platform-dependent."
   ]
  },
  {
   "cell_type": "markdown",
   "id": "1930e8d6",
   "metadata": {},
   "source": [
    "`gcc *.o -o run.exe`"
   ]
  },
  {
   "cell_type": "markdown",
   "id": "87db90ef",
   "metadata": {},
   "source": [
    "*Note:* Passing a `*.c`, `*.i` or `*.s` file instead, it will be preprocessed, compiled and assembled in the background."
   ]
  },
  {
   "cell_type": "markdown",
   "id": "50839052",
   "metadata": {},
   "source": [
    "## Data Types <a class=\"anchor\" id=\"data-types\"></a>"
   ]
  },
  {
   "cell_type": "markdown",
   "id": "4e362787",
   "metadata": {},
   "source": [
    "* Arithmetic Types\n",
    "    * Integer Types\n",
    "        * Size: *1 byte*\n",
    "            * `unsigned char`\n",
    "            * `signed char`\n",
    "        * Size: *2 bytes*\n",
    "            * `unsigned short int`\n",
    "            * `signed short int`\n",
    "        * Size: *2 or 4 bytes*\n",
    "            * `unsigned int`\n",
    "            * `signed int`\n",
    "        * Size: *4 or 8 bytes*\n",
    "            * `unsigned long int`\n",
    "            * `signed long int`\n",
    "        * Size: *8 bytes*\n",
    "            * `unsigned long long int`\n",
    "            * `signed long long int`\n",
    "    * Floating-point Types\n",
    "        * Size: *4 bytes*\n",
    "            * `float`\n",
    "        * Size: *8 bytes*\n",
    "            * `double`\n",
    "        * Size: *10 bytes*\n",
    "            * `long double`\n",
    "* Derived Types\n",
    "    * Functions\n",
    "    * Pointers\n",
    "    * Arrays\n",
    "    * Structures\n",
    "    * Unions\n",
    "* Enumerations\n",
    "* `void`"
   ]
  },
  {
   "cell_type": "markdown",
   "id": "026ccdb9",
   "metadata": {},
   "source": [
    "*Note:* Omitting the `unsigned` keyword, the integer data type will default to `signed`."
   ]
  },
  {
   "cell_type": "markdown",
   "id": "70487724",
   "metadata": {},
   "source": [
    "*Note:* For non-`char` integer data types, the `int` keyword may be omitted."
   ]
  },
  {
   "cell_type": "markdown",
   "id": "223af65f",
   "metadata": {},
   "source": [
    "## Operators <a class=\"anchor\" id=\"operators\"></a>"
   ]
  },
  {
   "cell_type": "markdown",
   "id": "564c19a0",
   "metadata": {},
   "source": [
    " | *Operator* | *Associativity* | *Precedence* |\n",
    "| --- | --- | |\n",
    "| `()` `[]` `->` `.` | *left-to-right* | ↑ |\n",
    "| `++` `--` `+` `-` `!` `~` *`(type)`* `*` `&` `sizeof` | *right-to-left* |\n",
    "| `*` `/` `%` | *left-to-right* |\n",
    "| `+` `-` | *left-to-right* |\n",
    "| `<<` `>>` | *left-to-right* |\n",
    "| `<` `<=` `>` `>=` | *left-to-right* |\n",
    "| `==` `!=` | *left-to-right* |\n",
    "| `&` | *left-to-right* |\n",
    "| `^` | *left-to-right* |\n",
    "| `\\|` | *left-to-right* |\n",
    "| `&&` | *left-to-right* |\n",
    "| `\\|\\|` | *left-to-right* |\n",
    "| `?:` | *right-to-left* |\n",
    "| `=` `+=` `-=` `*=` `/=` `%=` `&=` `^=` `\\|=` `<<=` `>>=` | *right-to-left* |\n",
    "| `,` | *left-to-right* | ↓ |"
   ]
  },
  {
   "cell_type": "markdown",
   "id": "d1fc31c1",
   "metadata": {},
   "source": [
    "## The Fundamentals <a class=\"anchor\" id=\"the-fundamentals\"></a>"
   ]
  },
  {
   "cell_type": "markdown",
   "id": "e1d57e81",
   "metadata": {},
   "source": [
    "### Functions <a class=\"anchor\" id=\"functions\"></a>"
   ]
  },
  {
   "cell_type": "markdown",
   "id": "635e6b96",
   "metadata": {},
   "source": [
    "The C compiler (proper) is a single-pass compiler. Hence, to perform type-checking on passed function parameters, a function declaration (also called *prototype*) should be present before a function call. "
   ]
  },
  {
   "cell_type": "code",
   "execution_count": 41,
   "id": "b134c551",
   "metadata": {},
   "outputs": [
    {
     "name": "stdout",
     "output_type": "stream",
     "text": [
      "11"
     ]
    }
   ],
   "source": [
    "#include <stdio.h>\n",
    "\n",
    "int add(int x, int y) {   /* function definition (and declaration) */\n",
    "    return x + y;\n",
    "}\n",
    "\n",
    "int main() {\n",
    "    int x = 5;\n",
    "    int y = 6;\n",
    "    int sum = add(x, y);\n",
    "    printf(\"%d\", sum);\n",
    "    return 0;\n",
    "}"
   ]
  },
  {
   "cell_type": "code",
   "execution_count": 37,
   "id": "e133c41a",
   "metadata": {},
   "outputs": [
    {
     "name": "stdout",
     "output_type": "stream",
     "text": [
      "11"
     ]
    }
   ],
   "source": [
    "#include <stdio.h>\n",
    "\n",
    "int add(int x, int y);   /* function declaration */\n",
    "\n",
    "int main() {\n",
    "    int x = 5;\n",
    "    int y = 6;\n",
    "    int sum = add(x, y);\n",
    "    printf(\"%d\", sum);\n",
    "    return 0;\n",
    "}\n",
    "\n",
    "int add(int x, int y) {   /* function definition (and declaration) */\n",
    "    return x + y;\n",
    "}"
   ]
  },
  {
   "cell_type": "markdown",
   "id": "a8c5aed7",
   "metadata": {},
   "source": [
    "If a function declaration is missing before a function call, the compiler issues a warning."
   ]
  },
  {
   "cell_type": "code",
   "execution_count": 39,
   "id": "d0ca07bd",
   "metadata": {},
   "outputs": [
    {
     "name": "stderr",
     "output_type": "stream",
     "text": [
      "/tmp/tmpe6jm12l2.c: In function ‘main’:\n",
      "/tmp/tmpe6jm12l2.c:6:15: warning: implicit declaration of function ‘add’ [-Wimplicit-function-declaration]\n",
      "    6 |     int sum = add(x, y);\n",
      "      |               ^~~\n"
     ]
    },
    {
     "name": "stdout",
     "output_type": "stream",
     "text": [
      "11"
     ]
    }
   ],
   "source": [
    "#include <stdio.h>\n",
    "\n",
    "int main() {\n",
    "    int x = 5;\n",
    "    int y = 6;\n",
    "    int sum = add(x, y);\n",
    "    printf(\"%d\", sum);\n",
    "    return 0;\n",
    "}\n",
    "\n",
    "int add(int x, int y) {   /* function definition (and declaration) */\n",
    "    return x + y;\n",
    "}"
   ]
  },
  {
   "cell_type": "markdown",
   "id": "339b3429",
   "metadata": {},
   "source": [
    "Usually, a `*.h` file contains function declarations of functions in the corresponding `*.c` file. The `#include` directive is used to include the content of another file, usually a `*.h` file, into a `*.c` file."
   ]
  },
  {
   "cell_type": "code",
   "execution_count": 47,
   "id": "b151b67c",
   "metadata": {},
   "outputs": [
    {
     "name": "stdout",
     "output_type": "stream",
     "text": [
      "Hi!"
     ]
    }
   ],
   "source": [
    "#include <stdio.h>       /* Standard Library IO functions prototypes. */ \n",
    "                         /* Standard Library function definitions are linked to, automatically. */\n",
    "\n",
    "int main() {\n",
    "    printf(\"Hi!\");       /* 'printf' prototype defined in 'stdio.h' */\n",
    "    return 0;\n",
    "}"
   ]
  },
  {
   "cell_type": "markdown",
   "id": "6c3afff0",
   "metadata": {},
   "source": [
    "*Note:* The `#include` directive is recursive. Any directives in the included file are further executed."
   ]
  },
  {
   "cell_type": "markdown",
   "id": "924a5768",
   "metadata": {},
   "source": [
    "A *static* function may not be referenced outside the file it is defined in."
   ]
  },
  {
   "cell_type": "code",
   "execution_count": 50,
   "id": "6316edd4",
   "metadata": {},
   "outputs": [
    {
     "name": "stdout",
     "output_type": "stream",
     "text": [
      "11"
     ]
    }
   ],
   "source": [
    "#include <stdio.h>\n",
    "\n",
    "static int add(int x, int y);      /* static function declaration */\n",
    "\n",
    "int main() {\n",
    "    int x = 5;\n",
    "    int y = 6;\n",
    "    int sum = add(x, y);\n",
    "    printf(\"%d\", sum);\n",
    "    return 0;\n",
    "}\n",
    "\n",
    "static int add(int x, int y) {       /* static function definition */\n",
    "    return x + y;\n",
    "}"
   ]
  },
  {
   "cell_type": "markdown",
   "id": "4bc21520",
   "metadata": {},
   "source": [
    "If a static function is referenced outside the file it is defined in, the linker throws an error."
   ]
  },
  {
   "cell_type": "code",
   "execution_count": 65,
   "id": "b7283f47",
   "metadata": {},
   "outputs": [
    {
     "name": "stdout",
     "output_type": "stream",
     "text": [
      "3"
     ]
    }
   ],
   "source": [
    "//%cflags: .jupyter/add.c\n",
    "\n",
    "#include <stdio.h>\n",
    "\n",
    "int add(int x, int y);           /* 'add' is a global (non-static) function declaration */\n",
    "                                 /* to a global function definition in another file */\n",
    "\n",
    "int main() {\n",
    "    printf(\"%d\", add(1, 2));\n",
    "    return 0;\n",
    "}"
   ]
  },
  {
   "cell_type": "code",
   "execution_count": 66,
   "id": "e9a54733",
   "metadata": {},
   "outputs": [
    {
     "name": "stderr",
     "output_type": "stream",
     "text": [
      "/tmp/tmpy32z25fi.out: symbol lookup error: /tmp/tmpcjdsntr8.out: undefined symbol: add\n",
      "[C kernel] Executable exited with code 127"
     ]
    }
   ],
   "source": [
    "//%cflags: .jupyter/add_static.c\n",
    "\n",
    "#include <stdio.h>\n",
    "\n",
    "int add(int x, int y);           /* 'add' is a global function declaration */\n",
    "                                 /* to a static function definition in another file */\n",
    "                                 \n",
    "int main() {\n",
    "    printf(\"%d\", add(1, 2));\n",
    "    return 0;\n",
    "}"
   ]
  },
  {
   "cell_type": "markdown",
   "id": "6c1a9bbd",
   "metadata": {},
   "source": [
    "If a static function declaration is present before a function call, while the function definition is missing, the compiler issues a warning only."
   ]
  },
  {
   "cell_type": "code",
   "execution_count": 72,
   "id": "63965fd1",
   "metadata": {},
   "outputs": [
    {
     "name": "stderr",
     "output_type": "stream",
     "text": [
      "/tmp/tmpwmvlfefi.c:3:12: warning: ‘add’ used but never defined\n",
      "    3 | static int add(int x, int y);\n",
      "      |            ^~~\n",
      "/tmp/tmpy32z25fi.out: symbol lookup error: /tmp/tmpv305fucn.out: undefined symbol: add\n",
      "[C kernel] Executable exited with code 127"
     ]
    }
   ],
   "source": [
    "#include <stdio.h>\n",
    "\n",
    "static int add(int x, int y);\n",
    "\n",
    "int main() {\n",
    "    printf(\"%d\", add(1, 2));\n",
    "    return 0;\n",
    "}"
   ]
  },
  {
   "cell_type": "markdown",
   "id": "cf81cc46",
   "metadata": {},
   "source": [
    "In C, function parameters are passed by value."
   ]
  },
  {
   "cell_type": "code",
   "execution_count": 48,
   "id": "08400d8e",
   "metadata": {
    "scrolled": true
   },
   "outputs": [
    {
     "name": "stdout",
     "output_type": "stream",
     "text": [
      "5"
     ]
    }
   ],
   "source": [
    "#include <stdio.h>\n",
    "\n",
    "void increment(int x) {\n",
    "    x++; \n",
    "}\n",
    "\n",
    "int main() {\n",
    "    int x = 5;\n",
    "    increment(x);\n",
    "    printf(\"%d\", x);\n",
    "}"
   ]
  },
  {
   "cell_type": "markdown",
   "id": "9a6ead6e",
   "metadata": {},
   "source": [
    "### Variables <a class=\"anchor\" id=\"variables\"></a>"
   ]
  },
  {
   "cell_type": "markdown",
   "id": "2724f3f4",
   "metadata": {},
   "source": [
    "#### Local Variables <a class=\"anchor\" id=\"local-variables\"></a>"
   ]
  },
  {
   "cell_type": "markdown",
   "id": "7a7e17b9",
   "metadata": {},
   "source": [
    "Variables defined within a function have *local* scope. They can only be accessed within that function."
   ]
  },
  {
   "cell_type": "code",
   "execution_count": 98,
   "id": "5aa49280",
   "metadata": {},
   "outputs": [
    {
     "name": "stdout",
     "output_type": "stream",
     "text": [
      "10"
     ]
    }
   ],
   "source": [
    "#include <stdio.h>\n",
    "\n",
    "int main() {\n",
    "    int x = 10;\n",
    "    printf(\"%d\", x);\n",
    "    return 0;\n",
    "}"
   ]
  },
  {
   "cell_type": "markdown",
   "id": "78c12122",
   "metadata": {},
   "source": [
    "Uninitialized local variables contain *garbage* values."
   ]
  },
  {
   "cell_type": "code",
   "execution_count": 100,
   "id": "60c0301b",
   "metadata": {},
   "outputs": [
    {
     "name": "stdout",
     "output_type": "stream",
     "text": [
      "32767"
     ]
    }
   ],
   "source": [
    "#include <stdio.h>\n",
    "\n",
    "int main() {\n",
    "    int x;\n",
    "    printf(\"%d\", x);\n",
    "    return 0;\n",
    "}"
   ]
  },
  {
   "cell_type": "markdown",
   "id": "3dffd9da",
   "metadata": {},
   "source": [
    "Local variables may be `auto` or `static`. `auto` local variables are allocated and deallocated with each function call. `static` local variables persist throughout the lifetime of the program."
   ]
  },
  {
   "cell_type": "code",
   "execution_count": 90,
   "id": "238fe785",
   "metadata": {},
   "outputs": [
    {
     "name": "stdout",
     "output_type": "stream",
     "text": [
      "11\n",
      "11\n",
      "11\n"
     ]
    }
   ],
   "source": [
    "#include <stdio.h>\n",
    "\n",
    "int x_plus_one();\n",
    "\n",
    "int main() {\n",
    "    printf(\"%d\\n\", x_plus_one());\n",
    "    printf(\"%d\\n\", x_plus_one());\n",
    "    printf(\"%d\\n\", x_plus_one());\n",
    "    return 0;\n",
    "}\n",
    "\n",
    "int x_plus_one() {\n",
    "    auto int x = 10;         /* auto local variable definition executed */\n",
    "                             /* with each function call */\n",
    "    return ++x;\n",
    "}"
   ]
  },
  {
   "cell_type": "code",
   "execution_count": 91,
   "id": "68bf7649",
   "metadata": {},
   "outputs": [
    {
     "name": "stdout",
     "output_type": "stream",
     "text": [
      "11\n",
      "12\n",
      "13\n"
     ]
    }
   ],
   "source": [
    "#include <stdio.h>\n",
    "\n",
    "int x_plus_one();\n",
    "\n",
    "int main() {\n",
    "    printf(\"%d\\n\", x_plus_one());\n",
    "    printf(\"%d\\n\", x_plus_one());\n",
    "    printf(\"%d\\n\", x_plus_one());\n",
    "    return 0;\n",
    "}\n",
    "\n",
    "int x_plus_one() {\n",
    "    static int x = 10;         /* static local variable definition executed */\n",
    "                               /* once only at start of program, and not with */\n",
    "                               /* each function call */\n",
    "    return ++x;\n",
    "}"
   ]
  },
  {
   "cell_type": "markdown",
   "id": "1212acfa",
   "metadata": {},
   "source": [
    "*Note:* Local variables are `auto` by default."
   ]
  },
  {
   "cell_type": "markdown",
   "id": "173ca99c",
   "metadata": {},
   "source": [
    "Local variables may also be `register`. The `register` keyword tells the compiler to allocate and deallocate memory with each function call, in one of the CPU's registers."
   ]
  },
  {
   "cell_type": "code",
   "execution_count": 115,
   "id": "0f72c1b8",
   "metadata": {},
   "outputs": [
    {
     "name": "stdout",
     "output_type": "stream",
     "text": [
      "11\n",
      "11\n",
      "11\n"
     ]
    }
   ],
   "source": [
    "#include <stdio.h>\n",
    "\n",
    "int x_plus_one();\n",
    "\n",
    "int main() {\n",
    "    printf(\"%d\\n\", x_plus_one());\n",
    "    printf(\"%d\\n\", x_plus_one());\n",
    "    printf(\"%d\\n\", x_plus_one());\n",
    "    return 0;\n",
    "}\n",
    "\n",
    "int x_plus_one() {\n",
    "    register int x = 10;         /* register (auto) local variable definition executed */\n",
    "                             /* with each function call */\n",
    "    return ++x;\n",
    "}"
   ]
  },
  {
   "cell_type": "markdown",
   "id": "0860060c",
   "metadata": {},
   "source": [
    "If mulitple *storage class specifiers* are used on a single local variable, the compiler throws an error."
   ]
  },
  {
   "cell_type": "code",
   "execution_count": 116,
   "id": "c89cf9d3",
   "metadata": {},
   "outputs": [
    {
     "name": "stderr",
     "output_type": "stream",
     "text": [
      "/tmp/tmpze_ttdz4.c: In function ‘x_plus_one’:\n",
      "/tmp/tmpze_ttdz4.c:13:5: error: multiple storage classes in declaration specifiers\n",
      "   13 |     auto register int x = 10;         /* register (auto) local variable definition executed */\n",
      "      |     ^~~~\n",
      "[C kernel] GCC exited with code 1, the executable will not be executed"
     ]
    }
   ],
   "source": [
    "#include <stdio.h>\n",
    "\n",
    "int x_plus_one();\n",
    "\n",
    "int main() {\n",
    "    printf(\"%d\\n\", x_plus_one());\n",
    "    printf(\"%d\\n\", x_plus_one());\n",
    "    printf(\"%d\\n\", x_plus_one());\n",
    "    return 0;\n",
    "}\n",
    "\n",
    "int x_plus_one() {\n",
    "    auto register int x = 10;         /* register (auto) local variable definition executed */\n",
    "                             /* with each function call */\n",
    "    return ++x;\n",
    "}"
   ]
  },
  {
   "cell_type": "markdown",
   "id": "8675a45e",
   "metadata": {},
   "source": [
    "#### Global variables <a class=\"anchor\" id=\"global-variables\"></a>"
   ]
  },
  {
   "cell_type": "markdown",
   "id": "13d0e6c6",
   "metadata": {},
   "source": [
    "Variables defined outside a function have *global* scope. They can be accessed within any function in any file, as long as a declaration of the variable preceeds."
   ]
  },
  {
   "cell_type": "code",
   "execution_count": 77,
   "id": "1819096b",
   "metadata": {},
   "outputs": [
    {
     "name": "stdout",
     "output_type": "stream",
     "text": [
      "10"
     ]
    }
   ],
   "source": [
    "#include <stdio.h>\n",
    "\n",
    "int x = 10;      /* variable definition (and declaration) */\n",
    "\n",
    "int main() {\n",
    "    printf(\"%d\", x);\n",
    "    return 0;\n",
    "}"
   ]
  },
  {
   "cell_type": "markdown",
   "id": "a7c69415",
   "metadata": {},
   "source": [
    "Explicitly uninitialized global variables are implicitly initialized to zero."
   ]
  },
  {
   "cell_type": "code",
   "execution_count": 101,
   "id": "f7094883",
   "metadata": {},
   "outputs": [
    {
     "name": "stdout",
     "output_type": "stream",
     "text": [
      "0"
     ]
    }
   ],
   "source": [
    "#include <stdio.h>\n",
    "\n",
    "int x;        /* variable definition (and declaration) */\n",
    "\n",
    "int main() {\n",
    "    printf(\"%d\", x);\n",
    "    return 0;\n",
    "}"
   ]
  },
  {
   "cell_type": "markdown",
   "id": "8c44cfc8",
   "metadata": {},
   "source": [
    "The keyword `extern` is used to declare variables, that may be defined later in the file, or within another file."
   ]
  },
  {
   "cell_type": "code",
   "execution_count": 106,
   "id": "db9131db",
   "metadata": {},
   "outputs": [
    {
     "name": "stdout",
     "output_type": "stream",
     "text": [
      "23"
     ]
    }
   ],
   "source": [
    "//%cflags: .jupyter/x_def.c\n",
    "\n",
    "#include <stdio.h>\n",
    "\n",
    "extern int x;      /* Variable declaration */\n",
    "                   /* Variable definition resides in '.jupyter/x_def.c' */\n",
    "\n",
    "int main() {\n",
    "    printf(\"%d\", x);\n",
    "    return 0;\n",
    "}"
   ]
  },
  {
   "cell_type": "markdown",
   "id": "e4cdfb9c",
   "metadata": {},
   "source": [
    "`static` global variables may not be accessed within another file."
   ]
  },
  {
   "cell_type": "code",
   "execution_count": 108,
   "id": "cf8d801b",
   "metadata": {},
   "outputs": [
    {
     "name": "stderr",
     "output_type": "stream",
     "text": [
      "/tmp/tmpy32z25fi.out: /tmp/tmpqrzuawqj.out: undefined symbol: x\n",
      "[C kernel] Executable exited with code 1"
     ]
    }
   ],
   "source": [
    "//%cflags: .jupyter/x_def_static.c\n",
    "\n",
    "#include <stdio.h>\n",
    "\n",
    "extern int x;      /* Variable declaration */\n",
    "                   /* Static variable definition resides in '.jupyter/x_def_static.c' */\n",
    "\n",
    "int main() {\n",
    "    printf(\"%d\", x);\n",
    "    return 0;\n",
    "}"
   ]
  },
  {
   "cell_type": "markdown",
   "id": "31f67fe8",
   "metadata": {},
   "source": [
    "#### Scope"
   ]
  },
  {
   "cell_type": "markdown",
   "id": "6fd03eb0",
   "metadata": {},
   "source": [
    "Within a *scope*, identifiers (of variables or functions) must be unique. Within a *nested scope*, identifiers will overshadow similar identifiers in the parent scope."
   ]
  },
  {
   "cell_type": "markdown",
   "id": "0edcf603",
   "metadata": {},
   "source": [
    "A *local scope* within a function can be considered nested within the *global scope* of the containing file (or across files)."
   ]
  },
  {
   "cell_type": "code",
   "execution_count": 259,
   "id": "dcd2e52c",
   "metadata": {},
   "outputs": [
    {
     "name": "stdout",
     "output_type": "stream",
     "text": [
      "2"
     ]
    }
   ],
   "source": [
    "#include <stdio.h>\n",
    "\n",
    "int x = 1;\n",
    "\n",
    "int main() {\n",
    "    int x = 2;\n",
    "    printf(\"%d\", x);\n",
    "}"
   ]
  },
  {
   "cell_type": "markdown",
   "id": "41c5873c",
   "metadata": {},
   "source": [
    "Braces define scope. A nested scope can be defined within a function by using braces."
   ]
  },
  {
   "cell_type": "code",
   "execution_count": 260,
   "id": "a82cd8d4",
   "metadata": {},
   "outputs": [
    {
     "name": "stdout",
     "output_type": "stream",
     "text": [
      "Global scope: 1\n",
      "Local scope: 2\n",
      "Nested Scope: 3\n",
      "Again, local scope: 2\n"
     ]
    }
   ],
   "source": [
    "#include <stdio.h>\n",
    "\n",
    "int x = 1;\n",
    "\n",
    "int main() {\n",
    "    printf(\"Global scope: %d\\n\", x);\n",
    "    int x = 2;\n",
    "    printf(\"Local scope: %d\\n\", x);\n",
    "    {\n",
    "        int x = 3;\n",
    "        printf(\"Nested Scope: %d\\n\", x);\n",
    "    }\n",
    "    printf(\"Again, local scope: %d\\n\", x);\n",
    "}"
   ]
  },
  {
   "cell_type": "markdown",
   "id": "381b8817",
   "metadata": {},
   "source": [
    "*Note:* Defined local variables within a nested scope are deallocated once the scope ends."
   ]
  },
  {
   "cell_type": "markdown",
   "id": "109d5375",
   "metadata": {},
   "source": [
    "### Casting <a class=\"anchor\" id=\"casting\"></a>"
   ]
  },
  {
   "cell_type": "markdown",
   "id": "8d8321b3",
   "metadata": {},
   "source": [
    "In C, *implicit casting* of one data type into another never throws any error."
   ]
  },
  {
   "cell_type": "code",
   "execution_count": 135,
   "id": "e0b27c24",
   "metadata": {},
   "outputs": [
    {
     "name": "stdout",
     "output_type": "stream",
     "text": [
      "13"
     ]
    }
   ],
   "source": [
    "#include <stdio.h>\n",
    "\n",
    "int main() {\n",
    "    float x = 13.0f;             /* float literal, discussed later */\n",
    "    printf(\"%d\", (int) x);\n",
    "    return 0;\n",
    "}"
   ]
  },
  {
   "cell_type": "markdown",
   "id": "f9ce06de",
   "metadata": {},
   "source": [
    "In arithmetic, bitwise, comparison and equivalence operations, the C compiler follows a number of casting rules:\n",
    "* `char` and `short` types are promoted to `int` by default.\n",
    "* If different integer data types are present, implicit conversion occurs towards the largest data type.\n",
    "* If `signed` and `unsigned` data types are present, implicit conversion occurs towards the `unsigned` data type.\n",
    "* If integer and floating-point types are present, implicit conversion occurs towards the floating-point data type.\n",
    "* If different floating-point types are present, implicit conversion occurs towards the largest floating-point data type."
   ]
  },
  {
   "cell_type": "code",
   "execution_count": 192,
   "id": "4ab91ea5",
   "metadata": {},
   "outputs": [
    {
     "name": "stdout",
     "output_type": "stream",
     "text": [
      "4294967295"
     ]
    }
   ],
   "source": [
    "#include <stdio.h>\n",
    "\n",
    "                    /* signed to unsigned */\n",
    "int main() {\n",
    "    signed int x = -1; \n",
    "    printf(\"%u\", x);         /* print as unsigned, discussed later */\n",
    "    return 0;\n",
    "}"
   ]
  },
  {
   "cell_type": "code",
   "execution_count": 193,
   "id": "2cf52cb7",
   "metadata": {},
   "outputs": [
    {
     "name": "stdout",
     "output_type": "stream",
     "text": [
      "-1"
     ]
    }
   ],
   "source": [
    "#include <stdio.h>\n",
    "\n",
    "                    /* unsigned to signed */\n",
    "int main() {\n",
    "    unsigned int x = 4294967295; \n",
    "    printf(\"%d\", x);                  /* print as signed, discussed later */\n",
    "    return 0;\n",
    "}"
   ]
  },
  {
   "cell_type": "markdown",
   "id": "c814b0c8",
   "metadata": {},
   "source": [
    "*Note:* The bits remain unchanged while casting from `signed` to `unsigned`, and vice versa."
   ]
  },
  {
   "cell_type": "code",
   "execution_count": 163,
   "id": "203f74c7",
   "metadata": {},
   "outputs": [
    {
     "name": "stdout",
     "output_type": "stream",
     "text": [
      "1"
     ]
    }
   ],
   "source": [
    "#include <stdio.h>\n",
    "\n",
    "                    /* unsigned int to unsigned long long */\n",
    "int main() {\n",
    "    unsigned int x = 1; \n",
    "    printf(\"%llu\", (unsigned long long) x);         /* print as unsigned long long, discussed later */\n",
    "    return 0;\n",
    "}"
   ]
  },
  {
   "cell_type": "code",
   "execution_count": 191,
   "id": "5a86bda1",
   "metadata": {},
   "outputs": [
    {
     "name": "stdout",
     "output_type": "stream",
     "text": [
      "-1\n",
      "1\n"
     ]
    }
   ],
   "source": [
    "#include <stdio.h>\n",
    "\n",
    "                    /* signed int to signed long long */\n",
    "int main() {\n",
    "    signed int x = -1; \n",
    "    printf(\"%lld\\n\", (signed long long) x);         /* print as signed long long, discussed later */\n",
    "    \n",
    "    x = 1; \n",
    "    printf(\"%lld\\n\", (signed long long) x);\n",
    "    return 0;\n",
    "}"
   ]
  },
  {
   "cell_type": "markdown",
   "id": "4309c8d7",
   "metadata": {},
   "source": [
    "*Note:* Casting an integer data type into a larger data type, the bits will be zero-expanded if it is `signed` and non-negative, or `unsigned`. It will be one-expanded if it is `signed` and negative."
   ]
  },
  {
   "cell_type": "code",
   "execution_count": 170,
   "id": "4c663248",
   "metadata": {},
   "outputs": [
    {
     "name": "stdout",
     "output_type": "stream",
     "text": [
      "255"
     ]
    }
   ],
   "source": [
    "#include <stdio.h>\n",
    "#include <limits.h>\n",
    "\n",
    "                    /* signed int to signed long long */\n",
    "int main() {\n",
    "    unsigned int x = UINT_MAX; \n",
    "    printf(\"%u\", (unsigned char) x);\n",
    "}"
   ]
  },
  {
   "cell_type": "markdown",
   "id": "227826f9",
   "metadata": {},
   "source": [
    "*Note:* Casting an integer data type into a smaller data type, bits are simply omitted."
   ]
  },
  {
   "cell_type": "markdown",
   "id": "236bf386",
   "metadata": {},
   "source": [
    "### Literals <a class=\"anchor\" id=\"literals\"></a>"
   ]
  },
  {
   "cell_type": "markdown",
   "id": "4a2b9e73",
   "metadata": {},
   "source": [
    "#### Integer Literals <a class=\"anchor\" id=\"integer-literals\"></a>"
   ]
  },
  {
   "cell_type": "markdown",
   "id": "d3a840b8",
   "metadata": {},
   "source": [
    "| *Prefix* | *Type* | \n",
    "| --- | --- | \n",
    "|  | Decimal |\n",
    "| `0x` | Hexadecimal |\n",
    "| `0` | Octal |\n",
    "| `0b` | Binary |"
   ]
  },
  {
   "cell_type": "markdown",
   "id": "d587df0f",
   "metadata": {},
   "source": [
    "| *Suffix* | *Type* | \n",
    "| --- | --- | \n",
    "|  | `int` <br> `long int` <br> `long long int` |\n",
    "| `u`, `U` | `unsigned int` <br> `unsigned long int` <br> `unsigned long long int` |\n",
    "| `l`, `L` | `long int` |\n",
    "| `ll`, `LL`  | `long long int` |\n",
    "| `ul`, `uL`, `Ul`, `UL` | `unsigned long int` |\n",
    "| `ull`, `uLL`, `Ull`, `ULL` | `unsigned long long int` |"
   ]
  },
  {
   "cell_type": "markdown",
   "id": "68cee0be",
   "metadata": {},
   "source": [
    "*Note:* If a value is too large for its data type, the compiler issues a warning."
   ]
  },
  {
   "cell_type": "markdown",
   "id": "d025bde5",
   "metadata": {},
   "source": [
    "#### Floating-point Literals <a class=\"anchor\" id=\"floating-point-literals\"></a>"
   ]
  },
  {
   "cell_type": "markdown",
   "id": "52334eec",
   "metadata": {},
   "source": [
    "| *Valid Format* | *Example* |\n",
    "| --- | --- |\n",
    "| *int.frac* | 1.1\n",
    "| *int.* | 1.\n",
    "| *.frac* | .1\n",
    "| *int-e-exp* | 1e-1"
   ]
  },
  {
   "cell_type": "markdown",
   "id": "9b1e50a5",
   "metadata": {},
   "source": [
    "| *Suffix* | *Type* |\n",
    "| --- | --- |\n",
    "|  | `double`\n",
    "| `f`, `F` | `float`\n",
    "| `l`, `L` | `long double`"
   ]
  },
  {
   "cell_type": "markdown",
   "id": "660432e3",
   "metadata": {},
   "source": [
    "#### Character Literals <a class=\"anchor\" id=\"character-literals\"></a>"
   ]
  },
  {
   "cell_type": "markdown",
   "id": "af507dc0",
   "metadata": {},
   "source": [
    "A *character literal* is simply a `char`, which value of is the *ASCII* code of the corresponding character."
   ]
  },
  {
   "cell_type": "markdown",
   "id": "ec1c876f",
   "metadata": {},
   "source": [
    "| *Example* | *ASCII code* |\n",
    "| --- | --- |\n",
    "| `'a'` | 97\n",
    "| `'0'` | 48\n",
    "| `'\\n'` | 10\n",
    "| `'\\0'` | 0\n",
    "| `'\"'` | 34"
   ]
  },
  {
   "cell_type": "markdown",
   "id": "c9d1e000",
   "metadata": {},
   "source": [
    "### Condition Execution <a class=\"anchor\" id=\"conditional-execution\"></a>"
   ]
  },
  {
   "cell_type": "markdown",
   "id": "e8953597",
   "metadata": {},
   "source": [
    "In C, in any decision (conditional branching), any non-zero value evaluates to true, and otherwise false."
   ]
  },
  {
   "cell_type": "code",
   "execution_count": 420,
   "id": "1c544fab",
   "metadata": {},
   "outputs": [
    {
     "name": "stdout",
     "output_type": "stream",
     "text": [
      "True!"
     ]
    }
   ],
   "source": [
    "#include <stdio.h>\n",
    "\n",
    "int main() {\n",
    "    if (0.01) {\n",
    "        printf(\"True!\");\n",
    "    } else {\n",
    "        printf(\"False!\");\n",
    "    }\n",
    "    return 0;\n",
    "}"
   ]
  },
  {
   "cell_type": "markdown",
   "id": "24db5682",
   "metadata": {},
   "source": [
    "In C, loops consist of *while*, *do-while* and *for* loops."
   ]
  },
  {
   "cell_type": "code",
   "execution_count": 426,
   "id": "b6df5df9",
   "metadata": {},
   "outputs": [
    {
     "name": "stdout",
     "output_type": "stream",
     "text": [
      "3 2 1 "
     ]
    }
   ],
   "source": [
    "#include <stdio.h>\n",
    "\n",
    "int main() {\n",
    "    register int count = 3;\n",
    "    while (count) {\n",
    "        printf(\"%d \", count--);\n",
    "    }\n",
    "}"
   ]
  },
  {
   "cell_type": "code",
   "execution_count": 427,
   "id": "7d6fa873",
   "metadata": {
    "scrolled": true
   },
   "outputs": [
    {
     "name": "stdout",
     "output_type": "stream",
     "text": [
      "Hi!"
     ]
    }
   ],
   "source": [
    "#include <stdio.h>\n",
    "\n",
    "int main() {\n",
    "    do {\n",
    "        printf(\"Hi!\");\n",
    "    } while (0);\n",
    "}"
   ]
  },
  {
   "cell_type": "code",
   "execution_count": 428,
   "id": "a2ee600b",
   "metadata": {},
   "outputs": [
    {
     "name": "stdout",
     "output_type": "stream",
     "text": [
      "3 2 1 "
     ]
    }
   ],
   "source": [
    "#include <stdio.h>\n",
    "\n",
    "int main() {\n",
    "    register int count;\n",
    "    for (count = 3; count; count--) {\n",
    "        printf(\"%d \", count);\n",
    "    }\n",
    "}"
   ]
  },
  {
   "cell_type": "markdown",
   "id": "2ff6b329",
   "metadata": {},
   "source": [
    "*Note:* Use `break` and `continue` to break from a loop, or skip the current iteration, respectively."
   ]
  },
  {
   "cell_type": "markdown",
   "id": "6312e762",
   "metadata": {},
   "source": [
    "A *switch* is used to test for a specific value of an integer data type."
   ]
  },
  {
   "cell_type": "code",
   "execution_count": 430,
   "id": "504be402",
   "metadata": {},
   "outputs": [
    {
     "name": "stdout",
     "output_type": "stream",
     "text": [
      "Two."
     ]
    }
   ],
   "source": [
    "#include <stdio.h>\n",
    "\n",
    "int main() {\n",
    "    int x = 2;\n",
    "    switch (x) {\n",
    "        case 1:\n",
    "            printf(\"One.\");\n",
    "            break;\n",
    "        case 2:\n",
    "            printf(\"Two.\");\n",
    "            break;\n",
    "        default:\n",
    "            printf(\"Default.\");\n",
    "            break;\n",
    "    }\n",
    "}"
   ]
  },
  {
   "cell_type": "markdown",
   "id": "81445d9f",
   "metadata": {},
   "source": [
    "Once a case matches in a switch, all statements further down are executed, regardless, until a `break` statement is met."
   ]
  },
  {
   "cell_type": "code",
   "execution_count": 431,
   "id": "b6f5d6b3",
   "metadata": {},
   "outputs": [
    {
     "name": "stdout",
     "output_type": "stream",
     "text": [
      "One.Two.Default."
     ]
    }
   ],
   "source": [
    "#include <stdio.h>\n",
    "\n",
    "int main() {\n",
    "    int x = 1;\n",
    "    switch (x) {\n",
    "        case 1:\n",
    "            printf(\"One.\");\n",
    "        case 2:\n",
    "            printf(\"Two.\");\n",
    "        default:\n",
    "            printf(\"Default.\");\n",
    "    }\n",
    "}"
   ]
  },
  {
   "cell_type": "markdown",
   "id": "1b3c4c04",
   "metadata": {},
   "source": [
    "If no case matches, the `default` (optional) case is executed."
   ]
  },
  {
   "cell_type": "code",
   "execution_count": 432,
   "id": "41993b2d",
   "metadata": {},
   "outputs": [
    {
     "name": "stdout",
     "output_type": "stream",
     "text": [
      "Default.One.Two."
     ]
    }
   ],
   "source": [
    "#include <stdio.h>\n",
    "\n",
    "int main() {\n",
    "    int x = 3;\n",
    "    switch (x) {\n",
    "        default:\n",
    "            printf(\"Default.\");\n",
    "        case 1:\n",
    "            printf(\"One.\");\n",
    "        case 2:\n",
    "            printf(\"Two.\");\n",
    "    }\n",
    "}"
   ]
  },
  {
   "cell_type": "markdown",
   "id": "1d70c022",
   "metadata": {},
   "source": [
    "*Note:* It is recommended to add a `break` statement at the end of each case."
   ]
  },
  {
   "cell_type": "markdown",
   "id": "ada6c74a",
   "metadata": {},
   "source": [
    "A `goto` statement jumps to a label in code, and can be used to implement conditional branching structures and functions calls scratch."
   ]
  },
  {
   "cell_type": "code",
   "execution_count": 444,
   "id": "3e429538",
   "metadata": {},
   "outputs": [
    {
     "name": "stdout",
     "output_type": "stream",
     "text": [
      "Bye!"
     ]
    }
   ],
   "source": [
    "#include <stdio.h>\n",
    "\n",
    "int main() {\n",
    "    goto skip;\n",
    "    printf(\"Hi!\");\n",
    "    skip:\n",
    "    printf(\"Bye!\");\n",
    "    return 0;\n",
    "}"
   ]
  },
  {
   "cell_type": "markdown",
   "id": "3f5c87ba",
   "metadata": {},
   "source": [
    "*Note:* A label must be defined within the same function in which it is used."
   ]
  },
  {
   "cell_type": "markdown",
   "id": "47d69fc1",
   "metadata": {},
   "source": [
    "## Pointers <a class=\"anchor\" id=\"pointers\"></a>"
   ]
  },
  {
   "cell_type": "markdown",
   "id": "8b8d30b5",
   "metadata": {},
   "source": [
    "A *pointer* is a variable that points to some location in memory, typically another variable's memory location. A pointer is typically associated with a specific data type in definition and declaration."
   ]
  },
  {
   "cell_type": "code",
   "execution_count": 247,
   "id": "c6c8ef5f",
   "metadata": {},
   "outputs": [
    {
     "name": "stdout",
     "output_type": "stream",
     "text": [
      "10"
     ]
    }
   ],
   "source": [
    "#include <stdio.h>\n",
    "\n",
    "int main() {\n",
    "    int x = 5;\n",
    "    int *ptr;            /* pointer variable definition and declaration (using the dereference operator '*') */\n",
    "    ptr = &x;            /* '&' reference operator, yields address location of 'x' */\n",
    "    *ptr = 10;           /* '*' dereference operator, accesses memory at address location stored in 'ptr' */\n",
    "    printf(\"%d\", x);\n",
    "    return 0;\n",
    "}"
   ]
  },
  {
   "cell_type": "markdown",
   "id": "435b8728",
   "metadata": {},
   "source": [
    "Pointers allow a function to modify variables outside of its scope."
   ]
  },
  {
   "cell_type": "code",
   "execution_count": 267,
   "id": "d033c65b",
   "metadata": {},
   "outputs": [
    {
     "name": "stdout",
     "output_type": "stream",
     "text": [
      "6"
     ]
    }
   ],
   "source": [
    "#include <stdio.h>\n",
    "\n",
    "void increment(int *x);\n",
    "\n",
    "int main() {\n",
    "    int x = 5;\n",
    "    increment(&x);\n",
    "    printf(\"%d\", x);\n",
    "}\n",
    "\n",
    "void increment(int *x) {\n",
    "    (*x)++;\n",
    "}"
   ]
  },
  {
   "cell_type": "markdown",
   "id": "e8c9beb9",
   "metadata": {},
   "source": [
    "A *wild pointer* is an uninitialized local pointer. Since uninitialized local variables contain garbage values, a wild pointer is dangerous. If dereferenced, an attempt to write to a random location occurs, resulting in a bug. If this location is read-only at the moment of writing, a run-time segmentation error occurs."
   ]
  },
  {
   "cell_type": "markdown",
   "id": "6f0be84c",
   "metadata": {},
   "source": [
    "*Note:* Generally, compilers warn about wild pointers."
   ]
  },
  {
   "cell_type": "markdown",
   "id": "49e3af46",
   "metadata": {},
   "source": [
    "To avoid wild pointers, initialize local pointer variables with `NULL`, which is a *macro definition* (discussed later) defined in the standard library headers, including `stddef.h`, `stdlib.h` and `stdio.h`. `NULL` is simply defined as `0`. The C Standard gurantees that an executable exits immediately when an attempt to write to the `0` memory location is made. This well-defined behavior makes it easier to debug defected code."
   ]
  },
  {
   "cell_type": "code",
   "execution_count": 258,
   "id": "6d57986d",
   "metadata": {},
   "outputs": [
    {
     "name": "stderr",
     "output_type": "stream",
     "text": [
      "[C kernel] Executable exited with code -11"
     ]
    }
   ],
   "source": [
    "#include \"stdio.h\"\n",
    "\n",
    "int main() {\n",
    "    int *ptr = NULL;\n",
    "    *ptr = 50;\n",
    "    return 0;\n",
    "}"
   ]
  },
  {
   "cell_type": "markdown",
   "id": "334323f5",
   "metadata": {},
   "source": [
    "Adding or subtracting an integer data type from a pointer is permitted, and results in a pointer."
   ]
  },
  {
   "cell_type": "code",
   "execution_count": 324,
   "id": "87006a4c",
   "metadata": {},
   "outputs": [
    {
     "name": "stdout",
     "output_type": "stream",
     "text": [
      "5\n",
      "10\n",
      "20\n"
     ]
    }
   ],
   "source": [
    "#include \"stdio.h\"\n",
    "\n",
    "int main() {\n",
    "    int x = 5;\n",
    "    int y = 10;\n",
    "    int z = 20;\n",
    "    \n",
    "    int *ptr = &x;\n",
    "    \n",
    "    printf(\"%d\\n\", *ptr);\n",
    "    printf(\"%d\\n\", *(ptr+1));\n",
    "    printf(\"%d\\n\", *(ptr+2));\n",
    "    return 0;\n",
    "}"
   ]
  },
  {
   "cell_type": "markdown",
   "id": "e1237047",
   "metadata": {},
   "source": [
    "*Note:* Since each address in memory points to a specific byte, incrementing a pointer increases the address stored in the pointer variable by the number of bytes needed to store the data type associated with the pointer variable."
   ]
  },
  {
   "cell_type": "markdown",
   "id": "bc5d3266",
   "metadata": {},
   "source": [
    "Subtraction between two pointers of the same data type is permitted, and results in a `long int`."
   ]
  },
  {
   "cell_type": "code",
   "execution_count": 348,
   "id": "2ec387d2",
   "metadata": {},
   "outputs": [
    {
     "name": "stdout",
     "output_type": "stream",
     "text": [
      "1\n"
     ]
    }
   ],
   "source": [
    "#include \"stdio.h\"\n",
    "\n",
    "int main() {\n",
    "    int x = 5;\n",
    "    int y = 10;\n",
    "    \n",
    "    printf(\"%ld\\n\", &y - &x);\n",
    "    return 0;\n",
    "}"
   ]
  },
  {
   "cell_type": "markdown",
   "id": "9d834df9",
   "metadata": {},
   "source": [
    "*Note:* The result of pointer subtraction is divided by the number of bytes needed to store the associated data type."
   ]
  },
  {
   "cell_type": "markdown",
   "id": "4dffa4a5",
   "metadata": {},
   "source": [
    "*Note:* Subtracting two pointers makes more sense when working with arrays, discussed later."
   ]
  },
  {
   "cell_type": "markdown",
   "id": "422445e6",
   "metadata": {},
   "source": [
    "Comparison and equivalence operators may be used between pointers of the same data type."
   ]
  },
  {
   "cell_type": "code",
   "execution_count": 362,
   "id": "62da6dfc",
   "metadata": {},
   "outputs": [
    {
     "name": "stdout",
     "output_type": "stream",
     "text": [
      "1\n"
     ]
    }
   ],
   "source": [
    "#include \"stdio.h\"\n",
    "\n",
    "int main() {\n",
    "    int x = 5;\n",
    "    int y = 10;\n",
    "    \n",
    "    printf(\"%d\\n\", &y > &x);\n",
    "    return 0;\n",
    "}"
   ]
  },
  {
   "cell_type": "markdown",
   "id": "1f3d2d3f",
   "metadata": {},
   "source": [
    "*Note:* If used between pointers of different data types, or between a pointer and an integer data type, the compiler issues a warning."
   ]
  },
  {
   "cell_type": "markdown",
   "id": "fb546f6a",
   "metadata": {},
   "source": [
    "### `void *` <a class=\"anchor\" id=\"void\"></a>"
   ]
  },
  {
   "cell_type": "markdown",
   "id": "aa52c7be",
   "metadata": {},
   "source": [
    "A *void pointer* is a pointer with no associated data type. If dereferenced and read from or written to, the compiler throws an error. All other operations are, however, valid."
   ]
  },
  {
   "cell_type": "code",
   "execution_count": 400,
   "id": "2a794ea8",
   "metadata": {},
   "outputs": [
    {
     "name": "stderr",
     "output_type": "stream",
     "text": [
      "/tmp/tmpb5of1xpr.c: In function ‘main’:\n",
      "/tmp/tmpb5of1xpr.c:6:5: warning: dereferencing ‘void *’ pointer\n",
      "    6 |     *ptr = 6;\n",
      "      |     ^~~~\n",
      "/tmp/tmpb5of1xpr.c:6:10: error: invalid use of void expression\n",
      "    6 |     *ptr = 6;\n",
      "      |          ^\n",
      "[C kernel] GCC exited with code 1, the executable will not be executed"
     ]
    }
   ],
   "source": [
    "#include \"stdio.h\"\n",
    "\n",
    "int main() {\n",
    "    int x = 5;\n",
    "    void *ptr = &x;\n",
    "    *ptr = 6;\n",
    "    return 0;\n",
    "}"
   ]
  },
  {
   "cell_type": "code",
   "execution_count": 402,
   "id": "da23580b",
   "metadata": {},
   "outputs": [
    {
     "name": "stdout",
     "output_type": "stream",
     "text": [
      "7ffd0a7a4484\n",
      "7ffd0a7a4485\n",
      "4\n",
      "1\n"
     ]
    }
   ],
   "source": [
    "#include \"stdio.h\"\n",
    "\n",
    "int main() {\n",
    "    int x = 5;\n",
    "    int y = 10;\n",
    "    void *ptr = &x;\n",
    "    void *ptr2 = &y;\n",
    "    \n",
    "    printf(\"%lx\\n\", (unsigned long int) (ptr2));\n",
    "    printf(\"%lx\\n\", (unsigned long int) (ptr2+1));\n",
    "    printf(\"%lx\\n\", ptr2 - ptr);\n",
    "    printf(\"%d\\n\", ptr < ptr2);\n",
    "    \n",
    "    return 0;\n",
    "}"
   ]
  },
  {
   "cell_type": "markdown",
   "id": "329dbf0a",
   "metadata": {},
   "source": [
    "*Note:* Operations on void pointers assume a byte-sized data type (e.g; char), since there is no associated data type."
   ]
  },
  {
   "cell_type": "markdown",
   "id": "12bd102d",
   "metadata": {},
   "source": [
    "### Function Pointers <a class=\"anchor\" id=\"function-pointers\"></a>"
   ]
  },
  {
   "cell_type": "markdown",
   "id": "416f37f7",
   "metadata": {},
   "source": [
    "A *function pointer* points to a function's memory location. It must define the number of parameters and corresponding types, as well as the return type."
   ]
  },
  {
   "cell_type": "code",
   "execution_count": null,
   "id": "b6639ce2",
   "metadata": {},
   "outputs": [],
   "source": [
    "int * add(int x, int y);            /* This is a function, that accepts */\n",
    "                                    /* two 'int' parameters, and returns an 'int' pointer */"
   ]
  },
  {
   "cell_type": "code",
   "execution_count": null,
   "id": "d5e0c0ad",
   "metadata": {},
   "outputs": [],
   "source": [
    "int (*add)(int x, int y);           /* This is a pointer, to a function, that accepts */\n",
    "                                    /* two 'int' parameters, and returns an 'int' */"
   ]
  },
  {
   "cell_type": "markdown",
   "id": "ce8017f6",
   "metadata": {},
   "source": [
    "Function pointers may be initialized."
   ]
  },
  {
   "cell_type": "code",
   "execution_count": 404,
   "id": "adace488",
   "metadata": {},
   "outputs": [
    {
     "name": "stdout",
     "output_type": "stream",
     "text": [
      "9"
     ]
    }
   ],
   "source": [
    "#include <stdio.h>\n",
    "\n",
    "int add(int x, int y);\n",
    "int (*ptr)(int x, int y) = add;\n",
    "\n",
    "int main() {\n",
    "    printf(\"%d\", ptr(5, 4));\n",
    "    return 0;\n",
    "}\n",
    "\n",
    "int add(int x, int y) {\n",
    "    return x + y;\n",
    "}"
   ]
  },
  {
   "cell_type": "markdown",
   "id": "faaf8011",
   "metadata": {},
   "source": [
    "*Note:* A function pointer is an example of a complex definition. Complex definitions should be understood according to the precedence and associativity of the operators present."
   ]
  },
  {
   "cell_type": "markdown",
   "id": "4c260c3f",
   "metadata": {},
   "source": [
    "*Note:* A function name (identifier) is itself a function pointer."
   ]
  },
  {
   "cell_type": "markdown",
   "id": "9872f720",
   "metadata": {},
   "source": [
    "A function pointer may be a parameter to another function."
   ]
  },
  {
   "cell_type": "code",
   "execution_count": 407,
   "id": "77dc1179",
   "metadata": {},
   "outputs": [
    {
     "name": "stdout",
     "output_type": "stream",
     "text": [
      "9"
     ]
    }
   ],
   "source": [
    "#include <stdio.h>\n",
    "\n",
    "int add(int x, int y);\n",
    "int intermediate(int (*ptr)(int x, int y), int x, int y);\n",
    "\n",
    "int main() {\n",
    "    printf(\"%d\", intermediate(add, 5, 4));\n",
    "    return 0;\n",
    "}\n",
    "\n",
    "int add(int x, int y) {\n",
    "    return x + y;\n",
    "}\n",
    "\n",
    "int intermediate(int (*ptr)(int x, int y), int x, int y) {\n",
    "    return ptr(x, y);\n",
    "}"
   ]
  },
  {
   "cell_type": "markdown",
   "id": "22319be8",
   "metadata": {},
   "source": [
    "If a function pointer does not match the function assigned to it, the compiler issues a warning."
   ]
  },
  {
   "cell_type": "code",
   "execution_count": 417,
   "id": "af4cf8d7",
   "metadata": {},
   "outputs": [
    {
     "name": "stderr",
     "output_type": "stream",
     "text": [
      "/tmp/tmpo5gtwicm.c:4:21: warning: initialization of ‘int (*)(int)’ from incompatible pointer type ‘int (*)(int,  int)’ [-Wincompatible-pointer-types]\n",
      "    4 | int (*ptr)(int x) = add;\n",
      "      |                     ^~~\n"
     ]
    },
    {
     "name": "stdout",
     "output_type": "stream",
     "text": [
      "1572403669"
     ]
    }
   ],
   "source": [
    "#include <stdio.h>\n",
    "\n",
    "int add(int x, int y);\n",
    "int (*ptr)(int x) = add;\n",
    "\n",
    "int main() {\n",
    "    printf(\"%d\", ptr(5));     /* second argument contains garbage */\n",
    "    return 0;\n",
    "}\n",
    "\n",
    "int add(int x, int y) {\n",
    "    return x + y;\n",
    "}"
   ]
  }
 ],
 "metadata": {
  "kernelspec": {
   "display_name": "C",
   "language": "c",
   "name": "c"
  },
  "language_info": {
   "file_extension": ".c",
   "mimetype": "text/plain",
   "name": "c"
  }
 },
 "nbformat": 4,
 "nbformat_minor": 5
}
