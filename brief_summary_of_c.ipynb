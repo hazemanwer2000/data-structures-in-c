{
 "cells": [
  {
   "cell_type": "markdown",
   "id": "0971233f",
   "metadata": {},
   "source": [
    "# A brief summary of C (89, 99, 11)\n",
    "<br>\n",
    "<div style=\"opacity: 0.8; font-family: Consolas, Monaco, Lucida Console, Liberation Mono, DejaVu Sans Mono, Bitstream Vera Sans Mono, Courier New; font-size: 12px; font-style: italic;\">\n",
    "    ────────\n",
    "    for more from the author, visit\n",
    "    <a href=\"https://github.com/hazemanwer2000\">github.com/hazemanwer2000</a>.\n",
    "    ────────\n",
    "</div>"
   ]
  },
  {
   "cell_type": "markdown",
   "id": "fab2a185",
   "metadata": {},
   "source": [
    "Every C program must contain a single `main` function across all files. It is the entry point of the program.\n",
    "\n",
    "When running as bare-metal firmware, the function returns nothing. When running on an OS, the function returns a value to the OS, indicating its exit status."
   ]
  },
  {
   "cell_type": "code",
   "execution_count": 23,
   "id": "65de4bff",
   "metadata": {},
   "outputs": [],
   "source": [
    "int main() {\n",
    "    return 0;\n",
    "}"
   ]
  },
  {
   "cell_type": "markdown",
   "id": "c21c109c",
   "metadata": {},
   "source": [
    "## The Compilation Process"
   ]
  },
  {
   "cell_type": "markdown",
   "id": "c23aafb9",
   "metadata": {},
   "source": [
    "Files in *C* are either *source* files, `*.c`, or *header* files, `*.h`."
   ]
  },
  {
   "cell_type": "markdown",
   "id": "8ba72956",
   "metadata": {},
   "source": [
    "*Note:* Header files are ignored throughout the compilation process."
   ]
  },
  {
   "cell_type": "markdown",
   "id": "dd8ad4c4",
   "metadata": {},
   "source": [
    "*Note:* The compiler used throughout this notebook is *GCC* (GNU Compiler Collection). The term *compiler* used here is an umbrella term for all tools used throughout the compilation process, usually lumped together under a single executable."
   ]
  },
  {
   "cell_type": "markdown",
   "id": "5427cacd",
   "metadata": {},
   "source": [
    "The first stage in the compilation process is the *preprocessing* stage. The **preprocessor** reads and executes *directives* in `*.c` files, outputting a `*.i` file for each `*.c` file."
   ]
  },
  {
   "cell_type": "markdown",
   "id": "76677843",
   "metadata": {},
   "source": [
    "`gcc -E *.c > *.i`"
   ]
  },
  {
   "cell_type": "markdown",
   "id": "93290288",
   "metadata": {},
   "source": [
    "*Note:* Only a single file may be preprocessed at a time."
   ]
  },
  {
   "cell_type": "markdown",
   "id": "af47e168",
   "metadata": {},
   "source": [
    "The second stage is the *compilation* stage. The **compiler** (proper) *compiles* each `*.i` file into a `*.s` file, translating C code into assembly instructions of the *target architecture*. Hence, compilers are architecture-dependent, but platform-independent."
   ]
  },
  {
   "cell_type": "markdown",
   "id": "e7fb6b6c",
   "metadata": {},
   "source": [
    "*Note:* An *architecture* is a family of *platforms* that share the same *ISA* (Instruction Set Architecture)."
   ]
  },
  {
   "cell_type": "markdown",
   "id": "9b3740fd",
   "metadata": {},
   "source": [
    "`gcc -S *.i`"
   ]
  },
  {
   "cell_type": "markdown",
   "id": "d19b7618",
   "metadata": {},
   "source": [
    "*Note:* Passing a `*.c` file instead, it will be preprocessed in the background, before it is compiled."
   ]
  },
  {
   "cell_type": "markdown",
   "id": "0c7e4301",
   "metadata": {},
   "source": [
    "The third stage is the *assembly* stage. The **assembler** assembles each `*.s` file into an `*.o*` object file, translating assembly instructions into machine code."
   ]
  },
  {
   "cell_type": "markdown",
   "id": "e858948f",
   "metadata": {},
   "source": [
    "`gcc -c *.s`"
   ]
  },
  {
   "cell_type": "markdown",
   "id": "361c7528",
   "metadata": {},
   "source": [
    "*Note:* Passing a `*.c` or `*.i` file instead, it will be preprocessed and compiled in the background, before it is assembled."
   ]
  },
  {
   "cell_type": "markdown",
   "id": "1269112e",
   "metadata": {},
   "source": [
    "While compiling and assembling, files are handled separately. Declared but undefined symbols within a single file are left symbolic, for the **linker** to resolve.\n",
    "\n",
    "The fourth stage is the *linking* stage. The linker *links* all input `*.o*` files into a single *relocatable file*, by resolving symbolic associations between files."
   ]
  },
  {
   "cell_type": "markdown",
   "id": "57ca84cd",
   "metadata": {},
   "source": [
    "*Note:* A *declaration* acknowledges the existence of a *definition*, in the same or in a different source file. It does not allocate memory."
   ]
  },
  {
   "cell_type": "markdown",
   "id": "cf6888f1",
   "metadata": {},
   "source": [
    "In the fifth and final stage, the **locator** uses the *linker map file* of the *target platform* to map the memory regions within the relocatable file according to the target's memory map. The final output is a single *executable*, able to run on the target platform.\n",
    "\n",
    "Usually, there is no intermediary output between both stages, and *symbolic resolution* and *relocation* are performed by the linker, implicity calling or implementing the locator. The linker is, hence, platform-dependent."
   ]
  },
  {
   "cell_type": "markdown",
   "id": "1930e8d6",
   "metadata": {},
   "source": [
    "`gcc *.o -o run.exe`"
   ]
  },
  {
   "cell_type": "markdown",
   "id": "87db90ef",
   "metadata": {},
   "source": [
    "*Note:* Passing a `*.c`, `*.i` or `*.s` file instead, it will be preprocessed, compiled and assembled in the background."
   ]
  },
  {
   "cell_type": "markdown",
   "id": "50839052",
   "metadata": {},
   "source": [
    "## Data Types"
   ]
  },
  {
   "cell_type": "markdown",
   "id": "4e362787",
   "metadata": {},
   "source": [
    "* Arithmetic Types\n",
    "    * Integer Types\n",
    "        * Size: *1 byte*\n",
    "            * `unsigned char`\n",
    "            * `signed char`\n",
    "        * Size: *2 bytes*\n",
    "            * `unsigned short int`\n",
    "            * `signed short int`\n",
    "        * Size: *2 or 4 bytes*\n",
    "            * `unsigned int`\n",
    "            * `signed int`\n",
    "        * Size: *4 or 8 bytes*\n",
    "            * `unsigned long int`\n",
    "            * `signed long int`\n",
    "        * Size: *8 bytes*\n",
    "            * `unsigned long long int`\n",
    "            * `signed long long int`\n",
    "    * Floating-point Types\n",
    "        * Size: *4 bytes*\n",
    "            * `float`\n",
    "        * Size: *8 bytes*\n",
    "            * `double`\n",
    "        * Size: *10 bytes*\n",
    "            * `long double`\n",
    "* Derived Types\n",
    "    * Functions\n",
    "    * Pointers\n",
    "    * Arrays\n",
    "    * Structures\n",
    "    * Unions\n",
    "* Enumerations\n",
    "* `void`"
   ]
  },
  {
   "cell_type": "markdown",
   "id": "223af65f",
   "metadata": {},
   "source": [
    "## Operators"
   ]
  },
  {
   "cell_type": "markdown",
   "id": "564c19a0",
   "metadata": {},
   "source": [
    " | *Operator* | *Associativity* | *Precedence* |\n",
    "| --- | --- | |\n",
    "| `()` `[]` `->` `.` | *left-to-right* | ↑ |\n",
    "| `++` `--` `+` `-` `!` `~` *`(type)`* `*` `&` `sizeof` | *right-to-left* |\n",
    "| `*` `/` `%` | *left-to-right* |\n",
    "| `+` `-` | *left-to-right* |\n",
    "| `<<` `>>` | *left-to-right* |\n",
    "| `<` `<=` `>` `>=` | *left-to-right* |\n",
    "| `==` `!=` | *left-to-right* |\n",
    "| `&` | *left-to-right* |\n",
    "| `^` | *left-to-right* |\n",
    "| `\\|` | *left-to-right* |\n",
    "| `&&` | *left-to-right* |\n",
    "| `\\|\\|` | *left-to-right* |\n",
    "| `?:` | *right-to-left* |\n",
    "| `=` `+=` `-=` `*=` `/=` `%=` `&=` `^=` `\\|=` `<<=` `>>=` | *right-to-left* |\n",
    "| `,` | *left-to-right* | ↓ |"
   ]
  },
  {
   "cell_type": "markdown",
   "id": "d1fc31c1",
   "metadata": {},
   "source": [
    "## The Fundamentals"
   ]
  },
  {
   "cell_type": "markdown",
   "id": "e1d57e81",
   "metadata": {},
   "source": [
    "### Functions"
   ]
  },
  {
   "cell_type": "markdown",
   "id": "635e6b96",
   "metadata": {},
   "source": [
    "The C compiler (proper) is a single-pass compiler. Hence, to perform type-checking on passed function parameters, a function declaration (also called *prototype*) should be present before a function call. "
   ]
  },
  {
   "cell_type": "code",
   "execution_count": 41,
   "id": "b134c551",
   "metadata": {},
   "outputs": [
    {
     "name": "stdout",
     "output_type": "stream",
     "text": [
      "11"
     ]
    }
   ],
   "source": [
    "#include <stdio.h>\n",
    "\n",
    "int add(int x, int y) {   /* function definition (and declaration) */\n",
    "    return x + y;\n",
    "}\n",
    "\n",
    "int main() {\n",
    "    int x = 5;\n",
    "    int y = 6;\n",
    "    int sum = add(x, y);\n",
    "    printf(\"%d\", sum);\n",
    "    return 0;\n",
    "}"
   ]
  },
  {
   "cell_type": "code",
   "execution_count": 37,
   "id": "e133c41a",
   "metadata": {},
   "outputs": [
    {
     "name": "stdout",
     "output_type": "stream",
     "text": [
      "11"
     ]
    }
   ],
   "source": [
    "#include <stdio.h>\n",
    "\n",
    "int add(int x, int y);   /* function declaration */\n",
    "\n",
    "int main() {\n",
    "    int x = 5;\n",
    "    int y = 6;\n",
    "    int sum = add(x, y);\n",
    "    printf(\"%d\", sum);\n",
    "    return 0;\n",
    "}\n",
    "\n",
    "int add(int x, int y) {   /* function definition (and declaration) */\n",
    "    return x + y;\n",
    "}"
   ]
  },
  {
   "cell_type": "markdown",
   "id": "a8c5aed7",
   "metadata": {},
   "source": [
    "If a function declaration is missing before a function call, the compiler issues a warning."
   ]
  },
  {
   "cell_type": "code",
   "execution_count": 39,
   "id": "d0ca07bd",
   "metadata": {},
   "outputs": [
    {
     "name": "stderr",
     "output_type": "stream",
     "text": [
      "/tmp/tmpe6jm12l2.c: In function ‘main’:\n",
      "/tmp/tmpe6jm12l2.c:6:15: warning: implicit declaration of function ‘add’ [-Wimplicit-function-declaration]\n",
      "    6 |     int sum = add(x, y);\n",
      "      |               ^~~\n"
     ]
    },
    {
     "name": "stdout",
     "output_type": "stream",
     "text": [
      "11"
     ]
    }
   ],
   "source": [
    "#include <stdio.h>\n",
    "\n",
    "int main() {\n",
    "    int x = 5;\n",
    "    int y = 6;\n",
    "    int sum = add(x, y);\n",
    "    printf(\"%d\", sum);\n",
    "    return 0;\n",
    "}\n",
    "\n",
    "int add(int x, int y) {   /* function definition (and declaration) */\n",
    "    return x + y;\n",
    "}"
   ]
  },
  {
   "cell_type": "markdown",
   "id": "339b3429",
   "metadata": {},
   "source": [
    "Usually, a `*.h` file contains function declarations of functions in the corresponding `*.c` file. The `#include` directive is used to include the content of another file, usually a `*.h` file, into a `*.c` file."
   ]
  },
  {
   "cell_type": "code",
   "execution_count": 47,
   "id": "b151b67c",
   "metadata": {},
   "outputs": [
    {
     "name": "stdout",
     "output_type": "stream",
     "text": [
      "Hi!"
     ]
    }
   ],
   "source": [
    "#include <stdio.h>       /* Standard Library IO functions prototypes. */ \n",
    "                         /* Standard Library function definitions are linked to, automatically. */\n",
    "\n",
    "int main() {\n",
    "    printf(\"Hi!\");       /* 'printf' prototype defined in 'stdio.h' */\n",
    "    return 0;\n",
    "}"
   ]
  },
  {
   "cell_type": "markdown",
   "id": "924a5768",
   "metadata": {},
   "source": [
    "A *static* function may not be referenced outside the file it is defined in."
   ]
  },
  {
   "cell_type": "code",
   "execution_count": 50,
   "id": "6316edd4",
   "metadata": {},
   "outputs": [
    {
     "name": "stdout",
     "output_type": "stream",
     "text": [
      "11"
     ]
    }
   ],
   "source": [
    "#include <stdio.h>\n",
    "\n",
    "static int add(int x, int y);      /* static function declaration */\n",
    "\n",
    "int main() {\n",
    "    int x = 5;\n",
    "    int y = 6;\n",
    "    int sum = add(x, y);\n",
    "    printf(\"%d\", sum);\n",
    "    return 0;\n",
    "}\n",
    "\n",
    "static int add(int x, int y) {       /* static function definition */\n",
    "    return x + y;\n",
    "}"
   ]
  },
  {
   "cell_type": "markdown",
   "id": "3b868463",
   "metadata": {},
   "source": [
    "If a static function is referenced outside the file it is defined in, the linker throws an error."
   ]
  },
  {
   "cell_type": "code",
   "execution_count": 65,
   "id": "b7283f47",
   "metadata": {},
   "outputs": [
    {
     "name": "stdout",
     "output_type": "stream",
     "text": [
      "3"
     ]
    }
   ],
   "source": [
    "//%cflags: .jupyter/add.c\n",
    "\n",
    "#include <stdio.h>\n",
    "\n",
    "int add(int x, int y);           /* 'add' is a global (non-static) function declaration */\n",
    "                                 /* to a global function definition in another file */\n",
    "\n",
    "int main() {\n",
    "    printf(\"%d\", add(1, 2));\n",
    "    return 0;\n",
    "}"
   ]
  },
  {
   "cell_type": "code",
   "execution_count": 66,
   "id": "50f37716",
   "metadata": {},
   "outputs": [
    {
     "name": "stderr",
     "output_type": "stream",
     "text": [
      "/tmp/tmpy32z25fi.out: symbol lookup error: /tmp/tmpcjdsntr8.out: undefined symbol: add\n",
      "[C kernel] Executable exited with code 127"
     ]
    }
   ],
   "source": [
    "//%cflags: .jupyter/add_static.c\n",
    "\n",
    "#include <stdio.h>\n",
    "\n",
    "int add(int x, int y);           /* 'add' is a global function declaration */\n",
    "                                 /* to a static function definition in another file */\n",
    "                                 \n",
    "int main() {\n",
    "    printf(\"%d\", add(1, 2));\n",
    "    return 0;\n",
    "}"
   ]
  },
  {
   "cell_type": "markdown",
   "id": "cdeb6144",
   "metadata": {},
   "source": [
    "If a static function declaration is present before a function call, while the function definition is missing, the compiler issues a warning only."
   ]
  },
  {
   "cell_type": "code",
   "execution_count": 72,
   "id": "b08b4e58",
   "metadata": {},
   "outputs": [
    {
     "name": "stderr",
     "output_type": "stream",
     "text": [
      "/tmp/tmpwmvlfefi.c:3:12: warning: ‘add’ used but never defined\n",
      "    3 | static int add(int x, int y);\n",
      "      |            ^~~\n",
      "/tmp/tmpy32z25fi.out: symbol lookup error: /tmp/tmpv305fucn.out: undefined symbol: add\n",
      "[C kernel] Executable exited with code 127"
     ]
    }
   ],
   "source": [
    "#include <stdio.h>\n",
    "\n",
    "static int add(int x, int y);\n",
    "\n",
    "int main() {\n",
    "    printf(\"%d\", add(1, 2));\n",
    "    return 0;\n",
    "}"
   ]
  },
  {
   "cell_type": "markdown",
   "id": "cf81cc46",
   "metadata": {},
   "source": [
    "In C, function parameters are passed by value."
   ]
  },
  {
   "cell_type": "code",
   "execution_count": 48,
   "id": "08400d8e",
   "metadata": {
    "scrolled": true
   },
   "outputs": [
    {
     "name": "stdout",
     "output_type": "stream",
     "text": [
      "5"
     ]
    }
   ],
   "source": [
    "#include <stdio.h>\n",
    "\n",
    "void increment(int x) {\n",
    "    x++; \n",
    "}\n",
    "\n",
    "int main() {\n",
    "    int x = 5;\n",
    "    increment(x);\n",
    "    printf(\"%d\", x);\n",
    "}"
   ]
  },
  {
   "cell_type": "markdown",
   "id": "8ed7fdeb",
   "metadata": {},
   "source": [
    "### Variables"
   ]
  },
  {
   "cell_type": "markdown",
   "id": "8d6a2efb",
   "metadata": {},
   "source": [
    "#### Local Variables"
   ]
  },
  {
   "cell_type": "markdown",
   "id": "7a7e17b9",
   "metadata": {},
   "source": [
    "Variables defined within a function have *local* scope. They can only be accessed within that function."
   ]
  },
  {
   "cell_type": "code",
   "execution_count": 98,
   "id": "5aa49280",
   "metadata": {},
   "outputs": [
    {
     "name": "stdout",
     "output_type": "stream",
     "text": [
      "10"
     ]
    }
   ],
   "source": [
    "#include <stdio.h>\n",
    "\n",
    "int main() {\n",
    "    int x = 10;\n",
    "    printf(\"%d\", x);\n",
    "    return 0;\n",
    "}"
   ]
  },
  {
   "cell_type": "markdown",
   "id": "1c7a130a",
   "metadata": {},
   "source": [
    "Uninitialized local variables contain *garbage* values."
   ]
  },
  {
   "cell_type": "code",
   "execution_count": 100,
   "id": "112fbfcc",
   "metadata": {},
   "outputs": [
    {
     "name": "stdout",
     "output_type": "stream",
     "text": [
      "32767"
     ]
    }
   ],
   "source": [
    "#include <stdio.h>\n",
    "\n",
    "int main() {\n",
    "    int x;\n",
    "    printf(\"%d\", x);\n",
    "    return 0;\n",
    "}"
   ]
  },
  {
   "cell_type": "markdown",
   "id": "d5a804cd",
   "metadata": {},
   "source": [
    "Local variables may be `auto` or `static`. `auto` local variables are allocated and deallocated with each function call. `static` local variables persist throughout the lifetime of the program."
   ]
  },
  {
   "cell_type": "code",
   "execution_count": 90,
   "id": "ab4ffdc4",
   "metadata": {},
   "outputs": [
    {
     "name": "stdout",
     "output_type": "stream",
     "text": [
      "11\n",
      "11\n",
      "11\n"
     ]
    }
   ],
   "source": [
    "#include <stdio.h>\n",
    "\n",
    "int x_plus_one();\n",
    "\n",
    "int main() {\n",
    "    printf(\"%d\\n\", x_plus_one());\n",
    "    printf(\"%d\\n\", x_plus_one());\n",
    "    printf(\"%d\\n\", x_plus_one());\n",
    "    return 0;\n",
    "}\n",
    "\n",
    "int x_plus_one() {\n",
    "    auto int x = 10;         /* auto local variable definition executed */\n",
    "                             /* with each function call */\n",
    "    return ++x;\n",
    "}"
   ]
  },
  {
   "cell_type": "code",
   "execution_count": 91,
   "id": "81a87dd6",
   "metadata": {},
   "outputs": [
    {
     "name": "stdout",
     "output_type": "stream",
     "text": [
      "11\n",
      "12\n",
      "13\n"
     ]
    }
   ],
   "source": [
    "#include <stdio.h>\n",
    "\n",
    "int x_plus_one();\n",
    "\n",
    "int main() {\n",
    "    printf(\"%d\\n\", x_plus_one());\n",
    "    printf(\"%d\\n\", x_plus_one());\n",
    "    printf(\"%d\\n\", x_plus_one());\n",
    "    return 0;\n",
    "}\n",
    "\n",
    "int x_plus_one() {\n",
    "    static int x = 10;         /* static local variable definition executed */\n",
    "                               /* once only at start of program, and not with */\n",
    "                               /* each function call */\n",
    "    return ++x;\n",
    "}"
   ]
  },
  {
   "cell_type": "markdown",
   "id": "c812f5b2",
   "metadata": {},
   "source": [
    "*Note:* Local variables are `auto` by default."
   ]
  },
  {
   "cell_type": "markdown",
   "id": "d9ff931f",
   "metadata": {},
   "source": [
    "Local variables may also be `register`. The `register` keyword tells the compiler to allocate and deallocate memory with each function call, in one of the CPU's registers."
   ]
  },
  {
   "cell_type": "code",
   "execution_count": 115,
   "id": "0d911554",
   "metadata": {},
   "outputs": [
    {
     "name": "stdout",
     "output_type": "stream",
     "text": [
      "11\n",
      "11\n",
      "11\n"
     ]
    }
   ],
   "source": [
    "#include <stdio.h>\n",
    "\n",
    "int x_plus_one();\n",
    "\n",
    "int main() {\n",
    "    printf(\"%d\\n\", x_plus_one());\n",
    "    printf(\"%d\\n\", x_plus_one());\n",
    "    printf(\"%d\\n\", x_plus_one());\n",
    "    return 0;\n",
    "}\n",
    "\n",
    "int x_plus_one() {\n",
    "    register int x = 10;         /* register (auto) local variable definition executed */\n",
    "                             /* with each function call */\n",
    "    return ++x;\n",
    "}"
   ]
  },
  {
   "cell_type": "markdown",
   "id": "c2f648e7",
   "metadata": {},
   "source": [
    "If mulitple *storage class specifiers* are used on a single local variable, the compiler throws an error."
   ]
  },
  {
   "cell_type": "code",
   "execution_count": 116,
   "id": "a959d006",
   "metadata": {},
   "outputs": [
    {
     "name": "stderr",
     "output_type": "stream",
     "text": [
      "/tmp/tmpze_ttdz4.c: In function ‘x_plus_one’:\n",
      "/tmp/tmpze_ttdz4.c:13:5: error: multiple storage classes in declaration specifiers\n",
      "   13 |     auto register int x = 10;         /* register (auto) local variable definition executed */\n",
      "      |     ^~~~\n",
      "[C kernel] GCC exited with code 1, the executable will not be executed"
     ]
    }
   ],
   "source": [
    "#include <stdio.h>\n",
    "\n",
    "int x_plus_one();\n",
    "\n",
    "int main() {\n",
    "    printf(\"%d\\n\", x_plus_one());\n",
    "    printf(\"%d\\n\", x_plus_one());\n",
    "    printf(\"%d\\n\", x_plus_one());\n",
    "    return 0;\n",
    "}\n",
    "\n",
    "int x_plus_one() {\n",
    "    auto register int x = 10;         /* register (auto) local variable definition executed */\n",
    "                             /* with each function call */\n",
    "    return ++x;\n",
    "}"
   ]
  },
  {
   "cell_type": "markdown",
   "id": "18cdb41d",
   "metadata": {},
   "source": [
    "#### Global variables"
   ]
  },
  {
   "cell_type": "markdown",
   "id": "8d77c51d",
   "metadata": {},
   "source": [
    "Variables defined outside a function have *global* scope. They can be accessed within any function in any file, as long as a declaration of the variable preceeds."
   ]
  },
  {
   "cell_type": "code",
   "execution_count": 77,
   "id": "be7eaa6f",
   "metadata": {},
   "outputs": [
    {
     "name": "stdout",
     "output_type": "stream",
     "text": [
      "10"
     ]
    }
   ],
   "source": [
    "#include <stdio.h>\n",
    "\n",
    "int x = 10;      /* variable definition (and declaration) */\n",
    "\n",
    "int main() {\n",
    "    printf(\"%d\", x);\n",
    "    return 0;\n",
    "}"
   ]
  },
  {
   "cell_type": "markdown",
   "id": "fd8f3969",
   "metadata": {},
   "source": [
    "Explicitly uninitialized global variables are implicitly initialized to zero."
   ]
  },
  {
   "cell_type": "code",
   "execution_count": 101,
   "id": "29e13bb7",
   "metadata": {},
   "outputs": [
    {
     "name": "stdout",
     "output_type": "stream",
     "text": [
      "0"
     ]
    }
   ],
   "source": [
    "#include <stdio.h>\n",
    "\n",
    "int x;        /* variable definition (and declaration) */\n",
    "\n",
    "int main() {\n",
    "    printf(\"%d\", x);\n",
    "    return 0;\n",
    "}"
   ]
  },
  {
   "cell_type": "markdown",
   "id": "8a057865",
   "metadata": {},
   "source": [
    "The keyword `extern` is used to declare variables, that may be defined later in the file, or within another file."
   ]
  },
  {
   "cell_type": "code",
   "execution_count": 106,
   "id": "c96d652b",
   "metadata": {},
   "outputs": [
    {
     "name": "stdout",
     "output_type": "stream",
     "text": [
      "23"
     ]
    }
   ],
   "source": [
    "//%cflags: .jupyter/x_def.c\n",
    "\n",
    "#include <stdio.h>\n",
    "\n",
    "extern int x;      /* Variable declaration */\n",
    "                   /* Variable definition resides in '.jupyter/x_def.c' */\n",
    "\n",
    "int main() {\n",
    "    printf(\"%d\", x);\n",
    "    return 0;\n",
    "}"
   ]
  },
  {
   "cell_type": "markdown",
   "id": "3a36bc26",
   "metadata": {},
   "source": [
    "`static` global variables may not be accessed within another file."
   ]
  },
  {
   "cell_type": "code",
   "execution_count": 108,
   "id": "d395ee95",
   "metadata": {},
   "outputs": [
    {
     "name": "stderr",
     "output_type": "stream",
     "text": [
      "/tmp/tmpy32z25fi.out: /tmp/tmpqrzuawqj.out: undefined symbol: x\n",
      "[C kernel] Executable exited with code 1"
     ]
    }
   ],
   "source": [
    "//%cflags: .jupyter/x_def_static.c\n",
    "\n",
    "#include <stdio.h>\n",
    "\n",
    "extern int x;      /* Variable declaration */\n",
    "                   /* Static variable definition resides in '.jupyter/x_def_static.c' */\n",
    "\n",
    "int main() {\n",
    "    printf(\"%d\", x);\n",
    "    return 0;\n",
    "}"
   ]
  },
  {
   "cell_type": "markdown",
   "id": "b1f12202",
   "metadata": {},
   "source": []
  }
 ],
 "metadata": {
  "kernelspec": {
   "display_name": "C",
   "language": "c",
   "name": "c"
  },
  "language_info": {
   "file_extension": ".c",
   "mimetype": "text/plain",
   "name": "c"
  }
 },
 "nbformat": 4,
 "nbformat_minor": 5
}
