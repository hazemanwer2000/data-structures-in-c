{
 "cells": [
  {
   "cell_type": "markdown",
   "id": "3f245336",
   "metadata": {},
   "source": [
    "# A brief summary of C (89, 99, 11)\n",
    "<br>\n",
    "<div style=\"opacity: 0.8; font-family: Consolas, Monaco, Lucida Console, Liberation Mono, DejaVu Sans Mono, Bitstream Vera Sans Mono, Courier New; font-size: 12px; font-style: italic;\">\n",
    "    ────────\n",
    "    for more from the author, visit\n",
    "    <a href=\"https://github.com/hazemanwer2000\">github.com/hazemanwer2000</a>.\n",
    "    ────────\n",
    "</div>"
   ]
  },
  {
   "cell_type": "markdown",
   "id": "74821d9d",
   "metadata": {},
   "source": [
    "## The Compilation Process"
   ]
  },
  {
   "cell_type": "markdown",
   "id": "5062ae0a",
   "metadata": {},
   "source": [
    "Files in *C* are either *source* files, `*.c`, or *header* files, `*.h`."
   ]
  },
  {
   "cell_type": "markdown",
   "id": "072afd72",
   "metadata": {},
   "source": [
    "*Note:* Header files are ignored throughout the compilation process."
   ]
  },
  {
   "cell_type": "markdown",
   "id": "2fb119e4",
   "metadata": {},
   "source": [
    "*Note:* The compiler used throughout this notebook is *GCC* (GNU Compiler Collection). The term *compiler* used here is an umbrella term for all tools used throughout the compilation process, usually lumped together under a single executable."
   ]
  },
  {
   "cell_type": "markdown",
   "id": "740f6232",
   "metadata": {},
   "source": [
    "The first stage in the compilation process is the *preprocessing* stage. The **preprocessor** reads and executes *directives* in `*.c` files, outputting a `*.i*` file for each `*.c` file."
   ]
  },
  {
   "cell_type": "markdown",
   "id": "385bc6bd",
   "metadata": {},
   "source": [
    "`gcc -E *.c`"
   ]
  },
  {
   "cell_type": "markdown",
   "id": "2db7d14b",
   "metadata": {},
   "source": [
    "The second stage is the *compilation* stage. The **compiler** parses C code and *compiles* each `*.i` file into a `*.o` file."
   ]
  },
  {
   "cell_type": "markdown",
   "id": "309152e4",
   "metadata": {},
   "source": [
    "`gcc -S *.i`"
   ]
  },
  {
   "cell_type": "markdown",
   "id": "b2a00c1c",
   "metadata": {},
   "source": [
    "`gcc -S *.c*`"
   ]
  },
  {
   "cell_type": "code",
   "execution_count": null,
   "id": "25097460",
   "metadata": {},
   "outputs": [],
   "source": []
  }
 ],
 "metadata": {
  "kernelspec": {
   "display_name": "C",
   "language": "c",
   "name": "c"
  },
  "language_info": {
   "file_extension": ".c",
   "mimetype": "text/plain",
   "name": "c"
  }
 },
 "nbformat": 4,
 "nbformat_minor": 5
}
