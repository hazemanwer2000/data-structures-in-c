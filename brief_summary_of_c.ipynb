{
 "cells": [
  {
   "cell_type": "markdown",
   "id": "0971233f",
   "metadata": {},
   "source": [
    "# A brief summary of C (89, 99, 11)\n",
    "<br>\n",
    "<div style=\"opacity: 0.8; font-family: Consolas, Monaco, Lucida Console, Liberation Mono, DejaVu Sans Mono, Bitstream Vera Sans Mono, Courier New; font-size: 12px; font-style: italic;\">\n",
    "    ────────\n",
    "    for more from the author, visit\n",
    "    <a href=\"https://github.com/hazemanwer2000\">github.com/hazemanwer2000</a>.\n",
    "    ────────\n",
    "</div>"
   ]
  },
  {
   "cell_type": "markdown",
   "id": "28855350",
   "metadata": {},
   "source": [
    "## Table of Contents\n",
    "* [The Compilation Process](#the-compilation-process)\n",
    "* [Data Types](#data-types)\n",
    "* [Operators](#operators)\n",
    "* [The Fundamentals](#the-fundamentals)\n",
    "    * [Functions](#functions)\n",
    "    * [Variables](#variables)\n",
    "        * [Local Variables](#local-variables)\n",
    "        * [Global Variables](#global-variables)\n",
    "    * [Casting](#casting)\n",
    "    * [Literals](#literals)\n",
    "        * [Integer Literals](#integer-literals)\n",
    "        * [Floating-point Literals](#floating-point-literals)\n",
    "        * [Character Literals](#character-literals)\n",
    "    * [Conditional Execution](#conditional-execution)\n",
    "* [Pointers](#pointers)\n",
    "    * [`void *`](#void)\n",
    "    * [Function Pointers](#function-pointers)\n",
    "    * [The `restrict` keyword (C99+)](#the-restrict-keyword)\n",
    "* [Arrays](#arrays)\n",
    "* [Structures and Unions](#structures-and-unions)\n",
    "* [Enumerations](#enumerations)\n",
    "* [Additional Core Features](#additional-core-features)\n",
    "    * [The `volatile` keyword](#the-volatile-keyword)\n",
    "    * [The `const` keyword](#the-const-keyword)\n",
    "    * [String Literals](#string-literals)\n",
    "    * [The comma operator](#the-comma-operator)\n",
    "    * [The `sizeof` operator](#the-sizeof-operator)\n",
    "<hr>"
   ]
  },
  {
   "cell_type": "markdown",
   "id": "fab2a185",
   "metadata": {},
   "source": [
    "C is a *case-sensitive*, procedural, low-level language.\n",
    "\n",
    "Every C program must contain a single `main` function across all files. It is the entry point of the program.\n",
    "\n",
    "When running as bare-metal firmware, the function returns nothing. When running on an OS, the function returns a value to the OS, indicating its exit status."
   ]
  },
  {
   "cell_type": "code",
   "execution_count": 23,
   "id": "65de4bff",
   "metadata": {},
   "outputs": [],
   "source": [
    "int main() {\n",
    "    return 0;\n",
    "}"
   ]
  },
  {
   "cell_type": "markdown",
   "id": "c21c109c",
   "metadata": {},
   "source": [
    "## The Compilation Process <a class=\"anchor\" id=\"the-compilation-process\"></a>"
   ]
  },
  {
   "cell_type": "markdown",
   "id": "c23aafb9",
   "metadata": {},
   "source": [
    "Files in *C* are either *source* files, `*.c`, or *header* files, `*.h`."
   ]
  },
  {
   "cell_type": "markdown",
   "id": "8ba72956",
   "metadata": {},
   "source": [
    "*Note:* Header files are ignored throughout the compilation process."
   ]
  },
  {
   "cell_type": "markdown",
   "id": "dd8ad4c4",
   "metadata": {},
   "source": [
    "*Note:* The compiler used throughout this notebook is *GCC* (GNU Compiler Collection). The term *compiler* used here is an umbrella term for all tools used throughout the compilation process, usually lumped together under a single executable."
   ]
  },
  {
   "cell_type": "markdown",
   "id": "5427cacd",
   "metadata": {},
   "source": [
    "The first stage in the compilation process is the *preprocessing* stage. The **preprocessor** reads and executes *directives* in `*.c` files, outputting a `*.i` file for each `*.c` file."
   ]
  },
  {
   "cell_type": "markdown",
   "id": "76677843",
   "metadata": {},
   "source": [
    "`gcc -E *.c > *.i`"
   ]
  },
  {
   "cell_type": "markdown",
   "id": "93290288",
   "metadata": {},
   "source": [
    "*Note:* Only a single file may be preprocessed at a time."
   ]
  },
  {
   "cell_type": "markdown",
   "id": "af47e168",
   "metadata": {},
   "source": [
    "The second stage is the *compilation* stage. The **compiler** (proper) *compiles* each `*.i` file into a `*.s` file, translating C code into assembly instructions of the *target architecture*. Hence, compilers are architecture-dependent, but platform-independent."
   ]
  },
  {
   "cell_type": "markdown",
   "id": "e7fb6b6c",
   "metadata": {},
   "source": [
    "*Note:* An *architecture* is a family of *platforms* that share the same *ISA* (Instruction Set Architecture)."
   ]
  },
  {
   "cell_type": "markdown",
   "id": "9b3740fd",
   "metadata": {},
   "source": [
    "`gcc -S *.i`"
   ]
  },
  {
   "cell_type": "markdown",
   "id": "d19b7618",
   "metadata": {},
   "source": [
    "*Note:* Passing a `*.c` file instead, it will be preprocessed in the background, before it is compiled."
   ]
  },
  {
   "cell_type": "markdown",
   "id": "0c7e4301",
   "metadata": {},
   "source": [
    "The third stage is the *assembly* stage. The **assembler** assembles each `*.s` file into an `*.o*` object file, translating assembly instructions into machine code."
   ]
  },
  {
   "cell_type": "markdown",
   "id": "e858948f",
   "metadata": {},
   "source": [
    "`gcc -c *.s`"
   ]
  },
  {
   "cell_type": "markdown",
   "id": "361c7528",
   "metadata": {},
   "source": [
    "*Note:* Passing a `*.c` or `*.i` file instead, it will be preprocessed and compiled in the background, before it is assembled."
   ]
  },
  {
   "cell_type": "markdown",
   "id": "1269112e",
   "metadata": {},
   "source": [
    "While compiling and assembling, files are handled separately. Declared but undefined symbols within a single file are left symbolic, for the **linker** to resolve.\n",
    "\n",
    "The fourth stage is the *linking* stage. The linker *links* all input `*.o` files into a single *relocatable file*, by resolving symbolic associations between files. Also, it implicitly links to the C standard library."
   ]
  },
  {
   "cell_type": "markdown",
   "id": "57ca84cd",
   "metadata": {},
   "source": [
    "*Note:* A *declaration* acknowledges the existence of a *definition*, in the same or in a different source file. It does not allocate memory."
   ]
  },
  {
   "cell_type": "markdown",
   "id": "cf6888f1",
   "metadata": {},
   "source": [
    "In the fifth and final stage, the **locator** uses the *linker map file* of the *target platform* to map the memory regions within the relocatable file according to the target's memory map. The final output is a single *executable*, able to run on the target platform.\n",
    "\n",
    "Usually, there is no intermediary output between both stages, and *symbolic resolution* and *relocation* are performed by the linker, implicity calling or implementing the locator. The linker is, hence, platform-dependent."
   ]
  },
  {
   "cell_type": "markdown",
   "id": "1930e8d6",
   "metadata": {},
   "source": [
    "`gcc *.o -o run.exe`"
   ]
  },
  {
   "cell_type": "markdown",
   "id": "87db90ef",
   "metadata": {},
   "source": [
    "*Note:* Passing a `*.c`, `*.i` or `*.s` file instead, it will be preprocessed, compiled and assembled in the background."
   ]
  },
  {
   "cell_type": "markdown",
   "id": "50839052",
   "metadata": {},
   "source": [
    "## Data Types <a class=\"anchor\" id=\"data-types\"></a>"
   ]
  },
  {
   "cell_type": "markdown",
   "id": "4e362787",
   "metadata": {},
   "source": [
    "* Arithmetic Types\n",
    "    * Integer Types\n",
    "        * Size: *1 byte*\n",
    "            * `unsigned char`\n",
    "            * `signed char`\n",
    "        * Size: *2 bytes*\n",
    "            * `unsigned short int`\n",
    "            * `signed short int`\n",
    "        * Size: *2 or 4 bytes*\n",
    "            * `unsigned int`\n",
    "            * `signed int`\n",
    "        * Size: *4 or 8 bytes*\n",
    "            * `unsigned long int`\n",
    "            * `signed long int`\n",
    "        * Size: *8 bytes*\n",
    "            * `unsigned long long int`\n",
    "            * `signed long long int`\n",
    "    * Floating-point Types\n",
    "        * Size: *4 bytes*\n",
    "            * `float`\n",
    "        * Size: *8 bytes*\n",
    "            * `double`\n",
    "        * Size: *(compiler-dependent)*\n",
    "            * `long double`\n",
    "* Derived Types\n",
    "    * Functions\n",
    "    * Pointers\n",
    "    * Arrays\n",
    "    * Structures\n",
    "    * Unions\n",
    "* Enumerations\n",
    "* `void`"
   ]
  },
  {
   "cell_type": "markdown",
   "id": "026ccdb9",
   "metadata": {},
   "source": [
    "*Note:* Omitting the `unsigned` keyword, the integer data type will default to `signed`."
   ]
  },
  {
   "cell_type": "markdown",
   "id": "70487724",
   "metadata": {},
   "source": [
    "*Note:* For non-`char` integer data types, the `int` keyword may be omitted."
   ]
  },
  {
   "cell_type": "markdown",
   "id": "223af65f",
   "metadata": {},
   "source": [
    "## Operators <a class=\"anchor\" id=\"operators\"></a>"
   ]
  },
  {
   "cell_type": "markdown",
   "id": "564c19a0",
   "metadata": {},
   "source": [
    " | *Operator* | *Associativity* | *Precedence* |\n",
    "| --- | --- | |\n",
    "| `()` `[]` `->` `.` | *left-to-right* | ↑ |\n",
    "| `++` `--` `+` `-` `!` `~` *`(type)`* `*` `&` `sizeof` | *right-to-left* |\n",
    "| `*` `/` `%` | *left-to-right* |\n",
    "| `+` `-` | *left-to-right* |\n",
    "| `<<` `>>` | *left-to-right* |\n",
    "| `<` `<=` `>` `>=` | *left-to-right* |\n",
    "| `==` `!=` | *left-to-right* |\n",
    "| `&` | *left-to-right* |\n",
    "| `^` | *left-to-right* |\n",
    "| `\\|` | *left-to-right* |\n",
    "| `&&` | *left-to-right* |\n",
    "| `\\|\\|` | *left-to-right* |\n",
    "| `?:` | *right-to-left* |\n",
    "| `=` `+=` `-=` `*=` `/=` `%=` `&=` `^=` `\\|=` `<<=` `>>=` | *right-to-left* |\n",
    "| `,` | *left-to-right* | ↓ |"
   ]
  },
  {
   "cell_type": "markdown",
   "id": "d1fc31c1",
   "metadata": {},
   "source": [
    "## The Fundamentals <a class=\"anchor\" id=\"the-fundamentals\"></a>"
   ]
  },
  {
   "cell_type": "markdown",
   "id": "e1d57e81",
   "metadata": {},
   "source": [
    "### Functions <a class=\"anchor\" id=\"functions\"></a>"
   ]
  },
  {
   "cell_type": "markdown",
   "id": "635e6b96",
   "metadata": {},
   "source": [
    "The C compiler (proper) is a single-pass compiler. Hence, to perform type-checking on passed function parameters, a function declaration (also called *prototype*) should be present before a function call. "
   ]
  },
  {
   "cell_type": "code",
   "execution_count": 41,
   "id": "b134c551",
   "metadata": {},
   "outputs": [
    {
     "name": "stdout",
     "output_type": "stream",
     "text": [
      "11"
     ]
    }
   ],
   "source": [
    "#include <stdio.h>\n",
    "\n",
    "int add(int x, int y) {   /* function definition (and declaration) */\n",
    "    return x + y;\n",
    "}\n",
    "\n",
    "int main() {\n",
    "    int x = 5;\n",
    "    int y = 6;\n",
    "    int sum = add(x, y);\n",
    "    printf(\"%d\", sum);\n",
    "    return 0;\n",
    "}"
   ]
  },
  {
   "cell_type": "code",
   "execution_count": 37,
   "id": "e133c41a",
   "metadata": {},
   "outputs": [
    {
     "name": "stdout",
     "output_type": "stream",
     "text": [
      "11"
     ]
    }
   ],
   "source": [
    "#include <stdio.h>\n",
    "\n",
    "int add(int x, int y);   /* function declaration */\n",
    "\n",
    "int main() {\n",
    "    int x = 5;\n",
    "    int y = 6;\n",
    "    int sum = add(x, y);\n",
    "    printf(\"%d\", sum);\n",
    "    return 0;\n",
    "}\n",
    "\n",
    "int add(int x, int y) {   /* function definition (and declaration) */\n",
    "    return x + y;\n",
    "}"
   ]
  },
  {
   "cell_type": "markdown",
   "id": "a8c5aed7",
   "metadata": {},
   "source": [
    "If a function declaration is missing before a function call, the compiler issues a warning."
   ]
  },
  {
   "cell_type": "code",
   "execution_count": 39,
   "id": "d0ca07bd",
   "metadata": {},
   "outputs": [
    {
     "name": "stderr",
     "output_type": "stream",
     "text": [
      "/tmp/tmpe6jm12l2.c: In function ‘main’:\n",
      "/tmp/tmpe6jm12l2.c:6:15: warning: implicit declaration of function ‘add’ [-Wimplicit-function-declaration]\n",
      "    6 |     int sum = add(x, y);\n",
      "      |               ^~~\n"
     ]
    },
    {
     "name": "stdout",
     "output_type": "stream",
     "text": [
      "11"
     ]
    }
   ],
   "source": [
    "#include <stdio.h>\n",
    "\n",
    "int main() {\n",
    "    int x = 5;\n",
    "    int y = 6;\n",
    "    int sum = add(x, y);\n",
    "    printf(\"%d\", sum);\n",
    "    return 0;\n",
    "}\n",
    "\n",
    "int add(int x, int y) {   /* function definition (and declaration) */\n",
    "    return x + y;\n",
    "}"
   ]
  },
  {
   "cell_type": "markdown",
   "id": "339b3429",
   "metadata": {},
   "source": [
    "Usually, a `*.h` file contains function declarations of functions in the corresponding `*.c` file. The `#include` directive is used to include the content of another file, usually a `*.h` file, into a `*.c` file."
   ]
  },
  {
   "cell_type": "code",
   "execution_count": 47,
   "id": "b151b67c",
   "metadata": {},
   "outputs": [
    {
     "name": "stdout",
     "output_type": "stream",
     "text": [
      "Hi!"
     ]
    }
   ],
   "source": [
    "#include <stdio.h>       /* Standard Library IO functions prototypes. */ \n",
    "                         /* Standard Library function definitions are linked to, automatically. */\n",
    "\n",
    "int main() {\n",
    "    printf(\"Hi!\");       /* 'printf' prototype defined in 'stdio.h' */\n",
    "    return 0;\n",
    "}"
   ]
  },
  {
   "cell_type": "markdown",
   "id": "6c3afff0",
   "metadata": {},
   "source": [
    "*Note:* The `#include` directive is recursive. Any directives in the included file are further executed."
   ]
  },
  {
   "cell_type": "markdown",
   "id": "924a5768",
   "metadata": {},
   "source": [
    "A *static* function may not be referenced outside the file it is defined in."
   ]
  },
  {
   "cell_type": "code",
   "execution_count": 50,
   "id": "6316edd4",
   "metadata": {},
   "outputs": [
    {
     "name": "stdout",
     "output_type": "stream",
     "text": [
      "11"
     ]
    }
   ],
   "source": [
    "#include <stdio.h>\n",
    "\n",
    "static int add(int x, int y);      /* static function declaration */\n",
    "\n",
    "int main() {\n",
    "    int x = 5;\n",
    "    int y = 6;\n",
    "    int sum = add(x, y);\n",
    "    printf(\"%d\", sum);\n",
    "    return 0;\n",
    "}\n",
    "\n",
    "static int add(int x, int y) {       /* static function definition */\n",
    "    return x + y;\n",
    "}"
   ]
  },
  {
   "cell_type": "markdown",
   "id": "4bc21520",
   "metadata": {},
   "source": [
    "If a static function is referenced outside the file it is defined in, the linker throws an error."
   ]
  },
  {
   "cell_type": "code",
   "execution_count": 65,
   "id": "b7283f47",
   "metadata": {},
   "outputs": [
    {
     "name": "stdout",
     "output_type": "stream",
     "text": [
      "3"
     ]
    }
   ],
   "source": [
    "//%cflags: .jupyter/add.c\n",
    "\n",
    "#include <stdio.h>\n",
    "\n",
    "int add(int x, int y);           /* 'add' is a global (non-static) function declaration */\n",
    "                                 /* to a global function definition in another file */\n",
    "\n",
    "int main() {\n",
    "    printf(\"%d\", add(1, 2));\n",
    "    return 0;\n",
    "}"
   ]
  },
  {
   "cell_type": "code",
   "execution_count": 66,
   "id": "e9a54733",
   "metadata": {},
   "outputs": [
    {
     "name": "stderr",
     "output_type": "stream",
     "text": [
      "/tmp/tmpy32z25fi.out: symbol lookup error: /tmp/tmpcjdsntr8.out: undefined symbol: add\n",
      "[C kernel] Executable exited with code 127"
     ]
    }
   ],
   "source": [
    "//%cflags: .jupyter/add_static.c\n",
    "\n",
    "#include <stdio.h>\n",
    "\n",
    "int add(int x, int y);           /* 'add' is a global function declaration */\n",
    "                                 /* to a static function definition in another file */\n",
    "                                 \n",
    "int main() {\n",
    "    printf(\"%d\", add(1, 2));\n",
    "    return 0;\n",
    "}"
   ]
  },
  {
   "cell_type": "markdown",
   "id": "6c1a9bbd",
   "metadata": {},
   "source": [
    "If a static function declaration is present before a function call, while the function definition is missing, the compiler issues a warning only."
   ]
  },
  {
   "cell_type": "code",
   "execution_count": 72,
   "id": "63965fd1",
   "metadata": {},
   "outputs": [
    {
     "name": "stderr",
     "output_type": "stream",
     "text": [
      "/tmp/tmpwmvlfefi.c:3:12: warning: ‘add’ used but never defined\n",
      "    3 | static int add(int x, int y);\n",
      "      |            ^~~\n",
      "/tmp/tmpy32z25fi.out: symbol lookup error: /tmp/tmpv305fucn.out: undefined symbol: add\n",
      "[C kernel] Executable exited with code 127"
     ]
    }
   ],
   "source": [
    "#include <stdio.h>\n",
    "\n",
    "static int add(int x, int y);\n",
    "\n",
    "int main() {\n",
    "    printf(\"%d\", add(1, 2));\n",
    "    return 0;\n",
    "}"
   ]
  },
  {
   "cell_type": "markdown",
   "id": "cf81cc46",
   "metadata": {},
   "source": [
    "In C, function parameters are passed by value."
   ]
  },
  {
   "cell_type": "code",
   "execution_count": 48,
   "id": "08400d8e",
   "metadata": {
    "scrolled": true
   },
   "outputs": [
    {
     "name": "stdout",
     "output_type": "stream",
     "text": [
      "5"
     ]
    }
   ],
   "source": [
    "#include <stdio.h>\n",
    "\n",
    "void increment(int x) {\n",
    "    x++; \n",
    "}\n",
    "\n",
    "int main() {\n",
    "    int x = 5;\n",
    "    increment(x);\n",
    "    printf(\"%d\", x);\n",
    "}"
   ]
  },
  {
   "cell_type": "markdown",
   "id": "9a6ead6e",
   "metadata": {},
   "source": [
    "### Variables <a class=\"anchor\" id=\"variables\"></a>"
   ]
  },
  {
   "cell_type": "markdown",
   "id": "2724f3f4",
   "metadata": {},
   "source": [
    "#### Local Variables <a class=\"anchor\" id=\"local-variables\"></a>"
   ]
  },
  {
   "cell_type": "markdown",
   "id": "7a7e17b9",
   "metadata": {},
   "source": [
    "Variables defined within a function have *local* scope. They can only be accessed within that function."
   ]
  },
  {
   "cell_type": "code",
   "execution_count": 98,
   "id": "5aa49280",
   "metadata": {},
   "outputs": [
    {
     "name": "stdout",
     "output_type": "stream",
     "text": [
      "10"
     ]
    }
   ],
   "source": [
    "#include <stdio.h>\n",
    "\n",
    "int main() {\n",
    "    int x = 10;\n",
    "    printf(\"%d\", x);\n",
    "    return 0;\n",
    "}"
   ]
  },
  {
   "cell_type": "markdown",
   "id": "78c12122",
   "metadata": {},
   "source": [
    "Uninitialized local variables contain *garbage* values."
   ]
  },
  {
   "cell_type": "code",
   "execution_count": 100,
   "id": "60c0301b",
   "metadata": {},
   "outputs": [
    {
     "name": "stdout",
     "output_type": "stream",
     "text": [
      "32767"
     ]
    }
   ],
   "source": [
    "#include <stdio.h>\n",
    "\n",
    "int main() {\n",
    "    int x;\n",
    "    printf(\"%d\", x);\n",
    "    return 0;\n",
    "}"
   ]
  },
  {
   "cell_type": "markdown",
   "id": "3dffd9da",
   "metadata": {},
   "source": [
    "Local variables may be `auto` or `static`. `auto` local variables are allocated and deallocated with each function call. `static` local variables persist throughout the lifetime of the program."
   ]
  },
  {
   "cell_type": "code",
   "execution_count": 90,
   "id": "238fe785",
   "metadata": {},
   "outputs": [
    {
     "name": "stdout",
     "output_type": "stream",
     "text": [
      "11\n",
      "11\n",
      "11\n"
     ]
    }
   ],
   "source": [
    "#include <stdio.h>\n",
    "\n",
    "int x_plus_one();\n",
    "\n",
    "int main() {\n",
    "    printf(\"%d\\n\", x_plus_one());\n",
    "    printf(\"%d\\n\", x_plus_one());\n",
    "    printf(\"%d\\n\", x_plus_one());\n",
    "    return 0;\n",
    "}\n",
    "\n",
    "int x_plus_one() {\n",
    "    auto int x = 10;         /* auto local variable definition executed */\n",
    "                             /* with each function call */\n",
    "    return ++x;\n",
    "}"
   ]
  },
  {
   "cell_type": "code",
   "execution_count": 91,
   "id": "68bf7649",
   "metadata": {},
   "outputs": [
    {
     "name": "stdout",
     "output_type": "stream",
     "text": [
      "11\n",
      "12\n",
      "13\n"
     ]
    }
   ],
   "source": [
    "#include <stdio.h>\n",
    "\n",
    "int x_plus_one();\n",
    "\n",
    "int main() {\n",
    "    printf(\"%d\\n\", x_plus_one());\n",
    "    printf(\"%d\\n\", x_plus_one());\n",
    "    printf(\"%d\\n\", x_plus_one());\n",
    "    return 0;\n",
    "}\n",
    "\n",
    "int x_plus_one() {\n",
    "    static int x = 10;         /* static local variable definition executed */\n",
    "                               /* once only at start of program, and not with */\n",
    "                               /* each function call */\n",
    "    return ++x;\n",
    "}"
   ]
  },
  {
   "cell_type": "markdown",
   "id": "1212acfa",
   "metadata": {},
   "source": [
    "*Note:* Local variables are `auto` by default."
   ]
  },
  {
   "cell_type": "markdown",
   "id": "6e5783c0",
   "metadata": {},
   "source": [
    "*Note:* Storage class specifiers may come before or after the data type."
   ]
  },
  {
   "cell_type": "markdown",
   "id": "173ca99c",
   "metadata": {},
   "source": [
    "Local variables may also be `register`. The `register` *storage class specifier* tells the compiler to allocate and deallocate memory with each function call, but in one of the CPU's registers, for faster access."
   ]
  },
  {
   "cell_type": "code",
   "execution_count": 537,
   "id": "0f72c1b8",
   "metadata": {},
   "outputs": [
    {
     "name": "stdout",
     "output_type": "stream",
     "text": [
      "11\n",
      "11\n",
      "11\n"
     ]
    }
   ],
   "source": [
    "#include <stdio.h>\n",
    "\n",
    "int x_plus_one();\n",
    "\n",
    "int main() {\n",
    "    printf(\"%d\\n\", x_plus_one());\n",
    "    printf(\"%d\\n\", x_plus_one());\n",
    "    printf(\"%d\\n\", x_plus_one());\n",
    "    return 0;\n",
    "}\n",
    "\n",
    "int x_plus_one() {\n",
    "    int x = 10;         /* register (auto) local variable definition executed */\n",
    "                             /* with each function call */\n",
    "    return ++x;\n",
    "}"
   ]
  },
  {
   "cell_type": "markdown",
   "id": "abdba451",
   "metadata": {},
   "source": [
    "*Note:* The `register` storage class specifier may be ignored by the compiler, defaulting to `auto`."
   ]
  },
  {
   "cell_type": "markdown",
   "id": "0860060c",
   "metadata": {},
   "source": [
    "If mulitple storage class specifiers are used on a single local variable, the compiler throws an error."
   ]
  },
  {
   "cell_type": "code",
   "execution_count": 116,
   "id": "c89cf9d3",
   "metadata": {},
   "outputs": [
    {
     "name": "stderr",
     "output_type": "stream",
     "text": [
      "/tmp/tmpze_ttdz4.c: In function ‘x_plus_one’:\n",
      "/tmp/tmpze_ttdz4.c:13:5: error: multiple storage classes in declaration specifiers\n",
      "   13 |     auto register int x = 10;         /* register (auto) local variable definition executed */\n",
      "      |     ^~~~\n",
      "[C kernel] GCC exited with code 1, the executable will not be executed"
     ]
    }
   ],
   "source": [
    "#include <stdio.h>\n",
    "\n",
    "int x_plus_one();\n",
    "\n",
    "int main() {\n",
    "    printf(\"%d\\n\", x_plus_one());\n",
    "    printf(\"%d\\n\", x_plus_one());\n",
    "    printf(\"%d\\n\", x_plus_one());\n",
    "    return 0;\n",
    "}\n",
    "\n",
    "int x_plus_one() {\n",
    "    auto register int x = 10;         /* register (auto) local variable definition executed */\n",
    "                             /* with each function call */\n",
    "    return ++x;\n",
    "}"
   ]
  },
  {
   "cell_type": "markdown",
   "id": "8675a45e",
   "metadata": {},
   "source": [
    "#### Global variables <a class=\"anchor\" id=\"global-variables\"></a>"
   ]
  },
  {
   "cell_type": "markdown",
   "id": "13d0e6c6",
   "metadata": {},
   "source": [
    "Variables defined outside a function have *global* scope. They can be accessed within any function in any file, as long as a declaration of the variable preceeds."
   ]
  },
  {
   "cell_type": "code",
   "execution_count": 77,
   "id": "1819096b",
   "metadata": {},
   "outputs": [
    {
     "name": "stdout",
     "output_type": "stream",
     "text": [
      "10"
     ]
    }
   ],
   "source": [
    "#include <stdio.h>\n",
    "\n",
    "int x = 10;      /* variable definition (and declaration) */\n",
    "\n",
    "int main() {\n",
    "    printf(\"%d\", x);\n",
    "    return 0;\n",
    "}"
   ]
  },
  {
   "cell_type": "markdown",
   "id": "a7c69415",
   "metadata": {},
   "source": [
    "Explicitly uninitialized global variables are implicitly initialized to zero."
   ]
  },
  {
   "cell_type": "code",
   "execution_count": 101,
   "id": "f7094883",
   "metadata": {},
   "outputs": [
    {
     "name": "stdout",
     "output_type": "stream",
     "text": [
      "0"
     ]
    }
   ],
   "source": [
    "#include <stdio.h>\n",
    "\n",
    "int x;        /* variable definition (and declaration) */\n",
    "\n",
    "int main() {\n",
    "    printf(\"%d\", x);\n",
    "    return 0;\n",
    "}"
   ]
  },
  {
   "cell_type": "markdown",
   "id": "8c44cfc8",
   "metadata": {},
   "source": [
    "The keyword `extern` is used to declare variables, that may be defined later in the file, or within another file."
   ]
  },
  {
   "cell_type": "code",
   "execution_count": 539,
   "id": "db9131db",
   "metadata": {},
   "outputs": [
    {
     "name": "stdout",
     "output_type": "stream",
     "text": [
      "23"
     ]
    }
   ],
   "source": [
    "//%cflags: .jupyter/x_def.c\n",
    "\n",
    "#include <stdio.h>\n",
    "\n",
    "extern int x;      /* Variable declaration */\n",
    "                   /* Variable definition resides in '.jupyter/x_def.c' */\n",
    "\n",
    "int main() {\n",
    "    printf(\"%d\", x);\n",
    "    return 0;\n",
    "}"
   ]
  },
  {
   "cell_type": "markdown",
   "id": "e4cdfb9c",
   "metadata": {},
   "source": [
    "`static` global variables may not be accessed within another file."
   ]
  },
  {
   "cell_type": "code",
   "execution_count": 108,
   "id": "cf8d801b",
   "metadata": {},
   "outputs": [
    {
     "name": "stderr",
     "output_type": "stream",
     "text": [
      "/tmp/tmpy32z25fi.out: /tmp/tmpqrzuawqj.out: undefined symbol: x\n",
      "[C kernel] Executable exited with code 1"
     ]
    }
   ],
   "source": [
    "//%cflags: .jupyter/x_def_static.c\n",
    "\n",
    "#include <stdio.h>\n",
    "\n",
    "extern int x;      /* Variable declaration */\n",
    "                   /* Static variable definition resides in '.jupyter/x_def_static.c' */\n",
    "\n",
    "int main() {\n",
    "    printf(\"%d\", x);\n",
    "    return 0;\n",
    "}"
   ]
  },
  {
   "cell_type": "markdown",
   "id": "31f67fe8",
   "metadata": {},
   "source": [
    "#### Scope"
   ]
  },
  {
   "cell_type": "markdown",
   "id": "6fd03eb0",
   "metadata": {},
   "source": [
    "Within a *scope*, identifiers must be unique. Within a *nested scope*, identifiers will overshadow similar identifiers in the parent scope."
   ]
  },
  {
   "cell_type": "markdown",
   "id": "0edcf603",
   "metadata": {},
   "source": [
    "A *local scope* within a function can be considered nested within the *global scope* of the containing file (or across files)."
   ]
  },
  {
   "cell_type": "code",
   "execution_count": 446,
   "id": "dcd2e52c",
   "metadata": {},
   "outputs": [
    {
     "name": "stdout",
     "output_type": "stream",
     "text": [
      "2"
     ]
    }
   ],
   "source": [
    "#include <stdio.h>\n",
    "\n",
    "int x = 1;\n",
    "\n",
    "int main() {\n",
    "    int x = 2;\n",
    "    printf(\"%d\", x);\n",
    "}"
   ]
  },
  {
   "cell_type": "markdown",
   "id": "41c5873c",
   "metadata": {},
   "source": [
    "Braces define scope. A nested scope can be defined within a function by using braces."
   ]
  },
  {
   "cell_type": "code",
   "execution_count": 260,
   "id": "a82cd8d4",
   "metadata": {},
   "outputs": [
    {
     "name": "stdout",
     "output_type": "stream",
     "text": [
      "Global scope: 1\n",
      "Local scope: 2\n",
      "Nested Scope: 3\n",
      "Again, local scope: 2\n"
     ]
    }
   ],
   "source": [
    "#include <stdio.h>\n",
    "\n",
    "int x = 1;\n",
    "\n",
    "int main() {\n",
    "    printf(\"Global scope: %d\\n\", x);\n",
    "    int x = 2;\n",
    "    printf(\"Local scope: %d\\n\", x);\n",
    "    {\n",
    "        int x = 3;\n",
    "        printf(\"Nested Scope: %d\\n\", x);\n",
    "    }\n",
    "    printf(\"Again, local scope: %d\\n\", x);\n",
    "}"
   ]
  },
  {
   "cell_type": "markdown",
   "id": "381b8817",
   "metadata": {},
   "source": [
    "*Note:* Defined local variables within a nested scope are deallocated once the scope ends."
   ]
  },
  {
   "cell_type": "markdown",
   "id": "109d5375",
   "metadata": {},
   "source": [
    "### Casting <a class=\"anchor\" id=\"casting\"></a>"
   ]
  },
  {
   "cell_type": "markdown",
   "id": "8d8321b3",
   "metadata": {},
   "source": [
    "In C, *implicit casting* of one data type into another never throws any error."
   ]
  },
  {
   "cell_type": "code",
   "execution_count": 135,
   "id": "e0b27c24",
   "metadata": {},
   "outputs": [
    {
     "name": "stdout",
     "output_type": "stream",
     "text": [
      "13"
     ]
    }
   ],
   "source": [
    "#include <stdio.h>\n",
    "\n",
    "int main() {\n",
    "    float x = 13.0f;             /* float literal, discussed later */\n",
    "    printf(\"%d\", (int) x);\n",
    "    return 0;\n",
    "}"
   ]
  },
  {
   "cell_type": "markdown",
   "id": "f9ce06de",
   "metadata": {},
   "source": [
    "In arithmetic, bitwise, comparison and equivalence operations, the C compiler follows a number of casting rules:\n",
    "* `char` and `short` types are promoted to `int` by default.\n",
    "* If different integer data types are present, implicit conversion occurs towards the largest data type.\n",
    "* If `signed` and `unsigned` data types are present, implicit conversion occurs towards the `unsigned` data type.\n",
    "* If integer and floating-point types are present, implicit conversion occurs towards the floating-point data type.\n",
    "* If different floating-point types are present, implicit conversion occurs towards the largest floating-point data type."
   ]
  },
  {
   "cell_type": "code",
   "execution_count": 192,
   "id": "4ab91ea5",
   "metadata": {},
   "outputs": [
    {
     "name": "stdout",
     "output_type": "stream",
     "text": [
      "4294967295"
     ]
    }
   ],
   "source": [
    "#include <stdio.h>\n",
    "\n",
    "                    /* signed to unsigned */\n",
    "int main() {\n",
    "    signed int x = -1; \n",
    "    printf(\"%u\", x);         /* print as unsigned, discussed later */\n",
    "    return 0;\n",
    "}"
   ]
  },
  {
   "cell_type": "code",
   "execution_count": 193,
   "id": "2cf52cb7",
   "metadata": {},
   "outputs": [
    {
     "name": "stdout",
     "output_type": "stream",
     "text": [
      "-1"
     ]
    }
   ],
   "source": [
    "#include <stdio.h>\n",
    "\n",
    "                    /* unsigned to signed */\n",
    "int main() {\n",
    "    unsigned int x = 4294967295; \n",
    "    printf(\"%d\", x);                  /* print as signed, discussed later */\n",
    "    return 0;\n",
    "}"
   ]
  },
  {
   "cell_type": "markdown",
   "id": "c814b0c8",
   "metadata": {},
   "source": [
    "*Note:* The bits remain unchanged while casting from `signed` to `unsigned`, and vice versa."
   ]
  },
  {
   "cell_type": "code",
   "execution_count": 163,
   "id": "203f74c7",
   "metadata": {},
   "outputs": [
    {
     "name": "stdout",
     "output_type": "stream",
     "text": [
      "1"
     ]
    }
   ],
   "source": [
    "#include <stdio.h>\n",
    "\n",
    "                    /* unsigned int to unsigned long long */\n",
    "int main() {\n",
    "    unsigned int x = 1; \n",
    "    printf(\"%llu\", (unsigned long long) x);         /* print as unsigned long long, discussed later */\n",
    "    return 0;\n",
    "}"
   ]
  },
  {
   "cell_type": "code",
   "execution_count": 191,
   "id": "5a86bda1",
   "metadata": {},
   "outputs": [
    {
     "name": "stdout",
     "output_type": "stream",
     "text": [
      "-1\n",
      "1\n"
     ]
    }
   ],
   "source": [
    "#include <stdio.h>\n",
    "\n",
    "                    /* signed int to signed long long */\n",
    "int main() {\n",
    "    signed int x = -1; \n",
    "    printf(\"%lld\\n\", (signed long long) x);         /* print as signed long long, discussed later */\n",
    "    \n",
    "    x = 1; \n",
    "    printf(\"%lld\\n\", (signed long long) x);\n",
    "    return 0;\n",
    "}"
   ]
  },
  {
   "cell_type": "markdown",
   "id": "4309c8d7",
   "metadata": {},
   "source": [
    "*Note:* Casting an integer data type into a larger data type, the bits will be zero-expanded if it is `signed` and non-negative, or `unsigned`. It will be one-expanded if it is `signed` and negative."
   ]
  },
  {
   "cell_type": "code",
   "execution_count": 461,
   "id": "4c663248",
   "metadata": {},
   "outputs": [
    {
     "name": "stdout",
     "output_type": "stream",
     "text": [
      "255"
     ]
    }
   ],
   "source": [
    "#include <stdio.h>\n",
    "#include <limits.h>\n",
    "\n",
    "                    /* signed int to signed long long */\n",
    "int main() {\n",
    "    unsigned int x = UINT_MAX;\n",
    "    printf(\"%u\", (unsigned char) x);\n",
    "}"
   ]
  },
  {
   "cell_type": "markdown",
   "id": "227826f9",
   "metadata": {},
   "source": [
    "*Note:* Casting an integer data type into a smaller data type, bits are simply omitted."
   ]
  },
  {
   "cell_type": "code",
   "execution_count": 515,
   "id": "99b38bf6",
   "metadata": {},
   "outputs": [
    {
     "name": "stdout",
     "output_type": "stream",
     "text": [
      "4294967290\n",
      "506\n"
     ]
    }
   ],
   "source": [
    "#include <stdio.h>\n",
    "#include <limits.h>\n",
    "\n",
    "                    /* signed int to signed long long */\n",
    "int main() {\n",
    "    unsigned char x = 2;\n",
    "    signed char y = -3;     /* 253 as 'unsigned char'*/\n",
    "    \n",
    "    printf(\"%u\\n\", x * y);\n",
    "    printf(\"%u\\n\", x * (unsigned char) y);\n",
    "}"
   ]
  },
  {
   "cell_type": "markdown",
   "id": "a0cee2df",
   "metadata": {},
   "source": [
    "*Note:* When casting, bit expansion or omission comes before sign conversion."
   ]
  },
  {
   "cell_type": "markdown",
   "id": "236bf386",
   "metadata": {},
   "source": [
    "### Literals <a class=\"anchor\" id=\"literals\"></a>"
   ]
  },
  {
   "cell_type": "markdown",
   "id": "4a2b9e73",
   "metadata": {},
   "source": [
    "#### Integer Literals <a class=\"anchor\" id=\"integer-literals\"></a>"
   ]
  },
  {
   "cell_type": "markdown",
   "id": "d3a840b8",
   "metadata": {},
   "source": [
    "| *Prefix* | *Type* | \n",
    "| --- | --- | \n",
    "|  | Decimal |\n",
    "| `0x`, `0X` | Hexadecimal |\n",
    "| `0` | Octal |\n",
    "| `0b`, `0B` | Binary |"
   ]
  },
  {
   "cell_type": "markdown",
   "id": "d587df0f",
   "metadata": {},
   "source": [
    "| *Suffix* | *Type* | \n",
    "| --- | --- | \n",
    "| <br> <br> <br> <br> (Non-Decimal) | `int` <br> `long int` <br> `long long int` <br><br> (`unsigned`) |\n",
    "| `u`, `U` | `unsigned int` <br> `unsigned long int` <br> `unsigned long long int` |\n",
    "| `l`, `L` | `long int` |\n",
    "| `ll`, `LL`  | `long long int` |\n",
    "| `ul`, `uL`, `Ul`, `UL` | `unsigned long int` |\n",
    "| `ull`, `uLL`, `Ull`, `ULL` | `unsigned long long int` |"
   ]
  },
  {
   "cell_type": "markdown",
   "id": "68cee0be",
   "metadata": {},
   "source": [
    "*Note:* If a value is too large for its data type, the compiler issues a warning."
   ]
  },
  {
   "cell_type": "markdown",
   "id": "d025bde5",
   "metadata": {},
   "source": [
    "#### Floating-point Literals <a class=\"anchor\" id=\"floating-point-literals\"></a>"
   ]
  },
  {
   "cell_type": "markdown",
   "id": "52334eec",
   "metadata": {},
   "source": [
    "| *Valid Format* | *Example* |\n",
    "| --- | --- |\n",
    "| *int.frac* | 1.1\n",
    "| *int.* | 1.\n",
    "| *.frac* | .1\n",
    "| *int-e-exp* | 1e-1"
   ]
  },
  {
   "cell_type": "markdown",
   "id": "9b1e50a5",
   "metadata": {},
   "source": [
    "| *Suffix* | *Type* |\n",
    "| --- | --- |\n",
    "|  | `double`\n",
    "| `f`, `F` | `float`\n",
    "| `l`, `L` | `long double`"
   ]
  },
  {
   "cell_type": "markdown",
   "id": "660432e3",
   "metadata": {},
   "source": [
    "#### Character Literals <a class=\"anchor\" id=\"character-literals\"></a>"
   ]
  },
  {
   "cell_type": "markdown",
   "id": "af507dc0",
   "metadata": {},
   "source": [
    "A *character literal* is simply a `char`, which value of is the *ASCII* code of the corresponding character."
   ]
  },
  {
   "cell_type": "markdown",
   "id": "ec1c876f",
   "metadata": {},
   "source": [
    "| *Example* | *ASCII code* |\n",
    "| --- | --- |\n",
    "| `'0'` | 48\n",
    "| `'A'` | 65\n",
    "| `'a'` | 97\n",
    "| `'\\n'` | 10\n",
    "| `'\\0'` | 0\n",
    "| `'\"'` | 34\n",
    "| `'\\''` | 39"
   ]
  },
  {
   "cell_type": "markdown",
   "id": "c9d1e000",
   "metadata": {},
   "source": [
    "### Conditional Execution <a class=\"anchor\" id=\"conditional-execution\"></a>"
   ]
  },
  {
   "cell_type": "markdown",
   "id": "e8953597",
   "metadata": {},
   "source": [
    "In C, in any decision (conditional branching), any non-zero value evaluates to true, and otherwise false."
   ]
  },
  {
   "cell_type": "code",
   "execution_count": 475,
   "id": "1c544fab",
   "metadata": {},
   "outputs": [
    {
     "name": "stdout",
     "output_type": "stream",
     "text": [
      "True!"
     ]
    }
   ],
   "source": [
    "#include <stdio.h>\n",
    "\n",
    "int main() {                /* if statement */\n",
    "    if (0.01) {\n",
    "        printf(\"True!\");\n",
    "    } else {\n",
    "        printf(\"False!\");\n",
    "    }\n",
    "    return 0;\n",
    "}"
   ]
  },
  {
   "cell_type": "code",
   "execution_count": 564,
   "id": "725dd8f4",
   "metadata": {},
   "outputs": [
    {
     "name": "stdout",
     "output_type": "stream",
     "text": [
      "T"
     ]
    }
   ],
   "source": [
    "#include <stdio.h>\n",
    "\n",
    "int main() {                /* ternary operator */\n",
    "    printf(\"%c\", 0.01 ? 'T' : 'F');\n",
    "    return 0;\n",
    "}"
   ]
  },
  {
   "cell_type": "markdown",
   "id": "24db5682",
   "metadata": {},
   "source": [
    "In C, loops consist of *while*, *do-while* and *for* loops."
   ]
  },
  {
   "cell_type": "code",
   "execution_count": 426,
   "id": "b6df5df9",
   "metadata": {},
   "outputs": [
    {
     "name": "stdout",
     "output_type": "stream",
     "text": [
      "3 2 1 "
     ]
    }
   ],
   "source": [
    "#include <stdio.h>\n",
    "\n",
    "int main() {\n",
    "    register int count = 3;\n",
    "    while (count) {\n",
    "        printf(\"%d \", count--);\n",
    "    }\n",
    "}"
   ]
  },
  {
   "cell_type": "code",
   "execution_count": 29,
   "id": "7d6fa873",
   "metadata": {
    "scrolled": true
   },
   "outputs": [
    {
     "name": "stdout",
     "output_type": "stream",
     "text": [
      "Hi!"
     ]
    }
   ],
   "source": [
    "#include <stdio.h>\n",
    "\n",
    "int main() {\n",
    "    do {\n",
    "        printf(\"Hi!\");\n",
    "    } while (0);\n",
    "}"
   ]
  },
  {
   "cell_type": "code",
   "execution_count": 428,
   "id": "a2ee600b",
   "metadata": {},
   "outputs": [
    {
     "name": "stdout",
     "output_type": "stream",
     "text": [
      "3 2 1 "
     ]
    }
   ],
   "source": [
    "#include <stdio.h>\n",
    "\n",
    "int main() {\n",
    "    register int count;\n",
    "    for (count = 3; count; count--) {\n",
    "        printf(\"%d \", count);\n",
    "    }\n",
    "}"
   ]
  },
  {
   "cell_type": "markdown",
   "id": "2ff6b329",
   "metadata": {},
   "source": [
    "*Note:* Use `break` and `continue` statements to break from a loop, or skip the current iteration, respectively."
   ]
  },
  {
   "cell_type": "markdown",
   "id": "6312e762",
   "metadata": {},
   "source": [
    "A *switch* is used to test for a specific value of an integer data type."
   ]
  },
  {
   "cell_type": "code",
   "execution_count": 477,
   "id": "504be402",
   "metadata": {},
   "outputs": [
    {
     "name": "stdout",
     "output_type": "stream",
     "text": [
      "Two."
     ]
    }
   ],
   "source": [
    "#include <stdio.h>\n",
    "\n",
    "int main() {\n",
    "    int x = 2;\n",
    "    switch (x) {\n",
    "        case 1:\n",
    "            printf(\"One.\");\n",
    "            break;\n",
    "        case 2:\n",
    "            printf(\"Two.\");\n",
    "            break;\n",
    "        default:\n",
    "            printf(\"Default.\");\n",
    "            break;\n",
    "    }\n",
    "}"
   ]
  },
  {
   "cell_type": "code",
   "execution_count": 481,
   "id": "af683dad",
   "metadata": {},
   "outputs": [
    {
     "name": "stderr",
     "output_type": "stream",
     "text": [
      "/tmp/tmp4fn7rtds.c: In function ‘main’:\n",
      "/tmp/tmp4fn7rtds.c:5:13: error: switch quantity not an integer\n",
      "    5 |     switch (x) {\n",
      "      |             ^\n",
      "/tmp/tmp4fn7rtds.c:6:9: error: case label does not reduce to an integer constant\n",
      "    6 |         case 1.0f:\n",
      "      |         ^~~~\n",
      "/tmp/tmp4fn7rtds.c:9:9: error: case label does not reduce to an integer constant\n",
      "    9 |         case 2.0f:\n",
      "      |         ^~~~\n",
      "[C kernel] GCC exited with code 1, the executable will not be executed"
     ]
    }
   ],
   "source": [
    "#include <stdio.h>\n",
    "\n",
    "int main() {\n",
    "    float x = 2.0f;\n",
    "    switch (x) {\n",
    "        case 1.0f:\n",
    "            printf(\"One.\");\n",
    "            break;\n",
    "        case 2.0f:\n",
    "            printf(\"Two.\");\n",
    "            break;\n",
    "        default:\n",
    "            printf(\"Default.\");\n",
    "            break;\n",
    "    }\n",
    "}"
   ]
  },
  {
   "cell_type": "markdown",
   "id": "81445d9f",
   "metadata": {},
   "source": [
    "Once a case matches in a switch, all statements further down are executed, regardless, until a `break` statement is met."
   ]
  },
  {
   "cell_type": "code",
   "execution_count": 431,
   "id": "b6f5d6b3",
   "metadata": {},
   "outputs": [
    {
     "name": "stdout",
     "output_type": "stream",
     "text": [
      "One.Two.Default."
     ]
    }
   ],
   "source": [
    "#include <stdio.h>\n",
    "\n",
    "int main() {\n",
    "    int x = 1;\n",
    "    switch (x) {\n",
    "        case 1:\n",
    "            printf(\"One.\");\n",
    "        case 2:\n",
    "            printf(\"Two.\");\n",
    "        default:\n",
    "            printf(\"Default.\");\n",
    "    }\n",
    "}"
   ]
  },
  {
   "cell_type": "markdown",
   "id": "1b3c4c04",
   "metadata": {},
   "source": [
    "If no case matches, the `default` (optional) case is executed."
   ]
  },
  {
   "cell_type": "code",
   "execution_count": 772,
   "id": "41993b2d",
   "metadata": {},
   "outputs": [
    {
     "name": "stdout",
     "output_type": "stream",
     "text": [
      "Default.One.Two."
     ]
    }
   ],
   "source": [
    "#include <stdio.h>\n",
    "\n",
    "int main() {\n",
    "    int x = 3;\n",
    "    switch (x) {\n",
    "        default:\n",
    "            printf(\"Default.\");\n",
    "        case 1:\n",
    "            printf(\"One.\");\n",
    "        case 2:\n",
    "            printf(\"Two.\");\n",
    "    }\n",
    "}"
   ]
  },
  {
   "cell_type": "markdown",
   "id": "1d70c022",
   "metadata": {},
   "source": [
    "*Note:* It is recommended to add a `break` statement at the end of each case."
   ]
  },
  {
   "cell_type": "markdown",
   "id": "ada6c74a",
   "metadata": {},
   "source": [
    "A `goto` statement jumps to a label in code, and can be used to implement conditional branching structures and functions calls from scratch."
   ]
  },
  {
   "cell_type": "code",
   "execution_count": 444,
   "id": "c08e4fc5",
   "metadata": {},
   "outputs": [
    {
     "name": "stdout",
     "output_type": "stream",
     "text": [
      "Bye!"
     ]
    }
   ],
   "source": [
    "#include <stdio.h>\n",
    "\n",
    "int main() {\n",
    "    goto skip;\n",
    "    printf(\"Hi!\");\n",
    "    skip:\n",
    "    printf(\"Bye!\");\n",
    "    return 0;\n",
    "}"
   ]
  },
  {
   "cell_type": "markdown",
   "id": "d2da93db",
   "metadata": {},
   "source": [
    "*Note:* A label must be defined within the same function in which it is used."
   ]
  },
  {
   "cell_type": "markdown",
   "id": "9f8e1b59",
   "metadata": {},
   "source": [
    "When working with `if`, `else`, `while`, `do`, and `for` keywords, it is not a must to define a new scope. Zero or one statements may follow without a new scope, with a terminating semicolon at the end."
   ]
  },
  {
   "cell_type": "code",
   "execution_count": 2,
   "id": "9feaa89d",
   "metadata": {
    "scrolled": true
   },
   "outputs": [
    {
     "name": "stdout",
     "output_type": "stream",
     "text": [
      "3\n",
      "2\n",
      "1\n"
     ]
    }
   ],
   "source": [
    "#include <stdio.h>\n",
    "\n",
    "int main() {\n",
    "    int x = 3;\n",
    "    while(x)\n",
    "        printf(\"%d\\n\", x--);\n",
    "    return 0;\n",
    "}"
   ]
  },
  {
   "cell_type": "code",
   "execution_count": 22,
   "id": "48a14c1f",
   "metadata": {},
   "outputs": [],
   "source": [
    "#include <stdio.h>\n",
    "\n",
    "int main() {\n",
    "    int x = 3;\n",
    "    while(x--)\n",
    "        ;\n",
    "    return 0;\n",
    "}"
   ]
  },
  {
   "cell_type": "markdown",
   "id": "3fe1210c",
   "metadata": {},
   "source": [
    "*Note:* A semicolon with no statement preceeding is called an *empty statement*."
   ]
  },
  {
   "cell_type": "markdown",
   "id": "54c1c2bf",
   "metadata": {},
   "source": [
    "Additionally, one more similar keyword may follow, instead of a semi-colon."
   ]
  },
  {
   "cell_type": "code",
   "execution_count": 24,
   "id": "583e0333",
   "metadata": {},
   "outputs": [
    {
     "name": "stdout",
     "output_type": "stream",
     "text": [
      "Else-If."
     ]
    }
   ],
   "source": [
    "#include <stdio.h>\n",
    "\n",
    "int main() {\n",
    "    if (0)\n",
    "        printf(\"If.\");\n",
    "    else if (1)              /* 'else' followed by 'if'\n",
    "        printf(\"Else-If.\");\n",
    "    else\n",
    "        ;\n",
    "    return 0;\n",
    "}"
   ]
  },
  {
   "cell_type": "markdown",
   "id": "1cd355e9",
   "metadata": {},
   "source": [
    "In some examples, the path of execution may become undefined (compiler-dependent)."
   ]
  },
  {
   "cell_type": "code",
   "execution_count": 17,
   "id": "eb601882",
   "metadata": {},
   "outputs": [
    {
     "name": "stdout",
     "output_type": "stream",
     "text": [
      "Else."
     ]
    }
   ],
   "source": [
    "#include <stdio.h>\n",
    "\n",
    "int main() {\n",
    "    if (1)\n",
    "        if (0)\n",
    "            ;\n",
    "    else                        /* 'else' associated with nested-'if' and not 'if' */\n",
    "        printf(\"Else.\");\n",
    "    return 0;\n",
    "}"
   ]
  },
  {
   "cell_type": "markdown",
   "id": "64054471",
   "metadata": {},
   "source": [
    "*Note:* It is preferred to always define a new scope after `if`, `else`, `while`, `do`, or `for`."
   ]
  },
  {
   "cell_type": "markdown",
   "id": "47d69fc1",
   "metadata": {},
   "source": [
    "## Pointers <a class=\"anchor\" id=\"pointers\"></a>"
   ]
  },
  {
   "cell_type": "markdown",
   "id": "8b8d30b5",
   "metadata": {},
   "source": [
    "A *pointer* is a variable that points to some location in memory, typically another variable's memory location. A pointer is typically associated with a specific data type in definition and declaration."
   ]
  },
  {
   "cell_type": "markdown",
   "id": "bd9be0b7",
   "metadata": {},
   "source": [
    "*Note:* The size of a pointer variable is architecture-dependent, since it depends on the address bus size."
   ]
  },
  {
   "cell_type": "code",
   "execution_count": 247,
   "id": "c6c8ef5f",
   "metadata": {},
   "outputs": [
    {
     "name": "stdout",
     "output_type": "stream",
     "text": [
      "10"
     ]
    }
   ],
   "source": [
    "#include <stdio.h>\n",
    "\n",
    "int main() {\n",
    "    int x = 5;\n",
    "    int *ptr;            /* pointer variable definition and declaration (using the dereference operator '*') */\n",
    "    ptr = &x;            /* '&' reference operator, yields address location of 'x' */\n",
    "    *ptr = 10;           /* '*' dereference operator, accesses memory at address location stored in 'ptr' */\n",
    "    printf(\"%d\", x);\n",
    "    return 0;\n",
    "}"
   ]
  },
  {
   "cell_type": "markdown",
   "id": "ba332eeb",
   "metadata": {},
   "source": [
    "If implicitly casting a literal, usually a hexadecimal value, as a pointer, the compiler issues a warning."
   ]
  },
  {
   "cell_type": "code",
   "execution_count": 509,
   "id": "3a646529",
   "metadata": {},
   "outputs": [
    {
     "name": "stderr",
     "output_type": "stream",
     "text": [
      "/tmp/tmpnoshsqds.c: In function ‘main’:\n",
      "/tmp/tmpnoshsqds.c:2:16: warning: initialization of ‘int *’ from ‘int’ makes pointer from integer without a cast [-Wint-conversion]\n",
      "    2 |     int *ptr = 0x12345678;\n",
      "      |                ^~~~~~~~~~\n"
     ]
    }
   ],
   "source": [
    "int main() {\n",
    "    int *ptr = 0x12345678;\n",
    "    return 0;\n",
    "}"
   ]
  },
  {
   "cell_type": "markdown",
   "id": "f967ab33",
   "metadata": {},
   "source": [
    "If implicitly casting a pointer as an integer data type, the compiler also issues a warning."
   ]
  },
  {
   "cell_type": "code",
   "execution_count": 512,
   "id": "a0ce57a2",
   "metadata": {},
   "outputs": [
    {
     "name": "stderr",
     "output_type": "stream",
     "text": [
      "/tmp/tmp633j5827.c: In function ‘main’:\n",
      "/tmp/tmp633j5827.c:3:38: warning: initialization of ‘long long unsigned int’ from ‘int *’ makes integer from pointer without a cast [-Wint-conversion]\n",
      "    3 |     unsigned long long int address = &x;\n",
      "      |                                      ^\n"
     ]
    }
   ],
   "source": [
    "int main() {\n",
    "    int x = 5;\n",
    "    unsigned long long int address = &x;\n",
    "    return 0;\n",
    "}"
   ]
  },
  {
   "cell_type": "markdown",
   "id": "efc6d19b",
   "metadata": {},
   "source": [
    "A *double pointer* points to a pointer."
   ]
  },
  {
   "cell_type": "code",
   "execution_count": 530,
   "id": "7e1d6691",
   "metadata": {},
   "outputs": [
    {
     "name": "stdout",
     "output_type": "stream",
     "text": [
      "5"
     ]
    }
   ],
   "source": [
    "#include <stdio.h>\n",
    "\n",
    "int main() {\n",
    "    int x = 5;\n",
    "    int *ptr = &x;\n",
    "    int **dbPtr = &ptr;\n",
    "    printf(\"%d\", **dbPtr);\n",
    "}"
   ]
  },
  {
   "cell_type": "markdown",
   "id": "4c2282ab",
   "metadata": {},
   "source": [
    "*Note:* A triple pointer points to a double pointer, and so on."
   ]
  },
  {
   "cell_type": "markdown",
   "id": "af3db30d",
   "metadata": {},
   "source": [
    "If implicitly casting a pointer to a double pointer, or vice versa, the compiler issues a warning."
   ]
  },
  {
   "cell_type": "code",
   "execution_count": 531,
   "id": "6e4836cb",
   "metadata": {},
   "outputs": [
    {
     "name": "stderr",
     "output_type": "stream",
     "text": [
      "/tmp/tmpfkcq_uhc.c: In function ‘main’:\n",
      "/tmp/tmpfkcq_uhc.c:6:19: warning: initialization of ‘int **’ from incompatible pointer type ‘int *’ [-Wincompatible-pointer-types]\n",
      "    6 |     int **dbPtr = ptr;\n",
      "      |                   ^~~\n"
     ]
    }
   ],
   "source": [
    "#include <stdio.h>\n",
    "\n",
    "int main() {\n",
    "    int x = 5;\n",
    "    int *ptr = &x;\n",
    "    int **dbPtr = ptr;\n",
    "}"
   ]
  },
  {
   "cell_type": "markdown",
   "id": "435b8728",
   "metadata": {},
   "source": [
    "Pointers allow a function to modify variables outside of its scope."
   ]
  },
  {
   "cell_type": "code",
   "execution_count": 506,
   "id": "d033c65b",
   "metadata": {},
   "outputs": [
    {
     "name": "stdout",
     "output_type": "stream",
     "text": [
      "-3"
     ]
    }
   ],
   "source": [
    "#include <stdio.h>\n",
    "\n",
    "void increment(int *x);\n",
    "\n",
    "int main() {\n",
    "    int x = -4;\n",
    "    increment(&x);\n",
    "    printf(\"%d\", x);\n",
    "}\n",
    "\n",
    "void increment(int *x) {\n",
    "    (*x)++;\n",
    "}"
   ]
  },
  {
   "cell_type": "markdown",
   "id": "e8c9beb9",
   "metadata": {},
   "source": [
    "A *wild pointer* is an uninitialized local pointer. Since uninitialized local variables contain garbage values, a wild pointer is dangerous. If dereferenced, an attempt to write to a random location occurs, resulting in a bug. If this location is read-only at the moment of writing, a run-time segmentation error occurs."
   ]
  },
  {
   "cell_type": "markdown",
   "id": "6f0be84c",
   "metadata": {},
   "source": [
    "*Note:* Generally, compilers warn about wild pointers."
   ]
  },
  {
   "cell_type": "markdown",
   "id": "49e3af46",
   "metadata": {},
   "source": [
    "To avoid wild pointers, initialize local pointer variables with `NULL`, which is a *macro definition* (discussed later) defined in the standard library headers, including `stddef.h`, `stdlib.h` and `stdio.h`. `NULL` is simply defined as `0`. The C Standard gurantees that an executable exits immediately when an attempt to write to the `0` memory location is made. This well-defined behavior makes it easier to debug defected code."
   ]
  },
  {
   "cell_type": "code",
   "execution_count": 258,
   "id": "6d57986d",
   "metadata": {},
   "outputs": [
    {
     "name": "stderr",
     "output_type": "stream",
     "text": [
      "[C kernel] Executable exited with code -11"
     ]
    }
   ],
   "source": [
    "#include \"stdio.h\"\n",
    "\n",
    "int main() {\n",
    "    int *ptr = NULL;\n",
    "    *ptr = 50;\n",
    "    return 0;\n",
    "}"
   ]
  },
  {
   "cell_type": "markdown",
   "id": "334323f5",
   "metadata": {},
   "source": [
    "Adding or subtracting an integer data type from a pointer is permitted, and results in a pointer."
   ]
  },
  {
   "cell_type": "code",
   "execution_count": 324,
   "id": "87006a4c",
   "metadata": {},
   "outputs": [
    {
     "name": "stdout",
     "output_type": "stream",
     "text": [
      "5\n",
      "10\n",
      "20\n"
     ]
    }
   ],
   "source": [
    "#include \"stdio.h\"\n",
    "\n",
    "int main() {\n",
    "    int x = 5;\n",
    "    int y = 10;\n",
    "    int z = 20;\n",
    "    \n",
    "    int *ptr = &x;\n",
    "    \n",
    "    printf(\"%d\\n\", *ptr);\n",
    "    printf(\"%d\\n\", *(ptr+1));\n",
    "    printf(\"%d\\n\", *(ptr+2));\n",
    "    return 0;\n",
    "}"
   ]
  },
  {
   "cell_type": "markdown",
   "id": "e1237047",
   "metadata": {},
   "source": [
    "*Note:* Since each address in memory points to a specific byte, incrementing a pointer increases the address stored in the pointer variable by the number of bytes needed to store the data type associated with the pointer variable."
   ]
  },
  {
   "cell_type": "markdown",
   "id": "bc5d3266",
   "metadata": {},
   "source": [
    "Subtraction between two pointers of the same data type is permitted, and results in an integer data type, the size of a pointer (architecture-dependent)."
   ]
  },
  {
   "cell_type": "code",
   "execution_count": 488,
   "id": "2ec387d2",
   "metadata": {},
   "outputs": [
    {
     "name": "stdout",
     "output_type": "stream",
     "text": [
      "1\n"
     ]
    }
   ],
   "source": [
    "#include \"stdio.h\"\n",
    "\n",
    "int main() {\n",
    "    int x = 5;\n",
    "    int y = 10;\n",
    "    \n",
    "    printf(\"%ld\\n\", &y - &x);\n",
    "    return 0;\n",
    "}"
   ]
  },
  {
   "cell_type": "markdown",
   "id": "9d834df9",
   "metadata": {},
   "source": [
    "*Note:* The result of pointer subtraction is divided by the number of bytes needed to store the associated data type."
   ]
  },
  {
   "cell_type": "markdown",
   "id": "b73d913f",
   "metadata": {},
   "source": [
    "*Note:* Subtracting two pointers of different associated data types, the compiler throws an error. "
   ]
  },
  {
   "cell_type": "markdown",
   "id": "4dffa4a5",
   "metadata": {},
   "source": [
    "*Note:* Subtracting two pointers makes more sense when working with arrays, discussed later."
   ]
  },
  {
   "cell_type": "markdown",
   "id": "422445e6",
   "metadata": {},
   "source": [
    "Comparison and equivalence operators may be used between pointers of the same data type."
   ]
  },
  {
   "cell_type": "code",
   "execution_count": 362,
   "id": "62da6dfc",
   "metadata": {},
   "outputs": [
    {
     "name": "stdout",
     "output_type": "stream",
     "text": [
      "1\n"
     ]
    }
   ],
   "source": [
    "#include \"stdio.h\"\n",
    "\n",
    "int main() {\n",
    "    int x = 5;\n",
    "    int y = 10;\n",
    "    \n",
    "    printf(\"%d\\n\", &y > &x);\n",
    "    return 0;\n",
    "}"
   ]
  },
  {
   "cell_type": "markdown",
   "id": "1f3d2d3f",
   "metadata": {},
   "source": [
    "*Note:* If comparison or equivalence operators are used between pointers of different data types, or between a pointer and an integer data type, the compiler issues a warning."
   ]
  },
  {
   "cell_type": "markdown",
   "id": "fb546f6a",
   "metadata": {},
   "source": [
    "### `void *` <a class=\"anchor\" id=\"void\"></a>"
   ]
  },
  {
   "cell_type": "markdown",
   "id": "aa52c7be",
   "metadata": {},
   "source": [
    "A *void pointer* is a pointer with no associated data type. If dereferenced and read from or written to, the compiler throws an error. All other operations are, however, valid."
   ]
  },
  {
   "cell_type": "code",
   "execution_count": 400,
   "id": "2a794ea8",
   "metadata": {},
   "outputs": [
    {
     "name": "stderr",
     "output_type": "stream",
     "text": [
      "/tmp/tmpb5of1xpr.c: In function ‘main’:\n",
      "/tmp/tmpb5of1xpr.c:6:5: warning: dereferencing ‘void *’ pointer\n",
      "    6 |     *ptr = 6;\n",
      "      |     ^~~~\n",
      "/tmp/tmpb5of1xpr.c:6:10: error: invalid use of void expression\n",
      "    6 |     *ptr = 6;\n",
      "      |          ^\n",
      "[C kernel] GCC exited with code 1, the executable will not be executed"
     ]
    }
   ],
   "source": [
    "#include \"stdio.h\"\n",
    "\n",
    "int main() {\n",
    "    int x = 5;\n",
    "    void *ptr = &x;\n",
    "    *ptr = 6;\n",
    "    return 0;\n",
    "}"
   ]
  },
  {
   "cell_type": "code",
   "execution_count": 402,
   "id": "da23580b",
   "metadata": {},
   "outputs": [
    {
     "name": "stdout",
     "output_type": "stream",
     "text": [
      "7ffd0a7a4484\n",
      "7ffd0a7a4485\n",
      "4\n",
      "1\n"
     ]
    }
   ],
   "source": [
    "#include \"stdio.h\"\n",
    "\n",
    "int main() {\n",
    "    int x = 5;\n",
    "    int y = 10;\n",
    "    void *ptr = &x;\n",
    "    void *ptr2 = &y;\n",
    "    \n",
    "    printf(\"%lx\\n\", (unsigned long int) (ptr2));\n",
    "    printf(\"%lx\\n\", (unsigned long int) (ptr2+1));\n",
    "    printf(\"%lx\\n\", ptr2 - ptr);\n",
    "    printf(\"%d\\n\", ptr < ptr2);\n",
    "    \n",
    "    return 0;\n",
    "}"
   ]
  },
  {
   "cell_type": "markdown",
   "id": "329dbf0a",
   "metadata": {},
   "source": [
    "*Note:* Operations on void pointers assume a byte-sized data type (e.g: char), since there is no associated data type."
   ]
  },
  {
   "cell_type": "markdown",
   "id": "12bd102d",
   "metadata": {},
   "source": [
    "### Function Pointers <a class=\"anchor\" id=\"function-pointers\"></a>"
   ]
  },
  {
   "cell_type": "markdown",
   "id": "416f37f7",
   "metadata": {},
   "source": [
    "A *function pointer* points to a function's memory location. It must define the number of parameters and corresponding types, as well as the return type."
   ]
  },
  {
   "cell_type": "code",
   "execution_count": null,
   "id": "b6639ce2",
   "metadata": {},
   "outputs": [],
   "source": [
    "int * add(int x, int y);            /* This is a function, that accepts */\n",
    "                                    /* two 'int' parameters, and returns an 'int' pointer */"
   ]
  },
  {
   "cell_type": "code",
   "execution_count": null,
   "id": "d5e0c0ad",
   "metadata": {},
   "outputs": [],
   "source": [
    "int (*add)(int x, int y);           /* This is a pointer, to a function, that accepts */\n",
    "                                    /* two 'int' parameters, and returns an 'int' */"
   ]
  },
  {
   "cell_type": "markdown",
   "id": "ce8017f6",
   "metadata": {},
   "source": [
    "Function pointers may be initialized."
   ]
  },
  {
   "cell_type": "code",
   "execution_count": 528,
   "id": "adace488",
   "metadata": {},
   "outputs": [
    {
     "name": "stdout",
     "output_type": "stream",
     "text": [
      "9\n"
     ]
    }
   ],
   "source": [
    "#include <stdio.h>\n",
    "\n",
    "int add(int x, int y);\n",
    "int (*ptr)(int x, int y) = add;\n",
    "\n",
    "int main() {\n",
    "    printf(\"%d\\n\", add(5, 4));\n",
    "    return 0;\n",
    "}\n",
    "\n",
    "int add(int x, int y) {\n",
    "    return x + y;\n",
    "}"
   ]
  },
  {
   "cell_type": "markdown",
   "id": "faaf8011",
   "metadata": {},
   "source": [
    "*Note:* A function pointer is an example of a complex definition. Complex definitions should be understood according to the precedence and associativity of the operators present."
   ]
  },
  {
   "cell_type": "markdown",
   "id": "6bbdd5ae",
   "metadata": {},
   "source": [
    "Dereferencing a function pointer evaluates to the same function pointer."
   ]
  },
  {
   "cell_type": "code",
   "execution_count": 35,
   "id": "ef397ed5",
   "metadata": {},
   "outputs": [
    {
     "name": "stdout",
     "output_type": "stream",
     "text": [
      "9\n",
      "9\n"
     ]
    }
   ],
   "source": [
    "#include <stdio.h>\n",
    "\n",
    "int add(int x, int y);\n",
    "int (*ptr)(int x, int y) = add;\n",
    "\n",
    "int main() {\n",
    "    printf(\"%d\\n\", (*ptr)(5, 4));       /* dereferencing once */\n",
    "    printf(\"%d\\n\", (**ptr)(5, 4));      /* dereferencing twice */\n",
    "    return 0;\n",
    "}\n",
    "\n",
    "int add(int x, int y) {\n",
    "    return x + y;\n",
    "}"
   ]
  },
  {
   "cell_type": "markdown",
   "id": "4c260c3f",
   "metadata": {},
   "source": [
    "*Note:* A function name (identifier) is a *fixed* function pointer, with a special property. Referencing the name of a function always yields the same result."
   ]
  },
  {
   "cell_type": "markdown",
   "id": "9872f720",
   "metadata": {},
   "source": [
    "A function pointer may be a parameter to another function."
   ]
  },
  {
   "cell_type": "code",
   "execution_count": 407,
   "id": "77dc1179",
   "metadata": {},
   "outputs": [
    {
     "name": "stdout",
     "output_type": "stream",
     "text": [
      "9"
     ]
    }
   ],
   "source": [
    "#include <stdio.h>\n",
    "\n",
    "int add(int x, int y);\n",
    "int intermediate(int (*ptr)(int x, int y), int x, int y);\n",
    "\n",
    "int main() {\n",
    "    printf(\"%d\", intermediate(add, 5, 4));\n",
    "    return 0;\n",
    "}\n",
    "\n",
    "int add(int x, int y) {\n",
    "    return x + y;\n",
    "}\n",
    "\n",
    "int intermediate(int (*ptr)(int x, int y), int x, int y) {\n",
    "    return ptr(x, y);\n",
    "}"
   ]
  },
  {
   "cell_type": "markdown",
   "id": "22319be8",
   "metadata": {},
   "source": [
    "If a function pointer does not match the function assigned to it, the compiler issues a warning."
   ]
  },
  {
   "cell_type": "code",
   "execution_count": 417,
   "id": "af4cf8d7",
   "metadata": {
    "scrolled": true
   },
   "outputs": [
    {
     "name": "stderr",
     "output_type": "stream",
     "text": [
      "/tmp/tmpo5gtwicm.c:4:21: warning: initialization of ‘int (*)(int)’ from incompatible pointer type ‘int (*)(int,  int)’ [-Wincompatible-pointer-types]\n",
      "    4 | int (*ptr)(int x) = add;\n",
      "      |                     ^~~\n"
     ]
    },
    {
     "name": "stdout",
     "output_type": "stream",
     "text": [
      "1572403669"
     ]
    }
   ],
   "source": [
    "#include <stdio.h>\n",
    "\n",
    "int add(int x, int y);\n",
    "int (*ptr)(int x) = add;\n",
    "\n",
    "int main() {\n",
    "    printf(\"%d\", ptr(5));     /* second argument contains garbage */\n",
    "    return 0;\n",
    "}\n",
    "\n",
    "int add(int x, int y) {\n",
    "    return x + y;\n",
    "}"
   ]
  },
  {
   "cell_type": "markdown",
   "id": "c6766d32",
   "metadata": {},
   "source": [
    "### The `restrict` keyword (C99+) <a class=\"anchor\" id=\"the-restrict-keyword\"></a>"
   ]
  },
  {
   "cell_type": "markdown",
   "id": "059833dd",
   "metadata": {},
   "source": [
    "The `restrict` specifier may be used in pointer declarations and definitions. It tells the compiler that for the lifetime of the pointer, no other pointer (technically, no other identifier) will be used to access the memory location to which it points. This allows the compiler to make optimizations that would not otherwise have been possible. It is usually used with function parameters in definitions and declarations."
   ]
  },
  {
   "cell_type": "code",
   "execution_count": null,
   "id": "70cce057",
   "metadata": {},
   "outputs": [],
   "source": [
    "            /* adding to '*ptrA' may have altered '*val', must be re-read from memory */\n",
    "            \n",
    "void updatePtrs(unsigned char *ptrA, unsigned char *ptrB, unsigned char *val) {\n",
    "  *ptrA += *val;\n",
    "  *ptrB += *val;\n",
    "}"
   ]
  },
  {
   "cell_type": "code",
   "execution_count": null,
   "id": "f81bbd03",
   "metadata": {},
   "outputs": [],
   "source": [
    "            /* '*val' cannot be altered by changing '*ptrA', will not be re-read from memory */\n",
    "            \n",
    "void updatePtrs(unsigned char *ptrA, unsigned char *ptrB, unsigned char * restrict val) {\n",
    "  *ptrA += *val;\n",
    "  *ptrB += *val;\n",
    "}"
   ]
  },
  {
   "cell_type": "markdown",
   "id": "76e33b14",
   "metadata": {},
   "source": [
    "## Arrays <a class=\"anchor\" id=\"arrays\"></a>"
   ]
  },
  {
   "cell_type": "markdown",
   "id": "85cf74b4",
   "metadata": {},
   "source": [
    "An *array* is a consecutive number of memory blocks, each block of the same size, according to the associated data type."
   ]
  },
  {
   "cell_type": "code",
   "execution_count": 572,
   "id": "10fa1ac1",
   "metadata": {},
   "outputs": [],
   "source": [
    "#include <stdio.h>\n",
    "\n",
    "int arr[5];        /* {0, 0, 0, 0, 0} */\n",
    "\n",
    "int main() {\n",
    "    int arr2[5];                         /* garbage values  */\n",
    "    int arr3[] = {1, 2, 3, 4, 5};        /* {1, 2, 3, 4, 5} */\n",
    "    int arr4[5] = {1, 2, 3};             /* {1, 2, 3, 0, 0} */\n",
    "    int arr5[5] = {0};                   /* {0, 0, 0, 0, 0} */\n",
    "    \n",
    "                                         /* C99+ */\n",
    "    int arr6[] = {1, [2]=3, [4]=5};      /* {1, 0, 3, 0, 5} */\n",
    "    int arr7[5] = {1, [1]=2, [3]=4};     /* {1, 2, 0, 4, 0} */\n",
    "}"
   ]
  },
  {
   "cell_type": "code",
   "execution_count": 703,
   "id": "a86ba757",
   "metadata": {},
   "outputs": [
    {
     "name": "stderr",
     "output_type": "stream",
     "text": [
      "/tmp/tmp3hsvr_ll.c:3:5: warning: array ‘arr’ assumed to have one element\n",
      "    3 | int arr[];\n",
      "      |     ^~~\n"
     ]
    }
   ],
   "source": [
    "#include <stdio.h>\n",
    "\n",
    "int arr[];\n",
    "\n",
    "int main() {\n",
    "    return 0;\n",
    "}"
   ]
  },
  {
   "cell_type": "markdown",
   "id": "ec177530",
   "metadata": {},
   "source": [
    "An *array element* is accessed using brackets."
   ]
  },
  {
   "cell_type": "code",
   "execution_count": 575,
   "id": "dd5c540b",
   "metadata": {},
   "outputs": [
    {
     "name": "stdout",
     "output_type": "stream",
     "text": [
      "1 2 3 4 5 "
     ]
    }
   ],
   "source": [
    "#include <stdio.h>\n",
    "\n",
    "int arr[5] = {1, 2, 3, 4, 5};\n",
    "\n",
    "int main() {\n",
    "    register unsigned char i;\n",
    "    for (i = 0; i < 5; i++) {\n",
    "        printf(\"%d \", arr[i]);\n",
    "    }\n",
    "}"
   ]
  },
  {
   "cell_type": "markdown",
   "id": "4ac57731",
   "metadata": {},
   "source": [
    "The name of an array can be considered a *fixed* pointer to the first element of the array."
   ]
  },
  {
   "cell_type": "code",
   "execution_count": 577,
   "id": "1120a2b8",
   "metadata": {},
   "outputs": [
    {
     "name": "stdout",
     "output_type": "stream",
     "text": [
      "1 2 3 4 5 "
     ]
    }
   ],
   "source": [
    "#include <stdio.h>\n",
    "\n",
    "int arr[5] = {1, 2, 3, 4, 5};\n",
    "\n",
    "int main() {\n",
    "    register unsigned char i;\n",
    "    for (i = 0; i < 5; i++) {\n",
    "        printf(\"%d \", *(arr+i));      /* equivalent to arr[i] */\n",
    "    }\n",
    "}"
   ]
  },
  {
   "cell_type": "markdown",
   "id": "a3801b9c",
   "metadata": {},
   "source": [
    "An array can be passed to a function in various ways."
   ]
  },
  {
   "cell_type": "code",
   "execution_count": 110,
   "id": "b036fb48",
   "metadata": {},
   "outputs": [],
   "source": [
    "int increment(int *arr, unsigned long len);   /* most (syntactically) consistent way */\n",
    "                                              /* just a pointer */\n",
    "\n",
    "int main() {\n",
    "    int arr[5] = {0};\n",
    "    increment(arr, 5);\n",
    "    return 0;\n",
    "}\n",
    "\n",
    "int increment(int *arr, unsigned long len) {\n",
    "    register unsigned long i;\n",
    "    for(i = 0; i < len; i++) {\n",
    "        *(arr+i) += 1;\n",
    "    }\n",
    "}"
   ]
  },
  {
   "cell_type": "code",
   "execution_count": 717,
   "id": "7ec5f861",
   "metadata": {},
   "outputs": [],
   "source": [
    "int increment(int arr[], unsigned long len);       /* most preferred */\n",
    "\n",
    "int main() {\n",
    "    int arr[5] = {0};\n",
    "    increment(arr, 5);\n",
    "    return 0;\n",
    "}\n",
    "\n",
    "int increment(int arr[], unsigned long len) {\n",
    "    register unsigned long i;\n",
    "    for(i = 0; i < len; i++) {\n",
    "        arr[i] += 1;\n",
    "    }\n",
    "}"
   ]
  },
  {
   "cell_type": "code",
   "execution_count": 745,
   "id": "0a5de812",
   "metadata": {},
   "outputs": [
    {
     "name": "stderr",
     "output_type": "stream",
     "text": [
      "/tmp/tmpy2ajkrpj.c: In function ‘main’:\n",
      "/tmp/tmpy2ajkrpj.c:6:5: warning: ‘increment’ accessing 20 bytes in a region of size 16 [-Wstringop-overflow=]\n",
      "    6 |     increment(arr);\n",
      "      |     ^~~~~~~~~~~~~~\n",
      "/tmp/tmpy2ajkrpj.c:6:5: note: referencing argument 1 of type ‘int *’\n",
      "/tmp/tmpy2ajkrpj.c:10:6: note: in a call to function ‘increment’\n",
      "   10 | void increment(int arr[5]) {\n",
      "      |      ^~~~~~~~~\n"
     ]
    }
   ],
   "source": [
    "void increment(int arr[5]);      /* least preferred */\n",
    "                                 /* but allows compiler to issue some warnings */\n",
    "\n",
    "int main() {\n",
    "    int arr[4] = {0};\n",
    "    increment(arr);\n",
    "    return 0;\n",
    "}\n",
    "\n",
    "void increment(int arr[5]) {\n",
    "    register unsigned long i;\n",
    "    for(i = 0; i < 5; i++) {\n",
    "        arr[i] += 1;\n",
    "    }\n",
    "}"
   ]
  },
  {
   "cell_type": "markdown",
   "id": "5cfcbed1",
   "metadata": {},
   "source": [
    "*Note:* When passing an array to a function, the array is never copied in memory (as in, passed by value)."
   ]
  },
  {
   "cell_type": "markdown",
   "id": "ea46371b",
   "metadata": {},
   "source": [
    "When declaring a global array that is defined in another file, it is preferred to use empty brackets."
   ]
  },
  {
   "cell_type": "code",
   "execution_count": 769,
   "id": "920a30d7",
   "metadata": {},
   "outputs": [
    {
     "name": "stdout",
     "output_type": "stream",
     "text": [
      "5"
     ]
    }
   ],
   "source": [
    "//%cflags: .jupyter/global_arr.c\n",
    "\n",
    "#include <stdio.h>\n",
    "\n",
    "extern int arr[];\n",
    "\n",
    "int main() {\n",
    "    printf(\"%d\", arr[4]);\n",
    "    return 0;\n",
    "}"
   ]
  },
  {
   "cell_type": "markdown",
   "id": "a5edb0b1",
   "metadata": {},
   "source": [
    "*Note:* Using a pointer declaration for a defined array will result in a runtime error."
   ]
  },
  {
   "cell_type": "markdown",
   "id": "91ea939c",
   "metadata": {},
   "source": [
    "A *2-dimensional* array, a multi-dimensional array, is an array of arrays."
   ]
  },
  {
   "cell_type": "code",
   "execution_count": 50,
   "id": "33515365",
   "metadata": {},
   "outputs": [
    {
     "name": "stdout",
     "output_type": "stream",
     "text": [
      "7\n",
      "7\n"
     ]
    }
   ],
   "source": [
    "#include <stdio.h>\n",
    "\n",
    "int arrA[2][3] = {1, 2, 3, 4, 5};         /* arr[1][2] initialized to zero */\n",
    "int arrB[2][3] = {{1, 2}, {4, 5}};        /* arr[0][2] and arr[1][2] initialized to zero */\n",
    "\n",
    "int arrC[][3] = {1, 2, 3, 4, 5};                 /* {{1, 2, 3}, {4, 5, 0}} */\n",
    "int arrD[][3] = {{1, 2}, {4, 5}, {7, 8}};        /* {{1, 2, 0}, {4, 5, 0}, {7, 8, 0}} */\n",
    "\n",
    "int arrE[2][3] = {[0][0] = 1};                     /* {{1, 0, 0}, {0, 0, 0}} */\n",
    "int arrF[2][3] = {{[0] = 1}};                      /* {{1, 0, 0}, {0, 0, 0}} */\n",
    "\n",
    "int main() {\n",
    "    printf(\"%d\\n\", arrD[2][0]);\n",
    "    printf(\"%d\\n\", *(*(arrD+2)+0));        /* equivalent-syntax */\n",
    "    return 0;\n",
    "}"
   ]
  },
  {
   "cell_type": "markdown",
   "id": "9acb5f14",
   "metadata": {},
   "source": [
    "*Note:* Declarations and definitions of multi-dimensional arrays must have bounds for all dimensions except the first."
   ]
  },
  {
   "cell_type": "code",
   "execution_count": 692,
   "id": "5d7866b9",
   "metadata": {},
   "outputs": [
    {
     "name": "stdout",
     "output_type": "stream",
     "text": [
      "7f94dc331030\n",
      "7f94dc331030\n",
      "7f94dc33103c\n",
      "7f94dc331034\n"
     ]
    }
   ],
   "source": [
    "#include <stdio.h>\n",
    "\n",
    "int arr[2][3] = {1, 2, 3, 4, 5, 6};\n",
    "\n",
    "int main() {\n",
    "    printf(\"%lx\\n\", (unsigned long int) arr);\n",
    "    printf(\"%lx\\n\", (unsigned long int) arr[0]);\n",
    "    \n",
    "    printf(\"%lx\\n\", (unsigned long int) (arr+1));\n",
    "    printf(\"%lx\\n\", (unsigned long int) (arr[0]+1));\n",
    "    \n",
    "    return 0;\n",
    "}"
   ]
  },
  {
   "cell_type": "markdown",
   "id": "63f559ea",
   "metadata": {},
   "source": [
    "*Note:* Since the associated data type of a multi-dimensional array is another array of a specific fixed size, adding to a multi-dimensional array (identifier) increases the (address) value by multiples of that number of bytes."
   ]
  },
  {
   "cell_type": "markdown",
   "id": "3d1ac393",
   "metadata": {},
   "source": [
    "A 2D array can be passed to a function in various ways."
   ]
  },
  {
   "cell_type": "code",
   "execution_count": 746,
   "id": "9d33561e",
   "metadata": {},
   "outputs": [],
   "source": [
    "int increment(int (*arr)[3], unsigned long len);     /* most (syntactically) consistent way */\n",
    "                                                     /* pointer to 3-sized array */\n",
    "\n",
    "int main() {\n",
    "    int arr[2][3] = {0};\n",
    "    increment(arr, 2);\n",
    "    return 0;\n",
    "}\n",
    "\n",
    "int increment(int (*arr)[3], unsigned long len) {\n",
    "    register unsigned long i;\n",
    "    register unsigned long j;\n",
    "    for(i = 0; i < len; i++) {\n",
    "        for(j = 0; j < 3; j++) {\n",
    "            (*(arr+i))[j] += 1;\n",
    "        }\n",
    "    }\n",
    "}"
   ]
  },
  {
   "cell_type": "code",
   "execution_count": 729,
   "id": "05f9ffb1",
   "metadata": {},
   "outputs": [],
   "source": [
    "int increment(int arr[][3], unsigned long len);      /* most preferred way */\n",
    "\n",
    "int main() {\n",
    "    int arr[2][3] = {0};\n",
    "    increment(arr, 2, 3);\n",
    "    return 0;\n",
    "}\n",
    "\n",
    "int increment(int arr[][3], unsigned long len) {\n",
    "    register unsigned long i;\n",
    "    register unsigned long j;\n",
    "    for(i = 0; i < len_x; i++) {\n",
    "        for(j = 0; j < len_y; j++) {\n",
    "            arr[i][j] += 1;\n",
    "        }\n",
    "    }\n",
    "}"
   ]
  },
  {
   "cell_type": "code",
   "execution_count": 109,
   "id": "ecd3681d",
   "metadata": {},
   "outputs": [],
   "source": [
    "int increment(int arr[2][3]);      /* least preferred way */\n",
    "                                   /* but allows compiler to issue some warnings */ \n",
    "\n",
    "int main() {\n",
    "    int arr[2][3] = {0};\n",
    "    increment(arr);\n",
    "    return 0;\n",
    "}\n",
    "\n",
    "int increment(int arr[2][3]) {\n",
    "    register unsigned long i;\n",
    "    register unsigned long j;\n",
    "    for(i = 0; i < 2; i++) {\n",
    "        for(j = 0; j < 3; j++) {\n",
    "            arr[i][j] += 1;\n",
    "        }\n",
    "    }\n",
    "}"
   ]
  },
  {
   "cell_type": "markdown",
   "id": "6e63811e",
   "metadata": {},
   "source": [
    "To get the first bound of an array, a playful trick may be employed."
   ]
  },
  {
   "cell_type": "code",
   "execution_count": 102,
   "id": "8b7a23f6",
   "metadata": {},
   "outputs": [
    {
     "name": "stdout",
     "output_type": "stream",
     "text": [
      "Length: 9"
     ]
    }
   ],
   "source": [
    "#include <stdio.h>\n",
    "\n",
    "int arr[] = {1, 2, 3, 4, 5, 6, 7, 8, 9};\n",
    "\n",
    "            /* &arr yields a (*int[9]) pointer with same address as arr */\n",
    "            /* adding one to it, increments by the size of the associated data type */\n",
    "            /* in this case, a 9-sized array. Dereferencing then returns a (*int) pointer */\n",
    "            /* subtracting 'arr', which is (*int), yields the size of the array, at last. */\n",
    "\n",
    "int main() {\n",
    "    printf(\"Length: %lu\", *(&arr+1) - arr);\n",
    "}"
   ]
  },
  {
   "cell_type": "code",
   "execution_count": 103,
   "id": "2dd3a41a",
   "metadata": {},
   "outputs": [
    {
     "name": "stdout",
     "output_type": "stream",
     "text": [
      "Length: 3"
     ]
    }
   ],
   "source": [
    "#include <stdio.h>\n",
    "\n",
    "int arr[][3] = {1, 2, 3, 4, 5, 6, 7, 8, 9};\n",
    "\n",
    "int main() {\n",
    "    printf(\"Length: %lu\", *(&arr+1) - arr);\n",
    "}"
   ]
  },
  {
   "cell_type": "markdown",
   "id": "805d9b85",
   "metadata": {},
   "source": [
    "*Note:* Because most compilers pad arrays at the end with additional bytes, to enable faster access at the expense of increased memory usage, it is recommended to specify array boundaries that result in array sizes that are powers of two (even, in general)."
   ]
  },
  {
   "cell_type": "markdown",
   "id": "d5f07967",
   "metadata": {},
   "source": [
    "## Structures and Unions <a class=\"anchor\" id=\"structures-and-unions\"></a>"
   ]
  },
  {
   "cell_type": "markdown",
   "id": "0a460cc2",
   "metadata": {},
   "source": [
    "### Structures <a class=\"anchor\" id=\"structures\"></a>"
   ]
  },
  {
   "cell_type": "markdown",
   "id": "eec98d39",
   "metadata": {},
   "source": [
    "The `struct` keyword is used to define a *structure* template. It may be defined in global or local scope. It does not allocate any memory."
   ]
  },
  {
   "cell_type": "code",
   "execution_count": null,
   "id": "3bfced50",
   "metadata": {},
   "outputs": [],
   "source": [
    "struct student {\n",
    "    unsigned long long id;\n",
    "    unsigned char name[30];\n",
    "    float gpa;\n",
    "};"
   ]
  },
  {
   "cell_type": "markdown",
   "id": "5ee2457d",
   "metadata": {},
   "source": [
    "You can define a variable with a structure data type by using the `struct` keyword. A structure data type may be initialized in the same way as an array. The `.` operator is used to access structure members."
   ]
  },
  {
   "cell_type": "code",
   "execution_count": 115,
   "id": "b498430e",
   "metadata": {},
   "outputs": [
    {
     "name": "stdout",
     "output_type": "stream",
     "text": [
      "Hazem"
     ]
    }
   ],
   "source": [
    "#include <stdio.h>\n",
    "\n",
    "struct student {\n",
    "    unsigned long long id;\n",
    "    unsigned char name[30];\n",
    "    float gpa;\n",
    "};\n",
    "                   /* structure members initialized  */\n",
    "int main() {\n",
    "    struct student hazem = {12345678u, {'H', 'a', 'z', 'e', 'm', '\\0'}, 0.98f};\n",
    "    printf(\"%s\", hazem.name);\n",
    "}"
   ]
  },
  {
   "cell_type": "code",
   "execution_count": 127,
   "id": "1ba0f2cf",
   "metadata": {},
   "outputs": [
    {
     "name": "stdout",
     "output_type": "stream",
     "text": [
      "12345678\n",
      "0.000000"
     ]
    }
   ],
   "source": [
    "#include <stdio.h>\n",
    "\n",
    "struct student {\n",
    "    unsigned long long id;\n",
    "    unsigned char name[30];\n",
    "    float gpa;\n",
    "};\n",
    "                /* some structure members initialized, rest zero-ed */\n",
    "int main() {\n",
    "    struct student hazem = {12345678u};\n",
    "    printf(\"%llu\\n\", hazem.id);\n",
    "    printf(\"%f\", hazem.gpa);\n",
    "}"
   ]
  },
  {
   "cell_type": "code",
   "execution_count": 128,
   "id": "0bd604ed",
   "metadata": {},
   "outputs": [
    {
     "name": "stdout",
     "output_type": "stream",
     "text": [
      "0\n",
      "0.000000"
     ]
    }
   ],
   "source": [
    "#include <stdio.h>\n",
    "\n",
    "struct student {\n",
    "    unsigned long long id;\n",
    "    unsigned char name[30];\n",
    "    float gpa;\n",
    "};\n",
    "                /* zero initialization of local structure */\n",
    "int main() {\n",
    "    struct student hazem = {};\n",
    "    printf(\"%llu\\n\", hazem.id);\n",
    "    printf(\"%f\", hazem.gpa);\n",
    "}"
   ]
  },
  {
   "cell_type": "code",
   "execution_count": 131,
   "id": "08a52a91",
   "metadata": {},
   "outputs": [
    {
     "name": "stdout",
     "output_type": "stream",
     "text": [
      "0\n",
      "0.980000"
     ]
    }
   ],
   "source": [
    "#include <stdio.h>\n",
    "\n",
    "struct student {\n",
    "    unsigned long long id;\n",
    "    unsigned char name[30];\n",
    "    float gpa;\n",
    "};\n",
    "                              /* feature in C99+ */\n",
    "int main() {\n",
    "    struct student hazem = {.gpa = 0.98f};\n",
    "    printf(\"%llu\\n\", hazem.id);\n",
    "    printf(\"%f\", hazem.gpa);\n",
    "}"
   ]
  },
  {
   "cell_type": "markdown",
   "id": "4e4e6c54",
   "metadata": {},
   "source": [
    "In C99+, it is permitted to define a *flexible* array member at the end of a structure."
   ]
  },
  {
   "cell_type": "code",
   "execution_count": null,
   "id": "049bf0c6",
   "metadata": {},
   "outputs": [],
   "source": [
    "struct student {\n",
    "    unsigned long long id;\n",
    "    float gpa;\n",
    "    unsigned char name[];\n",
    "};"
   ]
  },
  {
   "cell_type": "markdown",
   "id": "46ad755b",
   "metadata": {},
   "source": [
    "*Note:* In dynamic memory allocation of a structure, a flexible array member should be taken into account, discussed later."
   ]
  },
  {
   "cell_type": "markdown",
   "id": "276f1e17",
   "metadata": {},
   "source": [
    "You can define a variable with a structure data type while defining the structure template. If the structure template is of one-time use, then it need not be given a name (in C11+)."
   ]
  },
  {
   "cell_type": "code",
   "execution_count": 162,
   "id": "13537f90",
   "metadata": {},
   "outputs": [
    {
     "name": "stdout",
     "output_type": "stream",
     "text": [
      "123\n",
      "0.000000\n"
     ]
    }
   ],
   "source": [
    "#include <stdio.h>\n",
    "\n",
    "struct {\n",
    "    unsigned long long id;\n",
    "    unsigned char name[30];\n",
    "    float gpa;\n",
    "} hazem = {123u};\n",
    "\n",
    "int main() {\n",
    "    printf(\"%llu\\n\", hazem.id);\n",
    "    printf(\"%f\\n\", hazem.gpa);\n",
    "    return 0;\n",
    "}"
   ]
  },
  {
   "cell_type": "markdown",
   "id": "2682de44",
   "metadata": {},
   "source": [
    "A pointer variable with an associated structure data type may use the `->` operator to directly access members, without dereferencing."
   ]
  },
  {
   "cell_type": "code",
   "execution_count": 166,
   "id": "9a4817ce",
   "metadata": {},
   "outputs": [
    {
     "name": "stdout",
     "output_type": "stream",
     "text": [
      "12345678\n",
      "0.980000\n"
     ]
    }
   ],
   "source": [
    "#include <stdio.h>\n",
    "\n",
    "struct student {\n",
    "    unsigned long long id;\n",
    "    unsigned char name[30];\n",
    "    float gpa;\n",
    "} hazem = {12345678u, .gpa=0.98};\n",
    "\n",
    "int main() {\n",
    "    struct student *ptr = &hazem;\n",
    "    printf(\"%llu\\n\", ptr->id);\n",
    "    printf(\"%f\\n\", (*ptr).gpa);     /* equivalent */\n",
    "    return 0;\n",
    "}"
   ]
  },
  {
   "cell_type": "markdown",
   "id": "5226da3e",
   "metadata": {},
   "source": [
    "A *bit field* member of a structure allocates a number of bits of memory to itself. Consecutive bitfield members pack themselves in as low a number of bytes as possible."
   ]
  },
  {
   "cell_type": "code",
   "execution_count": 176,
   "id": "9664d15a",
   "metadata": {},
   "outputs": [
    {
     "name": "stdout",
     "output_type": "stream",
     "text": [
      "2\n"
     ]
    }
   ],
   "source": [
    "#include <stdio.h>\n",
    "\n",
    "struct REG {               /* consumes a single byte in memory */\n",
    "    unsigned int Pin0: 1;\n",
    "    unsigned int Pin1: 1;\n",
    "    unsigned int Pin2: 1;\n",
    "    unsigned int Pin3: 1;\n",
    "    unsigned int Pin4: 1;\n",
    "    unsigned int Pin5: 1;\n",
    "    unsigned int Pin6: 1;\n",
    "    unsigned int Pin7: 1;\n",
    "};\n",
    "\n",
    "int main() {\n",
    "    unsigned char x = 0;\n",
    "    struct REG *ptr = (struct REG *) &x;\n",
    "    ptr->Pin1 = 1;\n",
    "    printf(\"%u\\n\", x);\n",
    "    return 0;\n",
    "}"
   ]
  },
  {
   "cell_type": "markdown",
   "id": "1dcc45ab",
   "metadata": {},
   "source": [
    "*Note:* Because the layout of bitfields is compiler-dependent, bitfields are uncommonly used."
   ]
  },
  {
   "cell_type": "markdown",
   "id": "361cebf4",
   "metadata": {},
   "source": [
    "Because most compilers pad consecutive structure members to enable faster access at the expense of increased memory usage, it is recommended to write structure members in the order of decreasing data type size."
   ]
  },
  {
   "cell_type": "code",
   "execution_count": null,
   "id": "11f54177",
   "metadata": {},
   "outputs": [],
   "source": [
    "struct student {\n",
    "    unsigned char name[8];\n",
    "    unsigned long long id;\n",
    "    float gpa;\n",
    "};"
   ]
  },
  {
   "cell_type": "markdown",
   "id": "437a59f8",
   "metadata": {},
   "source": [
    "### Unions <a class=\"anchor\" id=\"unions\"></a>"
   ]
  },
  {
   "cell_type": "markdown",
   "id": "81d89695",
   "metadata": {},
   "source": [
    "A *union* is similar to a structure in syntax and use, except members overlap each other in memory. The size of a union is the size of its largest member."
   ]
  },
  {
   "cell_type": "code",
   "execution_count": 188,
   "id": "8456295a",
   "metadata": {},
   "outputs": [
    {
     "name": "stdout",
     "output_type": "stream",
     "text": [
      "8"
     ]
    }
   ],
   "source": [
    "#include <stdio.h>\n",
    "\n",
    "union number {\n",
    "    int integer;\n",
    "    float floating;\n",
    "} num = {8};\n",
    "\n",
    "int main() {\n",
    "    printf(\"%d\", num.integer);\n",
    "    return 0;\n",
    "}"
   ]
  },
  {
   "cell_type": "code",
   "execution_count": 189,
   "id": "d4fae1f6",
   "metadata": {},
   "outputs": [
    {
     "name": "stdout",
     "output_type": "stream",
     "text": [
      "0.879000"
     ]
    }
   ],
   "source": [
    "#include <stdio.h>\n",
    "\n",
    "union number {\n",
    "    int integer;\n",
    "    float floating;\n",
    "} num = {.floating = 0.879};           /* C99+ */\n",
    "\n",
    "int main() {\n",
    "    printf(\"%f\", num.floating);\n",
    "    return 0;\n",
    "}"
   ]
  },
  {
   "cell_type": "markdown",
   "id": "0968f544",
   "metadata": {},
   "source": [
    "## Enumerations <a class=\"anchor\" id=\"enumerations\"></a>"
   ]
  },
  {
   "cell_type": "markdown",
   "id": "ba3ec9cd",
   "metadata": {},
   "source": [
    "An *enumeration* is defined using the `enum` keyword. It gives constants identifiers for ease of use by programmers. It may be defined in local or global scope."
   ]
  },
  {
   "cell_type": "code",
   "execution_count": null,
   "id": "37402b21",
   "metadata": {},
   "outputs": [],
   "source": [
    "enum Days {Sun, Mon, Tues, Wed, Thrus, Fri, Sat};     /* 0, 1, 2, 3, 4, 5, 6 */"
   ]
  },
  {
   "cell_type": "code",
   "execution_count": null,
   "id": "80d0ef64",
   "metadata": {
    "scrolled": true
   },
   "outputs": [],
   "source": [
    "enum Days {Sun=-2, Mon, Tues, Wed, Thrus=5, Fri, Sat};     /* -2, -1, 0, 1, 5, 6, 7 */"
   ]
  },
  {
   "cell_type": "markdown",
   "id": "caff9003",
   "metadata": {},
   "source": [
    "You can define an enumeration data type also using the `enum` keyword. It also need not be given a name (in C11+)."
   ]
  },
  {
   "cell_type": "code",
   "execution_count": null,
   "id": "e5482194",
   "metadata": {},
   "outputs": [],
   "source": [
    "enum {Sun=-2, Mon, Tues, Wed, Thrus=5, Fri, Sat} day;"
   ]
  },
  {
   "cell_type": "markdown",
   "id": "7fb3cad1",
   "metadata": {},
   "source": [
    "*Note:* An enumeration data type is internally a `signed int` data type."
   ]
  },
  {
   "cell_type": "markdown",
   "id": "41175a9c",
   "metadata": {},
   "source": [
    "Enumeration constants are used directly, through their identifiers, hence identifiers of enumeration constants may not match within the same scope."
   ]
  },
  {
   "cell_type": "code",
   "execution_count": 210,
   "id": "8c0026d7",
   "metadata": {},
   "outputs": [
    {
     "name": "stderr",
     "output_type": "stream",
     "text": [
      "/tmp/tmppmky3pj6.c:2:18: error: redeclaration of enumerator ‘Sun’\n",
      "    2 | enum Just_a_Day {Sun};\n",
      "      |                  ^~~\n",
      "/tmp/tmppmky3pj6.c:1:18: note: previous definition of ‘Sun’ with type ‘enum Single_Day’\n",
      "    1 | enum Single_Day {Sun};\n",
      "      |                  ^~~\n",
      "[C kernel] GCC exited with code 1, the executable will not be executed"
     ]
    }
   ],
   "source": [
    "enum Single_Day {Sun};\n",
    "enum Just_a_Day {Sun};\n",
    "\n",
    "int main() {\n",
    "    return 0;\n",
    "}"
   ]
  },
  {
   "cell_type": "markdown",
   "id": "6481c84d",
   "metadata": {},
   "source": [
    "## Additional Core Features <a class=\"anchor\" id=\"additional-core-features\"></a>"
   ]
  },
  {
   "cell_type": "markdown",
   "id": "4ae05fa7",
   "metadata": {},
   "source": [
    "### The `volatile` keyword <a class=\"anchor\" id=\"the-volatile-keyword\"></a>"
   ]
  },
  {
   "cell_type": "markdown",
   "id": "f9aaed58",
   "metadata": {},
   "source": [
    "The `volatile` specifier may be used in variable declarations and definitions, and castings. It tells the compiler that the value at a particular memory location may change without any action being taken by the code the compiler finds nearby. The compiler will then not apply optimization techniques while reading from and writing to this memory location. Practical examples of such memory locations include:"
   ]
  },
  {
   "cell_type": "markdown",
   "id": "e2080b5c",
   "metadata": {},
   "source": [
    "* Global variables in multi-threaded applications.\n",
    "* Global variables in *Interrupt Service Routines* (ISRs).\n",
    "* Memory-mapped peripheral registers."
   ]
  },
  {
   "cell_type": "code",
   "execution_count": null,
   "id": "b7405de7",
   "metadata": {},
   "outputs": [],
   "source": [
    "volatile int x;         /* volatile variable 'x' */\n",
    "int volatile x;         /* equivalent */"
   ]
  },
  {
   "cell_type": "code",
   "execution_count": null,
   "id": "128d4663",
   "metadata": {},
   "outputs": [],
   "source": [
    "volatile int *x;                 /* non-volatile pointer, volatile memory */\n",
    "int * volatile x;                /* volatile pointer, non-volatile memory */\n",
    "volatile int * volatile x;       /* volatile pointer, volatile memory */"
   ]
  },
  {
   "cell_type": "code",
   "execution_count": null,
   "id": "80928fc7",
   "metadata": {},
   "outputs": [],
   "source": [
    "*((volatile unsigned char *) 0x12345678) |= 0b00000001;     /* bit mask applied to a memory-mapped */ \n",
    "                                                            /* register with a '0x12345678' address */"
   ]
  }
 ],
 "metadata": {
  "kernelspec": {
   "display_name": "C",
   "language": "c",
   "name": "c"
  },
  "language_info": {
   "file_extension": ".c",
   "mimetype": "text/plain",
   "name": "c"
  }
 },
 "nbformat": 4,
 "nbformat_minor": 5
}
