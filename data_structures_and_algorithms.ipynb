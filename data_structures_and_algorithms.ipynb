{
 "cells": [
  {
   "cell_type": "markdown",
   "id": "b7f0d0d5",
   "metadata": {},
   "source": [
    "# Data Structures and Algorithms (in C)\n",
    "<br>\n",
    "<div style=\"opacity: 0.8; font-family: Consolas, Monaco, Lucida Console, Liberation Mono, DejaVu Sans Mono, Bitstream Vera Sans Mono, Courier New; font-size: 12px; font-style: italic;\">\n",
    "    ────────\n",
    "    for more from the author, visit\n",
    "    <a href=\"https://github.com/hazemanwer2000\">github.com/hazemanwer2000</a>.\n",
    "    ────────\n",
    "</div>"
   ]
  },
  {
   "cell_type": "markdown",
   "id": "8192fa66",
   "metadata": {},
   "source": [
    "## Table of Contents\n",
    "* [Algorithms](#algorithms)\n",
    "    * [Searching Algorithms](#searching-algorithms)\n",
    "        * [Linear Search](#linear-search)\n",
    "        * [Binary Search](#binary-search)\n",
    "    * [Sorting Algorithms](#sorting-algorithms)\n",
    "        * [Bubble Sort](#bubble-sort)\n",
    "        * [Selection Sort](#selection-sort)\n",
    "        * [Insertion Sort](#insertion-sort)\n",
    "        * [Quick Sort](#quick-sort)\n",
    "        * [Heap Sort](#heap-sort)\n",
    "        * [Merge Sort](#quick-sort)\n",
    "<hr>"
   ]
  },
  {
   "cell_type": "markdown",
   "id": "e7b5e517",
   "metadata": {},
   "source": [
    "## Algorithms"
   ]
  },
  {
   "cell_type": "markdown",
   "id": "cdfb7b4f",
   "metadata": {},
   "source": [
    "### Searching Algorithms"
   ]
  },
  {
   "cell_type": "markdown",
   "id": "037ae7c3",
   "metadata": {},
   "source": [
    "#### Linear Search"
   ]
  },
  {
   "cell_type": "markdown",
   "id": "8ba551b8",
   "metadata": {},
   "source": [
    "An elementary approach to searching would be to iterate through each item in the search list, until the search item is found.\n",
    "\n",
    "This is called *linear search*. It has *time complexity* of $O(n)$."
   ]
  },
  {
   "cell_type": "code",
   "execution_count": 22,
   "id": "cf92a3c9",
   "metadata": {},
   "outputs": [
    {
     "name": "stdout",
     "output_type": "stream",
     "text": [
      "Array:     12, 57, 79, 23, 56\n",
      "\n",
      "Index of 78: -1\n",
      "Index of 79: 2\n"
     ]
    }
   ],
   "source": [
    "//%cflags: .jupyter/print_arr.c\n",
    "\n",
    "#include <stdio.h>\n",
    "#define LEN(ARR) (*(&ARR+1) - ARR)\n",
    "void print_arr(const char *label, const int arr[], const int len);\n",
    "\n",
    "int linear_search(int elem, int arr[], int len) {\n",
    "    for (int i = 0; i < len; i++) {\n",
    "        if (arr[i] == elem) {\n",
    "            return i;\n",
    "        }\n",
    "    }\n",
    "    return -1;\n",
    "}\n",
    "\n",
    "int main() {\n",
    "    int arr[] = {12, 57, 79, 23, 56};\n",
    "    int len = LEN(arr);\n",
    "    int x = 78, y = 79;\n",
    "    print_arr(\"Array:\", arr, len);\n",
    "    putchar('\\n');\n",
    "    printf(\"Index of %d: %d\\n\", x, linear_search(x, arr, len));\n",
    "    printf(\"Index of %d: %d\\n\", y, linear_search(y, arr, len));\n",
    "}"
   ]
  },
  {
   "cell_type": "markdown",
   "id": "87ee2536",
   "metadata": {},
   "source": [
    "#### Binary Search"
   ]
  },
  {
   "cell_type": "markdown",
   "id": "2be2a3f7",
   "metadata": {},
   "source": [
    "For an ordered list of items, a *divide and conquer* approach becomes feasible. With knowledge of the length of the list, the list is divided into two halves around a middle item. The middle item is compared to the search item, and based on the result (if non-matching), the search continues in either the left half or the right half. Then, the half is further divided into left and right quarters, and so on."
   ]
  },
  {
   "cell_type": "markdown",
   "id": "9487facf",
   "metadata": {},
   "source": [
    "This is called *binary search*. It has a time complexity of $O(log(n))$."
   ]
  },
  {
   "cell_type": "markdown",
   "id": "5bc2b569",
   "metadata": {},
   "source": [
    "*Note:* A time complexity of $O(log(n))$ is only feasible if the list has an access time complexity of $O(1)$."
   ]
  },
  {
   "cell_type": "code",
   "execution_count": 26,
   "id": "6ad5bb3c",
   "metadata": {},
   "outputs": [
    {
     "name": "stdout",
     "output_type": "stream",
     "text": [
      "Array:     5, 17, 19, 26, 54\n",
      "\n",
      "Index of 17: 1\n",
      "Index of 54: 4\n",
      "Index of 18: -1\n"
     ]
    }
   ],
   "source": [
    "//%cflags: .jupyter/print_arr.c\n",
    "\n",
    "#include <stdio.h>\n",
    "#define LEN(ARR) (*(&ARR+1) - ARR)\n",
    "void print_arr(const char *label, const int arr[], const int len);\n",
    "\n",
    "int binary_search(int elem, int arr[], int len) {\n",
    "    int lower = 0, upper = len - 1, mid;\n",
    "    while (lower <= upper) {\n",
    "        mid = (lower + upper) / 2;\n",
    "        if (elem == arr[mid]) {\n",
    "            return mid;\n",
    "        } else if (elem > arr[mid]) {\n",
    "            lower = mid + 1;\n",
    "        } else {\n",
    "            upper = mid - 1;\n",
    "        }\n",
    "    }\n",
    "    return -1;\n",
    "}\n",
    "\n",
    "int main() {\n",
    "    int arr[] = {5, 17, 19, 26, 54};\n",
    "    int len = LEN(arr);\n",
    "    int x = 17, y = 54, z = 18;\n",
    "    print_arr(\"Array:\", arr, len);\n",
    "    putchar('\\n');\n",
    "    printf(\"Index of %d: %d\\n\", x, binary_search(x, arr, len));\n",
    "    printf(\"Index of %d: %d\\n\", y, binary_search(y, arr, len));\n",
    "    printf(\"Index of %d: %d\\n\", z, binary_search(z, arr, len));\n",
    "}"
   ]
  },
  {
   "cell_type": "markdown",
   "id": "dcb6c5fc",
   "metadata": {},
   "source": [
    "### Sorting Algorithms"
   ]
  },
  {
   "cell_type": "markdown",
   "id": "26c3313a",
   "metadata": {},
   "source": [
    "#### Bubble Sort"
   ]
  },
  {
   "cell_type": "code",
   "execution_count": null,
   "id": "ce2a3305",
   "metadata": {},
   "outputs": [],
   "source": []
  }
 ],
 "metadata": {
  "kernelspec": {
   "display_name": "C",
   "language": "c",
   "name": "c"
  },
  "language_info": {
   "file_extension": ".c",
   "mimetype": "text/plain",
   "name": "c"
  }
 },
 "nbformat": 4,
 "nbformat_minor": 5
}
