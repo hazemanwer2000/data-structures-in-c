{
 "cells": [
  {
   "cell_type": "markdown",
   "id": "0c1c88fc",
   "metadata": {},
   "source": [
    "# Data Structures and Algorithms (in C)\n",
    "<br>\n",
    "<div style=\"opacity: 0.8; font-family: Consolas, Monaco, Lucida Console, Liberation Mono, DejaVu Sans Mono, Bitstream Vera Sans Mono, Courier New; font-size: 12px; font-style: italic;\">\n",
    "    ────────\n",
    "    for more from the author, visit\n",
    "    <a href=\"https://github.com/hazemanwer2000\">github.com/hazemanwer2000</a>.\n",
    "    ────────\n",
    "</div>"
   ]
  },
  {
   "cell_type": "markdown",
   "id": "6acfc77e",
   "metadata": {},
   "source": [
    "## Table of Contents\n",
    "* [Algorithms](#algorithms)\n",
    "    * [Searching Algorithms](#searching-algorithms)\n",
    "        * [Linear Search](#linear-search)\n",
    "        * [Binary Search](#binary-search)\n",
    "    * [Sorting Algorithms](#sorting-algorithms)\n",
    "        * [Bubble Sort](#bubble-sort)\n",
    "        * [Selection Sort](#selection-sort)\n",
    "        * [Insertion Sort](#insertion-sort)\n",
    "        * [Quick Sort](#quick-sort)\n",
    "        * [Merge Sort](#quick-sort)\n",
    "<hr>"
   ]
  },
  {
   "cell_type": "markdown",
   "id": "88b71847",
   "metadata": {},
   "source": [
    "## Algorithms"
   ]
  },
  {
   "cell_type": "markdown",
   "id": "26fa154c",
   "metadata": {},
   "source": [
    "### Searching Algorithms"
   ]
  },
  {
   "cell_type": "markdown",
   "id": "4506f04a",
   "metadata": {},
   "source": [
    "#### Linear Search"
   ]
  },
  {
   "cell_type": "markdown",
   "id": "68664116",
   "metadata": {},
   "source": [
    "An elementary approach to searching would be to iterate through each item in the search list, until the search item is found.\n",
    "\n",
    "This is called *linear search*. It has an average-case *time complexity* of $O(n)$."
   ]
  },
  {
   "cell_type": "code",
   "execution_count": 22,
   "id": "bed3bd60",
   "metadata": {},
   "outputs": [
    {
     "name": "stdout",
     "output_type": "stream",
     "text": [
      "Array:     12, 57, 79, 23, 56\n",
      "\n",
      "Index of 78: -1\n",
      "Index of 79: 2\n"
     ]
    }
   ],
   "source": [
    "//%cflags: .jupyter/print_arr.c\n",
    "\n",
    "#include <stdio.h>\n",
    "#define LEN(ARR) (*(&ARR+1) - ARR)\n",
    "void print_arr(const char *label, const int arr[], const int len);\n",
    "\n",
    "int linear_search(int elem, int arr[], int len) {\n",
    "    for (int i = 0; i < len; i++) {\n",
    "        if (arr[i] == elem) {\n",
    "            return i;\n",
    "        }\n",
    "    }\n",
    "    return -1;\n",
    "}\n",
    "\n",
    "int main() {\n",
    "    int arr[] = {12, 57, 79, 23, 56};\n",
    "    int len = LEN(arr);\n",
    "    int x = 78, y = 79;\n",
    "    print_arr(\"Array:\", arr, len);\n",
    "    putchar('\\n');\n",
    "    printf(\"Index of %d: %d\\n\", x, linear_search(x, arr, len));\n",
    "    printf(\"Index of %d: %d\\n\", y, linear_search(y, arr, len));\n",
    "}"
   ]
  },
  {
   "cell_type": "markdown",
   "id": "f71bb249",
   "metadata": {},
   "source": [
    "#### Binary Search"
   ]
  },
  {
   "cell_type": "markdown",
   "id": "1e503ec7",
   "metadata": {},
   "source": [
    "For an ordered list of items, a *divide-and-conquer* approach becomes feasible. With knowledge of the length of the list, the list is divided into two halves around a middle item. The middle item is compared to the search item, and based on the result (if non-matching), the search continues in either the left half or the right half. Then, the half is further divided into left and right quarters, and so on."
   ]
  },
  {
   "cell_type": "markdown",
   "id": "b5b7e35f",
   "metadata": {},
   "source": [
    "This is called *binary search*. It has an average-case time complexity of $O(log(n))$."
   ]
  },
  {
   "cell_type": "markdown",
   "id": "e1311205",
   "metadata": {},
   "source": [
    "*Note:* A time complexity of $O(log(n))$ is only feasible if the list has an access time complexity of $O(1)$."
   ]
  },
  {
   "cell_type": "code",
   "execution_count": 26,
   "id": "1112be15",
   "metadata": {},
   "outputs": [
    {
     "name": "stdout",
     "output_type": "stream",
     "text": [
      "Array:     5, 17, 19, 26, 54\n",
      "\n",
      "Index of 17: 1\n",
      "Index of 54: 4\n",
      "Index of 18: -1\n"
     ]
    }
   ],
   "source": [
    "//%cflags: .jupyter/print_arr.c\n",
    "\n",
    "#include <stdio.h>\n",
    "#define LEN(ARR) (*(&ARR+1) - ARR)\n",
    "void print_arr(const char *label, const int arr[], const int len);\n",
    "\n",
    "int binary_search(int elem, int arr[], int len) {\n",
    "    int lower = 0, upper = len - 1, mid;\n",
    "    while (lower <= upper) {\n",
    "        mid = (lower + upper) / 2;\n",
    "        if (elem == arr[mid]) {\n",
    "            return mid;\n",
    "        } else if (elem > arr[mid]) {\n",
    "            lower = mid + 1;\n",
    "        } else {\n",
    "            upper = mid - 1;\n",
    "        }\n",
    "    }\n",
    "    return -1;\n",
    "}\n",
    "\n",
    "int main() {\n",
    "    int arr[] = {5, 17, 19, 26, 54};\n",
    "    int len = LEN(arr);\n",
    "    int x = 17, y = 54, z = 18;\n",
    "    print_arr(\"Array:\", arr, len);\n",
    "    putchar('\\n');\n",
    "    printf(\"Index of %d: %d\\n\", x, binary_search(x, arr, len));\n",
    "    printf(\"Index of %d: %d\\n\", y, binary_search(y, arr, len));\n",
    "    printf(\"Index of %d: %d\\n\", z, binary_search(z, arr, len));\n",
    "}"
   ]
  },
  {
   "cell_type": "markdown",
   "id": "3c5ff39c",
   "metadata": {},
   "source": [
    "### Sorting Algorithms"
   ]
  },
  {
   "cell_type": "markdown",
   "id": "8f97e397",
   "metadata": {},
   "source": [
    "#### Bubble Sort"
   ]
  },
  {
   "cell_type": "markdown",
   "id": "07f86e28",
   "metadata": {},
   "source": [
    "One easy approach to sort a list of items, is to iterate over the list repeatedly, comparing every two consecutive items and switching them if they are in the wrong order. At most, $(n-1)^2$ comparisons are made, where $n$ is the number of items in the list.\n",
    "\n",
    "An optimization would be to (re)set a flag whenever an entire scan of the list is completed, $n-1$ comparisons, without switching any two elements, indicating that the list is sorted, and that the algorithm should terminate, saving off further comparisons."
   ]
  },
  {
   "cell_type": "markdown",
   "id": "a2771bf2",
   "metadata": {},
   "source": [
    "This is called *bubble sort*. It has an average-case time complexity of $O(n^2)$."
   ]
  },
  {
   "cell_type": "markdown",
   "id": "5049a094",
   "metadata": {},
   "source": [
    "*Note:* A *stable* sorting algorithm is one that maintains the relative order between equal items. Since bubble sort never switches two equal items, it is a stable algorithm."
   ]
  },
  {
   "cell_type": "code",
   "execution_count": 36,
   "id": "cf332bca",
   "metadata": {},
   "outputs": [
    {
     "name": "stdout",
     "output_type": "stream",
     "text": [
      "Before:    62, 43, 89, 80, 79, 11\n",
      "After:     11, 43, 62, 79, 80, 89\n"
     ]
    }
   ],
   "source": [
    "//%cflags: .jupyter/print_arr.c\n",
    "\n",
    "#include <stdio.h>\n",
    "#define LEN(ARR) (*(&ARR+1) - ARR)\n",
    "void print_arr(const char *label, const int arr[], const int len);\n",
    "\n",
    "void bubble_sort(int arr[], int len) {\n",
    "    int i, flag, tmp;\n",
    "    do {\n",
    "        flag = 0;                       /* flag reset, before each scan */\n",
    "        for (i = 0; i < len-1; i++) {\n",
    "            if (arr[i] > arr[i+1]) {\n",
    "                flag = 1;               /* flag set, if switching occured */\n",
    "                tmp = arr[i];\n",
    "                arr[i] = arr[i+1];\n",
    "                arr[i+1] = tmp;\n",
    "            }\n",
    "        }\n",
    "    } while (flag);\n",
    "}\n",
    "\n",
    "int main() {\n",
    "    int arr[] = {62, 43, 89, 80, 79, 11};\n",
    "    int len = LEN(arr);\n",
    "    print_arr(\"Before:\", arr, len);\n",
    "    bubble_sort(arr, len);\n",
    "    print_arr(\"After:\", arr, len);\n",
    "}"
   ]
  },
  {
   "cell_type": "markdown",
   "id": "66e92c66",
   "metadata": {},
   "source": [
    "#### Selection Sort"
   ]
  },
  {
   "cell_type": "markdown",
   "id": "b4ba0dd6",
   "metadata": {},
   "source": [
    "Another easy approach is to select the smallest item in the list, and exchange it with the first item. Then, select the second most smallest item, and exchange it with the second item, and so on."
   ]
  },
  {
   "cell_type": "markdown",
   "id": "ff9e3ac9",
   "metadata": {},
   "source": [
    "This is called *selection sort*. It has an average-case time complexity of $O(n^2)$."
   ]
  },
  {
   "cell_type": "markdown",
   "id": "0571a28c",
   "metadata": {},
   "source": [
    "*Note:* By virtue of its design, selection sort is not a stable sorting algorithm."
   ]
  },
  {
   "cell_type": "markdown",
   "id": "ab77bdc6",
   "metadata": {},
   "source": [
    "*Note:* One advantage of selection sort is, at most, $n-1$ exchanges take place."
   ]
  },
  {
   "cell_type": "code",
   "execution_count": 38,
   "id": "93085cb6",
   "metadata": {},
   "outputs": [
    {
     "name": "stdout",
     "output_type": "stream",
     "text": [
      "Before:    62, 43, 89, 80, 79, 11\n",
      "After:     11, 43, 62, 79, 80, 89\n"
     ]
    }
   ],
   "source": [
    "//%cflags: .jupyter/print_arr.c\n",
    "\n",
    "#include <stdio.h>\n",
    "#define LEN(ARR) (*(&ARR+1) - ARR)\n",
    "void print_arr(const char *label, const int arr[], const int len);\n",
    "\n",
    "void selection_sort(int arr[], int len) {\n",
    "    int i, j, smallest, tmp;\n",
    "    for (i = 0; i < len-1; i++) {        /* first item, second item, so on */\n",
    "        smallest = i;\n",
    "        for (j = 1+i; j < len; j++) {         /* comparing each following item */\n",
    "            if (arr[smallest] > arr[j]) {      /* to determine the smallest */\n",
    "                smallest = j;\n",
    "            }\n",
    "        }\n",
    "        tmp = arr[smallest];\n",
    "        arr[smallest] = arr[i];\n",
    "        arr[i] = tmp;\n",
    "    }\n",
    "}\n",
    "\n",
    "int main() {\n",
    "    int arr[] = {62, 43, 89, 80, 79, 11};\n",
    "    int len = LEN(arr);\n",
    "    print_arr(\"Before:\", arr, len);\n",
    "    selection_sort(arr, len);\n",
    "    print_arr(\"After:\", arr, len);\n",
    "}"
   ]
  },
  {
   "cell_type": "markdown",
   "id": "847e53fe",
   "metadata": {},
   "source": [
    "#### Insertion Sort"
   ]
  },
  {
   "cell_type": "markdown",
   "id": "8f07e572",
   "metadata": {},
   "source": [
    "One more easy approach is to assume a sorted list, consisting of the first element only. Then, proceed to insert the second element backwards, maintaining the sorted property of the sub-list. Then, again, insert the third element backwards, and so on. With each insertion, the sub-list grows, until it consumes the whole list of elements."
   ]
  },
  {
   "cell_type": "markdown",
   "id": "f4479f1a",
   "metadata": {},
   "source": [
    "This is called *insertion sort*. It has an average-case time complexity of $O(n^2)$."
   ]
  },
  {
   "cell_type": "code",
   "execution_count": 39,
   "id": "a93666ee",
   "metadata": {},
   "outputs": [
    {
     "name": "stdout",
     "output_type": "stream",
     "text": [
      "Before:    62, 43, 89, 80, 79, 11\n",
      "After:     11, 43, 62, 79, 80, 89\n"
     ]
    }
   ],
   "source": [
    "//%cflags: .jupyter/print_arr.c\n",
    "\n",
    "#include <stdio.h>\n",
    "#define LEN(ARR) (*(&ARR+1) - ARR)\n",
    "void print_arr(const char *label, const int arr[], const int len);\n",
    "\n",
    "void insertion_sort(int arr[], int len) {\n",
    "    int i, j, tmp;\n",
    "    for (i = 1; i < len; i++) {           /* inserting each element backwards, begining with second */\n",
    "        tmp = arr[i];                      /* saving the element */\n",
    "        j = i-1;\n",
    "        while (arr[j] > tmp && j >= 0) {     /* continuously shifting sorted elements to the right */\n",
    "            arr[j+1] = arr[j];                /* until element is smaller than element being inserted */\n",
    "            j--;\n",
    "        }\n",
    "        arr[j+1] = tmp;\n",
    "    }\n",
    "}\n",
    "\n",
    "int main() {\n",
    "    int arr[] = {62, 43, 89, 80, 79, 11};\n",
    "    int len = LEN(arr);\n",
    "    print_arr(\"Before:\", arr, len);\n",
    "    insertion_sort(arr, len);\n",
    "    print_arr(\"After:\", arr, len);\n",
    "}"
   ]
  },
  {
   "cell_type": "markdown",
   "id": "ba77d37d",
   "metadata": {},
   "source": [
    "*Note:* Since an equal element in the sorted list is never shifted, insertion sort is a stable sorting algorithm."
   ]
  },
  {
   "cell_type": "markdown",
   "id": "1b047917",
   "metadata": {},
   "source": [
    "#### Quick Sort"
   ]
  },
  {
   "cell_type": "markdown",
   "id": "5ddc8bb4",
   "metadata": {},
   "source": [
    "A more advanced approach to sorting employs the divide-and-conquer paradigm.\n",
    "* Select an element from the list, called the *partitioning element*.\n",
    "* Determine the final position of the partioning element in the sorted list.\n",
    "* Re-arrange all other elements around the final position, so that all elements to the left of it are smaller than the partitioning element, and to the right, larger. Naturally, this leads the partitioning element to its final position.\n",
    "* Recursively apply the algorithm on the sub-lists to the right and left of the partitioning element.\n",
    "\n",
    "But these steps lead to a number of questions.\n",
    "* How do we select the partioning element?\n",
    "* How do we determine its final position?\n",
    "* How do we re-arrange all other elements around the final position?\n",
    "\n",
    "Let us consider the case, of selecting the partitioning element as the last element of the list.\n",
    "* Forwardly iterate through the list with `i`, and backwardly with `j`, exclusive of the partitioning element.\n",
    "* If `list[i]` is larger than the partitioning element, and `list[j]` is smaller than the partitioning element, switch both items and proceed.\n",
    "* Stop switching (and iterating) when `i` crosses `j`. In other words, `i >= j`.\n",
    "* Switch the partitioning element with `list[i]`, since `i` indexes a larger element, and the partitioning element is guranteed to be at a higher index.\n",
    "* Finally, recursively apply the algorithm to the left and right sub-lists.\n",
    "\n",
    "This is called *quick sort*. It has an average-case time complexity of $O(nlog(n))$."
   ]
  },
  {
   "cell_type": "markdown",
   "id": "eeb000f8",
   "metadata": {},
   "source": [
    "*Note:* By virtue of its design, quick sort is not a stable sorting algorithm."
   ]
  },
  {
   "cell_type": "code",
   "execution_count": 44,
   "id": "75cdc8e2",
   "metadata": {},
   "outputs": [
    {
     "name": "stdout",
     "output_type": "stream",
     "text": [
      "Before:    62, 43, 89, 80, 79, 11\n",
      "After:     11, 43, 62, 79, 80, 89\n"
     ]
    }
   ],
   "source": [
    "//%cflags: .jupyter/print_arr.c\n",
    "\n",
    "#include <stdio.h>\n",
    "#define LEN(ARR) (*(&ARR+1) - ARR)\n",
    "void print_arr(const char *label, const int arr[], const int len);\n",
    "\n",
    "                                         /* classic quick-sort implementation */\n",
    "                                                 \n",
    "void quick_sort(int arr[], int start, int end) {\n",
    "    int i, j, tmp;\n",
    "    if (start < end) {                   /* making sure it is a sub-array of 2+ elements */\n",
    "        i = start-1;\n",
    "        j = end;\n",
    "        while (1) {\n",
    "            while(arr[++i] < arr[end]);\n",
    "            while(arr[--j] > arr[end]);\n",
    "            if (i >= j) {                /* check if 'i' and 'j' crossed */\n",
    "                break;\n",
    "            }\n",
    "            tmp = arr[i];                /* otherwise, switch 'i' and 'j' */\n",
    "            arr[i] = arr[j];\n",
    "            arr[j] = tmp;\n",
    "        }\n",
    "        tmp = arr[i];                    /* switch 'i' and partitioning element at 'end' */\n",
    "        arr[i] = arr[end];\n",
    "        arr[end] = tmp;\n",
    "        quick_sort(arr, start, i-1);     /* recursive sub-array calls */\n",
    "        quick_sort(arr, i+1, end);\n",
    "    }\n",
    "}\n",
    "\n",
    "int main() {\n",
    "    int arr[] = {62, 43, 89, 80, 79, 11};\n",
    "    int len = LEN(arr);\n",
    "    print_arr(\"Before:\", arr, len);\n",
    "    quick_sort(arr, 0, len-1);\n",
    "    print_arr(\"After:\", arr, len);\n",
    "}"
   ]
  },
  {
   "cell_type": "markdown",
   "id": "ab16cfaa",
   "metadata": {},
   "source": [
    "The worst-case time complexity is $O(n^2)$, and occurs when the list is almost sorted. This is because selecting the partioning element as the last (or first) element of the list is likely to lead to biased divisions, with one sub-array being very large, and the other very small.\n",
    "\n",
    "To avoid this, an optimization called *median-of-three partioning* is frequently employed. The median of the first, last and middle elements of the list is selected, inexpensively ensuring that the partitioning element is not located at either extreme of the list."
   ]
  },
  {
   "cell_type": "markdown",
   "id": "4102bc11",
   "metadata": {},
   "source": [
    "*Note:* Since any recursive algorithm can be converted into an iterative algorithm, another possible optimization is to implement quick sort iteratively using a stack data structure, discussed later."
   ]
  },
  {
   "cell_type": "markdown",
   "id": "463d2339",
   "metadata": {},
   "source": [
    "#### Merge Sort"
   ]
  },
  {
   "cell_type": "markdown",
   "id": "ec083430",
   "metadata": {},
   "source": [
    "Another advanced approach to sorting also employs the divide-and-conquer paradigm.\n",
    "\n",
    "It employs the algorithm of merging two sorted arrays. If two sorted arrays, `A` and `B`, are to be merged into a new sorted array, `C`, simply walk through the items in both arrays with `i` and `j`. If `A[i]` is smaller than `B[j]`, append `A[i]` to `C`, which is initially empty, and increment `i`, then proceed, until either `A` or `B` run out of items. Lastly, append the not-empty array to `C`."
   ]
  },
  {
   "cell_type": "code",
   "execution_count": 46,
   "id": "ac69235a",
   "metadata": {},
   "outputs": [
    {
     "name": "stdout",
     "output_type": "stream",
     "text": [
      "A:         1, 3, 7, 8, 9, 13, 15\n",
      "B:         2, 4, 5, 10, 11, 14, 16\n",
      "C:         1, 2, 3, 4, 5, 7, 8, 9, 10, 11, 13, 14, 15, 16\n"
     ]
    }
   ],
   "source": [
    "//%cflags: .jupyter/print_arr.c\n",
    "\n",
    "#include <stdio.h>\n",
    "#define LEN(ARR) (*(&ARR+1) - ARR)\n",
    "void print_arr(const char *label, const int arr[], const int len);\n",
    "\n",
    "void merge_sorted(int A[], int lenA, int B[], int lenB, int C[]) {\n",
    "    int i = 0, j = 0, k = 0;\n",
    "    \n",
    "    while (i < lenA && j < lenB) {     /* merging both */\n",
    "        if (A[i] < B[j]) {\n",
    "            C[k++] = A[i++];\n",
    "        } else {\n",
    "            C[k++] = B[j++];\n",
    "        }\n",
    "    }\n",
    "    \n",
    "    if (i == lenA) {           /* appending non-empty array */\n",
    "        while (j < lenB) {\n",
    "            C[k++] = B[j++];\n",
    "        }\n",
    "    } else {\n",
    "        while (i < lenA) {\n",
    "            C[k++] = A[i++];\n",
    "        }\n",
    "    }\n",
    "}\n",
    "\n",
    "int main() {\n",
    "    int A[] = {1, 3, 7, 8, 9, 13, 15};\n",
    "    int B[] = {2, 4, 5, 10, 11, 14, 16};\n",
    "    int lenA = LEN(A);\n",
    "    int lenB = LEN(B);\n",
    "    int C[lenA + lenB];\n",
    "    print_arr(\"A:\", A, lenA);\n",
    "    print_arr(\"B:\", B, lenB);\n",
    "    merge_sorted(A, lenA, B, lenB, C);\n",
    "    print_arr(\"C:\", C, lenA + lenB);\n",
    "}"
   ]
  },
  {
   "cell_type": "markdown",
   "id": "06060bc3",
   "metadata": {},
   "source": [
    "Now, let us assume that the two arrays to be merged are actually consecutive sub-arrays within a larger array, `D`. We would like to merge these two sub-arrays, to occupy the same location in `C` as they did in `D`."
   ]
  },
  {
   "cell_type": "code",
   "execution_count": 52,
   "id": "bea9570a",
   "metadata": {},
   "outputs": [
    {
     "name": "stdout",
     "output_type": "stream",
     "text": [
      "D:         1, 3, 5, 7, 2, 4, 6, 8, 10, 12\n",
      "C:         1, 2, 3, 4, 5, 6, 7, 8, 10, 12\n"
     ]
    }
   ],
   "source": [
    "//%cflags: .jupyter/print_arr.c\n",
    "\n",
    "#include <stdio.h>\n",
    "#define LEN(ARR) (*(&ARR+1) - ARR)\n",
    "void print_arr(const char *label, const int arr[], const int len);\n",
    "\n",
    "                                                                    /* 'mid' is forward-biased */\n",
    "                                                                     /* 'hi' is forward-biased */\n",
    "void merge_sorted(int to[], int from[], int low, int mid, int hi) { \n",
    "    int i, j, k;\n",
    "    i = k = low, j = mid;\n",
    "    \n",
    "    while (i < mid && j < hi) {       /* merging sub-arrays */\n",
    "        if (from[i] < from[j]) {\n",
    "            to[k++] = from[i++];\n",
    "        } else {\n",
    "            to[k++] = from[j++];\n",
    "        }\n",
    "    }\n",
    "    \n",
    "    if (i == mid) {                 /* appending non-empty array */\n",
    "        while (j < hi) {\n",
    "            to[k++] = from[j++];\n",
    "        }\n",
    "    } else {\n",
    "        while (i < mid) {\n",
    "            to[k++] = from[i++];\n",
    "        }\n",
    "    }\n",
    "}\n",
    "\n",
    "int main() {\n",
    "    int D[] = {1, 3, 5, 7, 2, 4, 6, 8, 10, 12};\n",
    "    int len = LEN(D);\n",
    "    int C[len];\n",
    "    merge_sorted(C, D, 0, 4, len);\n",
    "    print_arr(\"D:\", D, len);\n",
    "    print_arr(\"C:\", C, len);\n",
    "}"
   ]
  },
  {
   "cell_type": "markdown",
   "id": "384d94aa",
   "metadata": {},
   "source": [
    "Now, let us assume `D` is unsorted. What if we divide `D` into sorted sub-arrays, each of unit-length, then iteratively merge every two consecutive sub-arrays, until the larger array is sorted? Sounds like a plan."
   ]
  }
 ],
 "metadata": {
  "kernelspec": {
   "display_name": "C",
   "language": "c",
   "name": "c"
  },
  "language_info": {
   "file_extension": ".c",
   "mimetype": "text/plain",
   "name": "c"
  }
 },
 "nbformat": 4,
 "nbformat_minor": 5
}
