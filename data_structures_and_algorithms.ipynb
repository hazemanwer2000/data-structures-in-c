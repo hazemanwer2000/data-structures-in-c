{
 "cells": [
  {
   "cell_type": "markdown",
   "id": "b33d7c92",
   "metadata": {},
   "source": [
    "# Data Structures and Algorithms (in C)\n",
    "<br>\n",
    "<div style=\"opacity: 0.8; font-family: Consolas, Monaco, Lucida Console, Liberation Mono, DejaVu Sans Mono, Bitstream Vera Sans Mono, Courier New; font-size: 12px; font-style: italic;\">\n",
    "    ────────\n",
    "    for more from the author, visit\n",
    "    <a href=\"https://github.com/hazemanwer2000\">github.com/hazemanwer2000</a>.\n",
    "    ────────\n",
    "</div>"
   ]
  },
  {
   "cell_type": "markdown",
   "id": "de929053",
   "metadata": {},
   "source": [
    "## Table of Contents\n",
    "* [Algorithms](#algorithms)\n",
    "    * [Searching Algorithms](#searching-algorithms)\n",
    "        * [Linear Search](#linear-search)\n",
    "        * [Binary Search](#binary-search)\n",
    "    * [Sorting Algorithms](#sorting-algorithms)\n",
    "        * [Bubble Sort](#bubble-sort)\n",
    "        * [Selection Sort](#selection-sort)\n",
    "        * [Insertion Sort](#insertion-sort)\n",
    "        * [Quick Sort](#quick-sort)\n",
    "        * [Heap Sort](#heap-sort)\n",
    "        * [Merge Sort](#quick-sort)\n",
    "<hr>"
   ]
  },
  {
   "cell_type": "markdown",
   "id": "acee5723",
   "metadata": {},
   "source": [
    "## Algorithms"
   ]
  },
  {
   "cell_type": "markdown",
   "id": "30585118",
   "metadata": {},
   "source": [
    "### Searching Algorithms"
   ]
  },
  {
   "cell_type": "markdown",
   "id": "1831c518",
   "metadata": {},
   "source": [
    "#### Linear Search"
   ]
  },
  {
   "cell_type": "markdown",
   "id": "c03cdcf8",
   "metadata": {},
   "source": [
    "An elementary approach to searching would be to iterate through each item in the search list, until the search item is found.\n",
    "\n",
    "This is called *linear search*. It has *time complexity* of $O(n)$."
   ]
  },
  {
   "cell_type": "code",
   "execution_count": 22,
   "id": "8301a6e8",
   "metadata": {},
   "outputs": [
    {
     "name": "stdout",
     "output_type": "stream",
     "text": [
      "Array:     12, 57, 79, 23, 56\n",
      "\n",
      "Index of 78: -1\n",
      "Index of 79: 2\n"
     ]
    }
   ],
   "source": [
    "//%cflags: .jupyter/print_arr.c\n",
    "\n",
    "#include <stdio.h>\n",
    "#define LEN(ARR) (*(&ARR+1) - ARR)\n",
    "void print_arr(const char *label, const int arr[], const int len);\n",
    "\n",
    "int linear_search(int elem, int arr[], int len) {\n",
    "    for (int i = 0; i < len; i++) {\n",
    "        if (arr[i] == elem) {\n",
    "            return i;\n",
    "        }\n",
    "    }\n",
    "    return -1;\n",
    "}\n",
    "\n",
    "int main() {\n",
    "    int arr[] = {12, 57, 79, 23, 56};\n",
    "    int len = LEN(arr);\n",
    "    int x = 78, y = 79;\n",
    "    print_arr(\"Array:\", arr, len);\n",
    "    putchar('\\n');\n",
    "    printf(\"Index of %d: %d\\n\", x, linear_search(x, arr, len));\n",
    "    printf(\"Index of %d: %d\\n\", y, linear_search(y, arr, len));\n",
    "}"
   ]
  },
  {
   "cell_type": "markdown",
   "id": "42e31539",
   "metadata": {},
   "source": [
    "#### Binary Search"
   ]
  },
  {
   "cell_type": "markdown",
   "id": "c46f7a3b",
   "metadata": {},
   "source": [
    "For an ordered list of items, a *divide and conquer* approach becomes feasible. With knowledge of the length of the list, the list is divided into two halves around a middle item. The middle item is compared to the search item, and based on the result (if non-matching), the search continues in either the left half or the right half. Then, the half is further divided into left and right quarters, and so on."
   ]
  },
  {
   "cell_type": "markdown",
   "id": "b32faeba",
   "metadata": {},
   "source": [
    "This is called *binary search*. It has a time complexity of $O(log(n))$."
   ]
  },
  {
   "cell_type": "markdown",
   "id": "8aba5bf5",
   "metadata": {},
   "source": [
    "*Note:* A time complexity of $O(log(n))$ is only feasible if the list has an access time complexity of $O(1)$."
   ]
  },
  {
   "cell_type": "code",
   "execution_count": 26,
   "id": "d4c1a25a",
   "metadata": {},
   "outputs": [
    {
     "name": "stdout",
     "output_type": "stream",
     "text": [
      "Array:     5, 17, 19, 26, 54\n",
      "\n",
      "Index of 17: 1\n",
      "Index of 54: 4\n",
      "Index of 18: -1\n"
     ]
    }
   ],
   "source": [
    "//%cflags: .jupyter/print_arr.c\n",
    "\n",
    "#include <stdio.h>\n",
    "#define LEN(ARR) (*(&ARR+1) - ARR)\n",
    "void print_arr(const char *label, const int arr[], const int len);\n",
    "\n",
    "int binary_search(int elem, int arr[], int len) {\n",
    "    int lower = 0, upper = len - 1, mid;\n",
    "    while (lower <= upper) {\n",
    "        mid = (lower + upper) / 2;\n",
    "        if (elem == arr[mid]) {\n",
    "            return mid;\n",
    "        } else if (elem > arr[mid]) {\n",
    "            lower = mid + 1;\n",
    "        } else {\n",
    "            upper = mid - 1;\n",
    "        }\n",
    "    }\n",
    "    return -1;\n",
    "}\n",
    "\n",
    "int main() {\n",
    "    int arr[] = {5, 17, 19, 26, 54};\n",
    "    int len = LEN(arr);\n",
    "    int x = 17, y = 54, z = 18;\n",
    "    print_arr(\"Array:\", arr, len);\n",
    "    putchar('\\n');\n",
    "    printf(\"Index of %d: %d\\n\", x, binary_search(x, arr, len));\n",
    "    printf(\"Index of %d: %d\\n\", y, binary_search(y, arr, len));\n",
    "    printf(\"Index of %d: %d\\n\", z, binary_search(z, arr, len));\n",
    "}"
   ]
  },
  {
   "cell_type": "markdown",
   "id": "e23f4fb7",
   "metadata": {},
   "source": [
    "### Sorting Algorithms"
   ]
  },
  {
   "cell_type": "markdown",
   "id": "7b2a3c2e",
   "metadata": {},
   "source": [
    "#### Bubble Sort"
   ]
  },
  {
   "cell_type": "markdown",
   "id": "bf35a1d5",
   "metadata": {},
   "source": [
    "One easy approach to sort a list of items, is to iterate over the list repeatedly, comparing every two consecutive items and switching them if they are in the wrong order. At most, $(n-1)^2$ comparisons are made, where $n$ is the number of items in the list.\n",
    "\n",
    "An optimization would be to set a flag whenever an entire scan of the list is completed, $n-1$ comparisons, without switching any two elements, indicating that the list is sorted, and that the algorithm should terminate, saving off further comparisons."
   ]
  },
  {
   "cell_type": "markdown",
   "id": "87d55610",
   "metadata": {},
   "source": [
    "This is called *bubble sort*. It has a time complexity of $O(n^2)$."
   ]
  },
  {
   "cell_type": "code",
   "execution_count": null,
   "id": "b36a6495",
   "metadata": {},
   "outputs": [],
   "source": []
  },
  {
   "cell_type": "markdown",
   "id": "55666171",
   "metadata": {},
   "source": [
    "*Note:* A *stable* sorting algorithm is one that maintains the relative order between equal items. Since bubble sort never switches two equal items, it is a stable algorithm."
   ]
  }
 ],
 "metadata": {
  "kernelspec": {
   "display_name": "C",
   "language": "c",
   "name": "c"
  },
  "language_info": {
   "file_extension": ".c",
   "mimetype": "text/plain",
   "name": "c"
  }
 },
 "nbformat": 4,
 "nbformat_minor": 5
}
