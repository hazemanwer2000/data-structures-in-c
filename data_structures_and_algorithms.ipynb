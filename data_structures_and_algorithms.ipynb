{
 "cells": [
  {
   "cell_type": "markdown",
   "id": "0c1c88fc",
   "metadata": {},
   "source": [
    "# Data Structures and Algorithms (in C)\n",
    "<br>\n",
    "<div style=\"opacity: 0.8; font-family: Consolas, Monaco, Lucida Console, Liberation Mono, DejaVu Sans Mono, Bitstream Vera Sans Mono, Courier New; font-size: 12px; font-style: italic;\">\n",
    "    ────────\n",
    "    for more from the author, visit\n",
    "    <a href=\"https://github.com/hazemanwer2000\">github.com/hazemanwer2000</a>.\n",
    "    ────────\n",
    "</div>"
   ]
  },
  {
   "cell_type": "markdown",
   "id": "6acfc77e",
   "metadata": {},
   "source": [
    "## Table of Contents\n",
    "* [Algorithms](#algorithms)\n",
    "    * [Searching Algorithms](#searching-algorithms)\n",
    "        * [Linear Search](#linear-search)\n",
    "        * [Binary Search](#binary-search)\n",
    "    * [Sorting Algorithms](#sorting-algorithms)\n",
    "        * [Bubble Sort](#bubble-sort)\n",
    "        * [Selection Sort](#selection-sort)\n",
    "        * [Insertion Sort](#insertion-sort)\n",
    "        * [Quick Sort](#quick-sort)\n",
    "        * [Merge Sort](#merge-sort)\n",
    "* [Data Structures](#data-structures)\n",
    "    * [Lists](#lists)\n",
    "        * [Static Implementation](#static-implementation)\n",
    "        * [Linked Lists](#linked-lists)\n",
    "        * [Doubly Linked Lists](#doubly-linked-lists)\n",
    "    * [Sorted Lists](#sorted-lists)\n",
    "        * [Static Implementation](#static-implementation)\n",
    "        * [Using Linked Lists](#using-linked-lists)\n",
    "        * [Using Binary Search Trees (BST)](#using-binary-search-trees)\n",
    "        * [Using Self-Balancing BSTs](#using-self-balancing-bsts)\n",
    "    * [Stacks and Queues](#stacks-and-queues)\n",
    "    * [Binary Search Trees (BST)](#binary-search-trees)\n",
    "        * [AVL Trees](#avl-trees)\n",
    "<hr>"
   ]
  },
  {
   "cell_type": "markdown",
   "id": "88b71847",
   "metadata": {},
   "source": [
    "## Algorithms <a class=\"anchor\" id=\"algorithms\"></a>"
   ]
  },
  {
   "cell_type": "markdown",
   "id": "26fa154c",
   "metadata": {},
   "source": [
    "### Searching Algorithms <a class=\"anchor\" id=\"searching-algorithms\"></a>"
   ]
  },
  {
   "cell_type": "markdown",
   "id": "4506f04a",
   "metadata": {},
   "source": [
    "#### Linear Search <a class=\"anchor\" id=\"linear-search\"></a>"
   ]
  },
  {
   "cell_type": "markdown",
   "id": "68664116",
   "metadata": {},
   "source": [
    "An elementary approach to searching would be to iterate through each item in the search list, until the search item is found.\n",
    "\n",
    "This is called *linear search*. It has an average-case *time complexity* of $O(n)$."
   ]
  },
  {
   "cell_type": "code",
   "execution_count": 22,
   "id": "bed3bd60",
   "metadata": {},
   "outputs": [
    {
     "name": "stdout",
     "output_type": "stream",
     "text": [
      "Array:     12, 57, 79, 23, 56\n",
      "\n",
      "Index of 78: -1\n",
      "Index of 79: 2\n"
     ]
    }
   ],
   "source": [
    "//%cflags: .jupyter/print_arr.c\n",
    "\n",
    "#include <stdio.h>\n",
    "#define LEN(ARR) (*(&ARR+1) - ARR)\n",
    "void print_arr(const char *label, const int arr[], const int len);\n",
    "\n",
    "int linear_search(int elem, int arr[], int len) {\n",
    "    for (int i = 0; i < len; i++) {\n",
    "        if (arr[i] == elem) {\n",
    "            return i;\n",
    "        }\n",
    "    }\n",
    "    return -1;\n",
    "}\n",
    "\n",
    "int main() {\n",
    "    int arr[] = {12, 57, 79, 23, 56};\n",
    "    int len = LEN(arr);\n",
    "    int x = 78, y = 79;\n",
    "    print_arr(\"Array:\", arr, len);\n",
    "    putchar('\\n');\n",
    "    printf(\"Index of %d: %d\\n\", x, linear_search(x, arr, len));\n",
    "    printf(\"Index of %d: %d\\n\", y, linear_search(y, arr, len));\n",
    "}"
   ]
  },
  {
   "cell_type": "markdown",
   "id": "f71bb249",
   "metadata": {},
   "source": [
    "#### Binary Search <a class=\"anchor\" id=\"binary-search\"></a>"
   ]
  },
  {
   "cell_type": "markdown",
   "id": "1e503ec7",
   "metadata": {},
   "source": [
    "For an ordered list of items, a *divide-and-conquer* approach becomes feasible. With knowledge of the length of the list, the list is divided into two halves around a middle item. The middle item is compared to the search item, and based on the result (if non-matching), the search continues in either the left half or the right half. Then, the half is further divided into left and right quarters, and so on."
   ]
  },
  {
   "cell_type": "markdown",
   "id": "b5b7e35f",
   "metadata": {},
   "source": [
    "This is called *binary search*. It has an average-case time complexity of $O(log(n))$."
   ]
  },
  {
   "cell_type": "markdown",
   "id": "e1311205",
   "metadata": {},
   "source": [
    "*Note:* A time complexity of $O(log(n))$ is only feasible if the list has an access time complexity of $O(1)$."
   ]
  },
  {
   "cell_type": "code",
   "execution_count": 26,
   "id": "1112be15",
   "metadata": {},
   "outputs": [
    {
     "name": "stdout",
     "output_type": "stream",
     "text": [
      "Array:     5, 17, 19, 26, 54\n",
      "\n",
      "Index of 17: 1\n",
      "Index of 54: 4\n",
      "Index of 18: -1\n"
     ]
    }
   ],
   "source": [
    "//%cflags: .jupyter/print_arr.c\n",
    "\n",
    "#include <stdio.h>\n",
    "#define LEN(ARR) (*(&ARR+1) - ARR)\n",
    "void print_arr(const char *label, const int arr[], const int len);\n",
    "\n",
    "int binary_search(int elem, int arr[], int len) {\n",
    "    int lower = 0, upper = len - 1, mid;\n",
    "    while (lower <= upper) {\n",
    "        mid = (lower + upper) / 2;\n",
    "        if (elem == arr[mid]) {\n",
    "            return mid;\n",
    "        } else if (elem > arr[mid]) {\n",
    "            lower = mid + 1;\n",
    "        } else {\n",
    "            upper = mid - 1;\n",
    "        }\n",
    "    }\n",
    "    return -1;\n",
    "}\n",
    "\n",
    "int main() {\n",
    "    int arr[] = {5, 17, 19, 26, 54};\n",
    "    int len = LEN(arr);\n",
    "    int x = 17, y = 54, z = 18;\n",
    "    print_arr(\"Array:\", arr, len);\n",
    "    putchar('\\n');\n",
    "    printf(\"Index of %d: %d\\n\", x, binary_search(x, arr, len));\n",
    "    printf(\"Index of %d: %d\\n\", y, binary_search(y, arr, len));\n",
    "    printf(\"Index of %d: %d\\n\", z, binary_search(z, arr, len));\n",
    "}"
   ]
  },
  {
   "cell_type": "markdown",
   "id": "3c5ff39c",
   "metadata": {},
   "source": [
    "### Sorting Algorithms <a class=\"anchor\" id=\"sorting-algorithms\"></a>"
   ]
  },
  {
   "cell_type": "markdown",
   "id": "8f97e397",
   "metadata": {},
   "source": [
    "#### Bubble Sort <a class=\"anchor\" id=\"bubble-sort\"></a>"
   ]
  },
  {
   "cell_type": "markdown",
   "id": "07f86e28",
   "metadata": {},
   "source": [
    "One easy approach to sort a list of items, is to iterate over the list repeatedly, comparing every two consecutive items and switching them if they are in the wrong order. By the first iteration, $n-1$ comparisons are made and the largest element *bubbles* to the end of the array. By the second iteration, $n-2$ comparisons are made and the second largest element bubbles to just before the largest element. And so on.\n",
    "\n",
    "An optimization would be to (re)set a flag whenever an iteration over the array is completed without switching any two elements, indicating that the list is sorted and that the algorithm should terminate, saving off further comparisons."
   ]
  },
  {
   "cell_type": "markdown",
   "id": "a2771bf2",
   "metadata": {},
   "source": [
    "This is called *bubble sort*. It has an average-case time complexity of $O(n^2)$."
   ]
  },
  {
   "cell_type": "markdown",
   "id": "5049a094",
   "metadata": {},
   "source": [
    "*Note:* A *stable* sorting algorithm is one that maintains the relative order between equal items. Since bubble sort never switches two equal items, it is a stable algorithm."
   ]
  },
  {
   "cell_type": "code",
   "execution_count": 4,
   "id": "cf332bca",
   "metadata": {},
   "outputs": [
    {
     "name": "stdout",
     "output_type": "stream",
     "text": [
      "Before:    62, 43, 89, 80, 79, 11\n",
      "After:     11, 43, 62, 79, 80, 89\n"
     ]
    }
   ],
   "source": [
    "//%cflags: .jupyter/print_arr.c\n",
    "\n",
    "#include <stdio.h>\n",
    "#define LEN(ARR) (*(&ARR+1) - ARR)\n",
    "void print_arr(const char *label, const int arr[], const int len);\n",
    "\n",
    "void bubble_sort(int arr[], int len) {\n",
    "    int i, j, sorted = 0, tmp;\n",
    "    \n",
    "    for (i = 0; i < len-1 && !sorted; i++) {\n",
    "        sorted = 1;\n",
    "        for (j = 1; j < len-i; j++) {\n",
    "            if (arr[j] < arr[j-1]) {\n",
    "                tmp = arr[j];\n",
    "                arr[j] = arr[j-1];\n",
    "                arr[j-1] = tmp;\n",
    "                sorted = 0; \n",
    "            }\n",
    "\n",
    "        }\n",
    "    }\n",
    "}\n",
    "\n",
    "int main() {\n",
    "    int arr[] = {62, 43, 89, 80, 79, 11};\n",
    "    int len = LEN(arr);\n",
    "    print_arr(\"Before:\", arr, len);\n",
    "    bubble_sort(arr, len);\n",
    "    print_arr(\"After:\", arr, len);\n",
    "}"
   ]
  },
  {
   "cell_type": "markdown",
   "id": "66e92c66",
   "metadata": {},
   "source": [
    "#### Selection Sort <a class=\"anchor\" id=\"selection-sort\"></a>"
   ]
  },
  {
   "cell_type": "markdown",
   "id": "b4ba0dd6",
   "metadata": {},
   "source": [
    "Another easy approach is to select the smallest item in the list, and exchange it with the first item. Then, select the second most smallest item, and exchange it with the second item, and so on."
   ]
  },
  {
   "cell_type": "markdown",
   "id": "ff9e3ac9",
   "metadata": {},
   "source": [
    "This is called *selection sort*. It has an average-case time complexity of $O(n^2)$."
   ]
  },
  {
   "cell_type": "markdown",
   "id": "0571a28c",
   "metadata": {},
   "source": [
    "*Note:* By virtue of its design, selection sort is not a stable sorting algorithm."
   ]
  },
  {
   "cell_type": "markdown",
   "id": "ab77bdc6",
   "metadata": {},
   "source": [
    "*Note:* One advantage of selection sort is, at most, $n-1$ exchanges take place."
   ]
  },
  {
   "cell_type": "code",
   "execution_count": 38,
   "id": "93085cb6",
   "metadata": {},
   "outputs": [
    {
     "name": "stdout",
     "output_type": "stream",
     "text": [
      "Before:    62, 43, 89, 80, 79, 11\n",
      "After:     11, 43, 62, 79, 80, 89\n"
     ]
    }
   ],
   "source": [
    "//%cflags: .jupyter/print_arr.c\n",
    "\n",
    "#include <stdio.h>\n",
    "#define LEN(ARR) (*(&ARR+1) - ARR)\n",
    "void print_arr(const char *label, const int arr[], const int len);\n",
    "\n",
    "void selection_sort(int arr[], int len) {\n",
    "    int i, j, smallest, tmp;\n",
    "    for (i = 0; i < len-1; i++) {        /* first item, second item, so on */\n",
    "        smallest = i;\n",
    "        for (j = 1+i; j < len; j++) {         /* comparing each following item */\n",
    "            if (arr[smallest] > arr[j]) {      /* to determine the smallest */\n",
    "                smallest = j;\n",
    "            }\n",
    "        }\n",
    "        tmp = arr[smallest];\n",
    "        arr[smallest] = arr[i];\n",
    "        arr[i] = tmp;\n",
    "    }\n",
    "}\n",
    "\n",
    "int main() {\n",
    "    int arr[] = {62, 43, 89, 80, 79, 11};\n",
    "    int len = LEN(arr);\n",
    "    print_arr(\"Before:\", arr, len);\n",
    "    selection_sort(arr, len);\n",
    "    print_arr(\"After:\", arr, len);\n",
    "}"
   ]
  },
  {
   "cell_type": "markdown",
   "id": "6c9ad160",
   "metadata": {},
   "source": [
    "#### Insertion Sort <a class=\"anchor\" id=\"insertion-sort\"></a>"
   ]
  },
  {
   "cell_type": "markdown",
   "id": "91979e39",
   "metadata": {},
   "source": [
    "One more easy approach is to assume a sorted list, consisting of the first element only. Then, proceed to insert the second element backwards, maintaining the sorted property of the sub-list. Then, again, insert the third element backwards, and so on. With each insertion, the sub-list grows, until it consumes the whole list of elements."
   ]
  },
  {
   "cell_type": "markdown",
   "id": "710ae017",
   "metadata": {},
   "source": [
    "This is called *insertion sort*. It has an average-case time complexity of $O(n^2)$."
   ]
  },
  {
   "cell_type": "code",
   "execution_count": 39,
   "id": "185c7099",
   "metadata": {},
   "outputs": [
    {
     "name": "stdout",
     "output_type": "stream",
     "text": [
      "Before:    62, 43, 89, 80, 79, 11\n",
      "After:     11, 43, 62, 79, 80, 89\n"
     ]
    }
   ],
   "source": [
    "//%cflags: .jupyter/print_arr.c\n",
    "\n",
    "#include <stdio.h>\n",
    "#define LEN(ARR) (*(&ARR+1) - ARR)\n",
    "void print_arr(const char *label, const int arr[], const int len);\n",
    "\n",
    "void insertion_sort(int arr[], int len) {\n",
    "    int i, j, tmp;\n",
    "    for (i = 1; i < len; i++) {           /* inserting each element backwards, begining with second */\n",
    "        tmp = arr[i];                      /* saving the element */\n",
    "        j = i-1;\n",
    "        while (arr[j] > tmp && j >= 0) {     /* continuously shifting sorted elements to the right */\n",
    "            arr[j+1] = arr[j];                /* until element is smaller than element being inserted */\n",
    "            j--;\n",
    "        }\n",
    "        arr[j+1] = tmp;\n",
    "    }\n",
    "}\n",
    "\n",
    "int main() {\n",
    "    int arr[] = {62, 43, 89, 80, 79, 11};\n",
    "    int len = LEN(arr);\n",
    "    print_arr(\"Before:\", arr, len);\n",
    "    insertion_sort(arr, len);\n",
    "    print_arr(\"After:\", arr, len);\n",
    "}"
   ]
  },
  {
   "cell_type": "markdown",
   "id": "03ac3fb3",
   "metadata": {},
   "source": [
    "*Note:* Since an equal element in the sorted list is never shifted, insertion sort is a stable sorting algorithm."
   ]
  },
  {
   "cell_type": "markdown",
   "id": "c0c5d066",
   "metadata": {},
   "source": [
    "#### Quick Sort <a class=\"anchor\" id=\"quick-sort\"></a>"
   ]
  },
  {
   "cell_type": "markdown",
   "id": "da1f8103",
   "metadata": {},
   "source": [
    "A more advanced approach to sorting employs the divide-and-conquer paradigm.\n",
    "* Select an element from the list, called the *partitioning element*.\n",
    "* Determine the final position of the partioning element in the sorted list.\n",
    "* Re-arrange all other elements around the final position, so that all elements to the left of it are smaller than the partitioning element, and to the right, larger. Naturally, this leads the partitioning element to its final position.\n",
    "* Recursively apply the algorithm on the sub-lists to the right and left of the partitioning element.\n",
    "\n",
    "But these steps lead to a number of questions.\n",
    "* How do we select the partioning element?\n",
    "* How do we determine its final position?\n",
    "* How do we re-arrange all other elements around the final position?\n",
    "\n",
    "Let us consider the case, of selecting the partitioning element as the last element of the list.\n",
    "* Forwardly iterate through the list with `i`, and backwardly with `j`, exclusive of the partitioning element.\n",
    "* If `list[i]` is larger than the partitioning element, and `list[j]` is smaller than the partitioning element, switch both items and proceed.\n",
    "* Stop switching (and iterating) when `i` crosses `j`. In other words, `i >= j`.\n",
    "* Switch the partitioning element with `list[i]`, since `i` indexes a larger element, and the partitioning element is guranteed to be at a higher index.\n",
    "* Finally, recursively apply the algorithm to the left and right sub-lists.\n",
    "\n",
    "This is called *quick sort*. It has an average-case time complexity of $O(nlog(n))$."
   ]
  },
  {
   "cell_type": "markdown",
   "id": "5af464f6",
   "metadata": {},
   "source": [
    "*Note:* By virtue of its design, quick sort is not a stable sorting algorithm."
   ]
  },
  {
   "cell_type": "code",
   "execution_count": 44,
   "id": "346bb1b3",
   "metadata": {},
   "outputs": [
    {
     "name": "stdout",
     "output_type": "stream",
     "text": [
      "Before:    62, 43, 89, 80, 79, 11\n",
      "After:     11, 43, 62, 79, 80, 89\n"
     ]
    }
   ],
   "source": [
    "//%cflags: .jupyter/print_arr.c\n",
    "\n",
    "#include <stdio.h>\n",
    "#define LEN(ARR) (*(&ARR+1) - ARR)\n",
    "void print_arr(const char *label, const int arr[], const int len);\n",
    "\n",
    "                                         /* classic quick-sort implementation */\n",
    "                                                 \n",
    "void quick_sort(int arr[], int start, int end) {\n",
    "    int i, j, tmp;\n",
    "    if (start < end) {                   /* making sure it is a sub-array of 2+ elements */\n",
    "        i = start-1;\n",
    "        j = end;\n",
    "        while (1) {\n",
    "            while(arr[++i] < arr[end]);\n",
    "            while(arr[--j] > arr[end]);\n",
    "            if (i >= j) {                /* check if 'i' and 'j' crossed */\n",
    "                break;\n",
    "            }\n",
    "            tmp = arr[i];                /* otherwise, switch 'i' and 'j' */\n",
    "            arr[i] = arr[j];\n",
    "            arr[j] = tmp;\n",
    "        }\n",
    "        tmp = arr[i];                    /* switch 'i' and partitioning element at 'end' */\n",
    "        arr[i] = arr[end];\n",
    "        arr[end] = tmp;\n",
    "        quick_sort(arr, start, i-1);     /* recursive sub-array calls */\n",
    "        quick_sort(arr, i+1, end);\n",
    "    }\n",
    "}\n",
    "\n",
    "int main() {\n",
    "    int arr[] = {62, 43, 89, 80, 79, 11};\n",
    "    int len = LEN(arr);\n",
    "    print_arr(\"Before:\", arr, len);\n",
    "    quick_sort(arr, 0, len-1);\n",
    "    print_arr(\"After:\", arr, len);\n",
    "}"
   ]
  },
  {
   "cell_type": "markdown",
   "id": "e1cefc3b",
   "metadata": {},
   "source": [
    "The worst-case time complexity is $O(n^2)$, and occurs when the list is almost sorted. This is because selecting the partioning element as the last (or first) element of the list is likely to lead to biased divisions, with one sub-array being very large, and the other very small.\n",
    "\n",
    "To avoid this, an optimization called *median-of-three partioning* is frequently employed. The median of the first, last and middle elements of the list is selected, inexpensively ensuring that the partitioning element is not located at either extreme of the list.\n",
    "\n",
    "Complexity in implementation is added, however, in skipping the partitioning element while iterating through the list with `i` and `j`, as well as, determining which of `list[i]` or `list[j]` to exchange the partitioning element with."
   ]
  },
  {
   "cell_type": "markdown",
   "id": "40041798",
   "metadata": {},
   "source": [
    "*Note:* Since any recursive algorithm can be converted into an iterative algorithm, another possible optimization is to implement quick sort iteratively using a stack data structure, discussed later."
   ]
  },
  {
   "cell_type": "markdown",
   "id": "5441a33d",
   "metadata": {},
   "source": [
    "#### Merge Sort <a class=\"anchor\" id=\"merge-sort\"></a>"
   ]
  },
  {
   "cell_type": "markdown",
   "id": "6fe7471c",
   "metadata": {},
   "source": [
    "Another advanced approach to sorting also employs the divide-and-conquer paradigm.\n",
    "\n",
    "It utilizes the algorithm used to merge two sorted arrays. If two sorted arrays, `A` and `B`, are to be merged into a new sorted array, `C`, simply walk through the items in both arrays with `i` and `j`. If `A[i]` is smaller than `B[j]`, append `A[i]` to `C`, which is initially empty, and increment `i`, then proceed, until either `A` or `B` run out of items. Lastly, append the not-empty array to `C`."
   ]
  },
  {
   "cell_type": "code",
   "execution_count": 2,
   "id": "d934aeb3",
   "metadata": {},
   "outputs": [
    {
     "name": "stdout",
     "output_type": "stream",
     "text": [
      "A:         1, 3, 7, 8, 9, 13, 15\n",
      "B:         2, 4, 5, 10, 11, 14, 16\n",
      "C:         1, 2, 3, 4, 5, 7, 8, 9, 10, 11, 13, 14, 15, 16\n"
     ]
    }
   ],
   "source": [
    "//%cflags: .jupyter/print_arr.c\n",
    "\n",
    "#include <stdio.h>\n",
    "#define LEN(ARR) (*(&ARR+1) - ARR)\n",
    "void print_arr(const char *label, const int arr[], const int len);\n",
    "\n",
    "void merge_sorted(int A[], int lenA, int B[], int lenB, int C[]) {\n",
    "    int i = 0, j = 0, k = 0;\n",
    "    \n",
    "    while (i < lenA && j < lenB) {     /* merging both */\n",
    "        if (A[i] < B[j]) {\n",
    "            C[k++] = A[i++];\n",
    "        } else {\n",
    "            C[k++] = B[j++];\n",
    "        }\n",
    "    }\n",
    "    \n",
    "    while (j < lenB)\n",
    "        C[k++] = B[j++];\n",
    "    while (i < lenA)\n",
    "        C[k++] = A[i++];\n",
    "}\n",
    "\n",
    "int main() {\n",
    "    int A[] = {1, 3, 7, 8, 9, 13, 15};\n",
    "    int B[] = {2, 4, 5, 10, 11, 14, 16};\n",
    "    int lenA = LEN(A);\n",
    "    int lenB = LEN(B);\n",
    "    int C[lenA + lenB];\n",
    "    print_arr(\"A:\", A, lenA);\n",
    "    print_arr(\"B:\", B, lenB);\n",
    "    merge_sorted(A, lenA, B, lenB, C);\n",
    "    print_arr(\"C:\", C, lenA + lenB);\n",
    "}"
   ]
  },
  {
   "cell_type": "markdown",
   "id": "38645893",
   "metadata": {},
   "source": [
    "Now, let us assume that the two arrays to be merged are actually consecutive sub-arrays within a larger array, `D`. We would like to merge these two sub-arrays, to occupy the same location in `C` as they did in `D`."
   ]
  },
  {
   "cell_type": "code",
   "execution_count": 3,
   "id": "797c4e11",
   "metadata": {},
   "outputs": [
    {
     "name": "stdout",
     "output_type": "stream",
     "text": [
      "D:         1, 3, 5, 7, 2, 4, 6, 8, 10, 12\n",
      "C:         1, 2, 3, 4, 5, 6, 7, 8, 10, 12\n"
     ]
    }
   ],
   "source": [
    "//%cflags: .jupyter/print_arr.c\n",
    "\n",
    "#include <stdio.h>\n",
    "#define LEN(ARR) (*(&ARR+1) - ARR)\n",
    "void print_arr(const char *label, const int arr[], const int len);\n",
    "\n",
    "                                                                    /* 'mid' is forward-biased */\n",
    "                                                                     /* 'hi' is forward-biased */\n",
    "void merge_sorted(int to[], int from[], int low, int mid, int hi) { \n",
    "    int i, j, k;\n",
    "    i = k = low, j = mid;\n",
    "    \n",
    "    while (i < mid && j < hi) {       /* merging sub-arrays */\n",
    "        if (from[i] < from[j])\n",
    "            to[k++] = from[i++];\n",
    "        } else {\n",
    "            to[k++] = from[j++];\n",
    "        }\n",
    "    }\n",
    "    \n",
    "    while (j < hi)\n",
    "        to[k++] = from[j++];\n",
    "    while (i < mid)\n",
    "        to[k++] = from[i++];\n",
    "}\n",
    "\n",
    "int main() {\n",
    "    int D[] = {1, 3, 5, 7, 2, 4, 6, 8, 10, 12};\n",
    "    int len = LEN(D);\n",
    "    int C[len];\n",
    "    merge_sorted(C, D, 0, 4, len);\n",
    "    print_arr(\"D:\", D, len);\n",
    "    print_arr(\"C:\", C, len);\n",
    "}"
   ]
  },
  {
   "cell_type": "markdown",
   "id": "f0a14f24",
   "metadata": {},
   "source": [
    "Now, let us assume `D` is unsorted. What if we divide `D` into sorted sub-arrays, each of unit-length, then iteratively merge every two consecutive sub-arrays, until the larger array is sorted? Sounds like a plan."
   ]
  },
  {
   "cell_type": "code",
   "execution_count": 4,
   "id": "7f61b37f",
   "metadata": {},
   "outputs": [
    {
     "name": "stdout",
     "output_type": "stream",
     "text": [
      "---*       17, 16, 15, 14, 13, 12, 11, 10, 9, 8, 7, 6, 5, 4, 3, 2, 1\n",
      "--->       16, 17, 14, 15, 12, 13, 10, 11, 8, 9, 6, 7, 4, 5, 2, 3, 1\n",
      "--->       14, 15, 16, 17, 10, 11, 12, 13, 6, 7, 8, 9, 2, 3, 4, 5, 1\n",
      "--->       10, 11, 12, 13, 14, 15, 16, 17, 2, 3, 4, 5, 6, 7, 8, 9, 1\n",
      "--->       2, 3, 4, 5, 6, 7, 8, 9, 10, 11, 12, 13, 14, 15, 16, 17, 1\n",
      "--->       1, 2, 3, 4, 5, 6, 7, 8, 9, 10, 11, 12, 13, 14, 15, 16, 17\n",
      "--->       1, 2, 3, 4, 5, 6, 7, 8, 9, 10, 11, 12, 13, 14, 15, 16, 17\n"
     ]
    }
   ],
   "source": [
    "//%cflags: .jupyter/print_arr.c\n",
    "\n",
    "#include <stdio.h>\n",
    "#define LEN(ARR) (*(&ARR+1) - ARR)\n",
    "void print_arr(const char *label, const int arr[], const int len);\n",
    "\n",
    "                                                                    /* 'mid' is forward-biased */\n",
    "                                                                     /* 'hi' is forward-biased */\n",
    "void merge_sorted(int to[], int from[], int low, int mid, int hi) { \n",
    "    int i, j, k;\n",
    "    i = k = low, j = mid;\n",
    "    \n",
    "    while (i < mid && j < hi) {       /* merging sub-arrays */\n",
    "        if (from[i] <= from[j]) {     /* Note: '<=' ensures that if 'from[i]' is equal */\n",
    "            to[k++] = from[i++];        /* to 'from[j]', from[i] is copied first */\n",
    "        } else {\n",
    "            to[k++] = from[j++];\n",
    "        }\n",
    "    }\n",
    "    \n",
    "    while (j < hi)\n",
    "        to[k++] = from[j++];\n",
    "    while (i < mid)\n",
    "        to[k++] = from[i++];\n",
    "}\n",
    "                                                       /* each pass with sub = 1, 2, 4, etc */\n",
    "void merge_pass(int to[], int from[], int len, int sub) {\n",
    "    const int sub2 = 2*sub;\n",
    "    int low = 0, mid = sub, hi = sub2;\n",
    "    \n",
    "    while (hi <= len) {                       /* merging two consecutive full sub-arrays */\n",
    "        merge_sorted(to, from, low, mid, hi);\n",
    "        low += sub2, mid += sub2, hi += sub2;\n",
    "    }\n",
    "                                             /* checking if one sub-array exists, but other is half-full */\n",
    "                                              /* for example, in an array of 13 elements, when sub = 4 */\n",
    "                                              /* {a, b, c, d} and {e} must be merged together */\n",
    "    if (mid < len) {\n",
    "        merge_sorted(to, from, low, mid, len);\n",
    "    } else {\n",
    "        while (low < len) {                  /* otherwise, if one sub-array (or less) exists */\n",
    "            to[low] = from[low];              /* just copy it */\n",
    "            low++;\n",
    "        }\n",
    "    }\n",
    "}\n",
    "\n",
    "void merge_sort(int arr[], int len) {\n",
    "    int sub = 1;                       /* sub-array size initially set to 1 */\n",
    "    int arr_tmp[len];                   /* allocating a temporary array of equal size */\n",
    "    \n",
    "    print_arr(\"---*\", arr, len);          /* DEBUG: PRINT */\n",
    "    \n",
    "    while (sub < len) {\n",
    "        merge_pass(arr_tmp, arr, len, sub);     /* once from 'arr' to 'arr_tmp' */\n",
    "        print_arr(\"--->\", arr_tmp, len);           /* DEBUG: PRINT */\n",
    "        sub *= 2;\n",
    "        \n",
    "        merge_pass(arr, arr_tmp, len, sub);       /* another from 'arr_tmp' to 'arr' */\n",
    "        print_arr(\"--->\", arr, len);                 /* DEBUG: PRINT */\n",
    "        sub *= 2;                                 /* NOTE: in case ceil(log2(len)) is an odd number */ \n",
    "    }                                               /* the last 'merge_pass' call merely copies */\n",
    "}                                                   /* 'arr_tmp' to 'arr */\n",
    "\n",
    "int main() {\n",
    "    int arr[] = {17, 16, 15, 14, 13, 12, 11, 10, 9, 8, 7, 6, 5, 4, 3, 2, 1};\n",
    "    int len = LEN(arr);\n",
    "    merge_sort(arr, len);\n",
    "}"
   ]
  },
  {
   "cell_type": "markdown",
   "id": "f5feb7fc",
   "metadata": {},
   "source": [
    "This is called *merge sort*. It has an average-case and worst-case time complexity of $O(nlog(n))$."
   ]
  },
  {
   "cell_type": "markdown",
   "id": "a1f74dd5",
   "metadata": {},
   "source": [
    "*Note:* If an item in the first sub-array is equal to another in the second sub-array, the item in the first sub-array is copied first. Hence, merge sort is a stable algorithm."
   ]
  },
  {
   "cell_type": "markdown",
   "id": "12e105b4",
   "metadata": {},
   "source": [
    "## Data Structures <a class=\"anchor\" id=\"data-structures\"></a>"
   ]
  },
  {
   "cell_type": "markdown",
   "id": "5b4e6dd6",
   "metadata": {},
   "source": [
    "### Lists <a class=\"anchor\" id=\"lists\"></a>"
   ]
  },
  {
   "cell_type": "markdown",
   "id": "109933a8",
   "metadata": {},
   "source": [
    "A *list* is an enumerated collection of objects in which repetitions are allowed and order matters.\n",
    "\n",
    "Any list structure must provide a number of functions to interface with it.\n",
    "* Retrieve item at index.\n",
    "* Replace item at index.\n",
    "* Insert item at index.\n",
    "* Delete item at index.\n",
    "* Append item.\n",
    "* Prepend item.\n",
    "* Get length of list.\n",
    "* Traverse list."
   ]
  },
  {
   "cell_type": "markdown",
   "id": "c602e183",
   "metadata": {},
   "source": [
    "#### Static Implementation <a class=\"anchor\" id=\"static-implementation\"></a>"
   ]
  },
  {
   "cell_type": "markdown",
   "id": "138a1134",
   "metadata": {},
   "source": [
    "Implementations of lists in C will usually use arrays, and are labelled *static*, since arrays in C are fixed in size."
   ]
  },
  {
   "cell_type": "markdown",
   "id": "2240680c",
   "metadata": {},
   "source": [
    "| *Function* | *Implementation* | *Average-Case Time Complexity* |\n",
    "| --- | --- | --- |\n",
    "| **Retrieve item at index** | Natural to arrays, using `[]` operator | $O(1)$ |\n",
    "| **Replace item at index** | Natural to arrays, using `[]` operator | $O(1)$ | \n",
    "| **Insert item at index** | Requires shifting all items to the right | $O(n)$ |\n",
    "| **Delete item at index** | Requires shifting all items to the left | $O(n)$ |\n",
    "| | |\n",
    "| **Append item** | Quick, must maintain length of list | $O(1)$ |\n",
    "| **Prepend item** | Special case of insertion at `i=0` | $O(n)$ |\n",
    "| **Get length of list** | Quick, must maintain length of list | $O(1)$ |\n",
    "| **Traverse list** | Possible forwardly and backwardly | $O(n)$ |"
   ]
  },
  {
   "cell_type": "markdown",
   "id": "a1bd21dc",
   "metadata": {},
   "source": [
    "#### Linked Lists <a class=\"anchor\" id=\"linked-lists\"></a>"
   ]
  },
  {
   "cell_type": "markdown",
   "id": "7ab25d91",
   "metadata": {},
   "source": [
    "The most famous *dynamic* implementation of a list is called a *linked list*. A linked list is a list where each item, called *node*, at index `i`, points to the next node, at index `i+1`. Usually, the first node is called *head*, and the last node is called *tail*. Each new node is allocated on the heap."
   ]
  },
  {
   "cell_type": "markdown",
   "id": "92d604f2",
   "metadata": {},
   "source": [
    "| *Function* | *Implementation* | *Average-Case Time Complexity* |\n",
    "| --- | --- | --- |\n",
    "| **Retrieve item at index** | Must traverse list | $O(n)$ |\n",
    "| **Replace item at index** | Must traverse list | $O(n)$ |\n",
    "| **Insert item at index** | Must traverse list | $O(n)$ |\n",
    "| **Delete item at index** | Must traverse list | $O(n)$ |\n",
    "| | |\n",
    "| **Append item** | Quick, must maintain `tail` | $O(1)$ |\n",
    "| **Prepend item** | Quick, just replace `head` | $O(1)$ |\n",
    "| **Get length of list** | Quick, must maintain length of list | $O(1)$ |\n",
    "| **Traverse list** | Possible forwardly only | $O(n)$ |"
   ]
  },
  {
   "cell_type": "markdown",
   "id": "0c0eed35",
   "metadata": {},
   "source": [
    "*Note:* To traverse a linked list backwardly, a stack data structure must be used, discussed later."
   ]
  },
  {
   "cell_type": "markdown",
   "id": "05745bd3",
   "metadata": {},
   "source": [
    "#### Doubly Linked Lists <a class=\"anchor\" id=\"doubly-linked-lists\"></a>"
   ]
  },
  {
   "cell_type": "markdown",
   "id": "dd53ab9c",
   "metadata": {},
   "source": [
    "A *doubly linked list* is a linked list where each node, at index `i`, points to the next node, at index `i+1`, and to the previous node, at index `i-1`. This makes for simpler insertions and deletions."
   ]
  },
  {
   "cell_type": "markdown",
   "id": "c06fd4e4",
   "metadata": {},
   "source": [
    "| *Function* | *Implementation* | *Average-Case Time Complexity* |\n",
    "| --- | --- | --- |\n",
    "| **Retrieve item at index** | Must traverse list | $O(n)$ |\n",
    "| **Replace item at index** | Must traverse list | $O(n)$ |\n",
    "| **Insert item at index** | Must traverse list | $O(n)$ |\n",
    "| **Delete item at index** | Must traverse list | $O(n)$ |\n",
    "| | |\n",
    "| **Append item** | Quick, must maintain `tail` | $O(1)$ |\n",
    "| **Prepend item** | Quick, just replace `head` | $O(1)$ |\n",
    "| **Get length of list** | Quick, must maintain length of list | $O(1)$ |\n",
    "| **Traverse list** | Possible forwardly and backwardly | $O(n)$ |"
   ]
  },
  {
   "cell_type": "markdown",
   "id": "bf0efbd0",
   "metadata": {},
   "source": [
    "### Sorted Lists <a class=\"anchor\" id=\"sorted-lists\"></a>"
   ]
  },
  {
   "cell_type": "markdown",
   "id": "3386ce3c",
   "metadata": {},
   "source": [
    "A *sorted list* is a list where order is defined by a rule, that is consistently and constantly applied, usually related to the nature of the items in the list. Given two items, the rule should be able to consistently define which item should preceed the other.\n",
    "\n",
    "For example, for a list of integers, a rule might be that if `A < B`, then `A` should preceed `B`. In other words, according to the rule, integers are stored ascendingly. If repetitions are possible, that is, in our previous example, if `A == B`, then usually which item preceeds which is based on which item was inserted first into the sorted list. It is implementation-defined.\n",
    "\n",
    "Any sorted list structure must provide a number of functions to interface with it.\n",
    "* Retrieve item at index.\n",
    "* Insert item.\n",
    "* Delete item at index.\n",
    "* Get length of list.\n",
    "* Traverse list."
   ]
  },
  {
   "cell_type": "markdown",
   "id": "013837b2",
   "metadata": {},
   "source": [
    "#### Static Implementation <a class=\"anchor\" id=\"static-implementation\"></a>"
   ]
  },
  {
   "cell_type": "markdown",
   "id": "3cebe097",
   "metadata": {},
   "source": [
    "Similar to lists, a static implementation of sorted lists will utilize arrays in C."
   ]
  },
  {
   "cell_type": "markdown",
   "id": "8bdea34b",
   "metadata": {},
   "source": [
    "| *Function* | *Implementation* | *Average-Case Time Complexity* |\n",
    "| --- | --- | --- |\n",
    "| **Retrieve item at index** | Natural to arrays, using `[]` operator | $O(1)$ |\n",
    "| **Insert item** | Binary insertion, requires shifting all items to the right | $O(n)$ |\n",
    "| **Delete item at index** | Binary search, requires shifting all items to the left | $O(n)$ |\n",
    "| | |\n",
    "| **Get length of list** | Quick, must maintain length of list | $O(1)$ |\n",
    "| **Traverse list** | Possible forwardly and backwardly | $O(n)$ |"
   ]
  },
  {
   "cell_type": "markdown",
   "id": "a187b6ca",
   "metadata": {},
   "source": [
    "#### Using Linked Lists <a class=\"anchor\" id=\"using-linked-lists\"></a>"
   ]
  },
  {
   "cell_type": "markdown",
   "id": "cc540b59",
   "metadata": {},
   "source": [
    "A dynamic implementation of a sorted list structure may utilize linked lists."
   ]
  },
  {
   "cell_type": "markdown",
   "id": "f3ceaf29",
   "metadata": {},
   "source": [
    "| *Function* | *Implementation* | *Average-Case Time Complexity* |\n",
    "| --- | --- | --- |\n",
    "| **Retrieve item at index** | Must traverse list | $O(n)$ |\n",
    "| **Insert item** | Must traverse list | $O(n)$ |\n",
    "| **Delete item at index** | Must traverse list | $O(n)$ |\n",
    "| | |\n",
    "| **Get length of list** | Quick, must maintain length of list | $O(1)$ |\n",
    "| **Traverse list** | Possible forwardly only | $O(n)$ |"
   ]
  },
  {
   "cell_type": "markdown",
   "id": "594c1c2f",
   "metadata": {},
   "source": [
    "*Note:* Using doubly linked lists, insertions and deletions would be slightly simpler, and traversal would naturally be possible in either directions."
   ]
  },
  {
   "cell_type": "markdown",
   "id": "927fb0d6",
   "metadata": {},
   "source": [
    "#### Using Binary Search Trees (BST) <a class=\"anchor\" id=\"using-binary-search-trees\"></a>"
   ]
  },
  {
   "cell_type": "markdown",
   "id": "54cc6290",
   "metadata": {},
   "source": [
    "A *tree* is a data structure, where each node points to nodes below it, called *child nodes*. Each node must have a single *parent node*, by definition, except for the *root node*, which has none. *Sibiling nodes* are nodes that occur on the same *level*, or *depth*, with the root node having zero siblings and occuring at level 0. The *height* of a tree is the maximum depth of any of its nodes. The *degree* of any node is the number of children it possesses.\n",
    "\n",
    "A *binary tree* is a special tree, in which every node has a maximum of two child nodes, a *left child* and a *right child*. Binary trees can be used to naturally represent sorted lists, since binary insertion and search is built-in to the data structure. When used in this capacity, a binary tree is renamed *binary search tree* (BST). For example, a sorted binary tree of integers, during insertion, would compare the new value to the value at the root node. If smaller, then the value must be stored at a node to the left of the root node, and vice versa.\n",
    "\n",
    "A static implementation of a BST would utilize arrays in C, where every level is consecutively allocated slots in the array, from left to right. At `i=(1-1)=0`, the root node resides. At `i=(2-1)=1`, the left-most node of level 1 resides. `At i=(4-1)=3`, the left-most node of level 2 resides, and so on. Hence, for a node at `i=(4-1)=3`, its left child resides at `(2*(i+1)-1)=7`, and its right child resides at `(2*(i+1))=8`.\n",
    "\n",
    "Such an implementation has an obvious drawback. For a very *skewed* BST, most of the array would consist of empty slots. This would occur, for example, when inserting an almost sorted list of integers into a BST, where nodes would accumulate at either the left or the right side. Implementing a BST dynamically on the heap would be a wiser choice.\n",
    "\n",
    "A binary search tree has an average-case time complexity of $O(log(n))$, for insertions. This, however, degrades to $O(n)$ when the tree becomes very skewed, which, as mentioned before, occurs when inserting items in an almost-sorted order"
   ]
  },
  {
   "cell_type": "markdown",
   "id": "2930abed",
   "metadata": {},
   "source": [
    "| *Function* | *Implementation* | *Average-Case* | *Worst-Case* |\n",
    "| --- | --- | --- | --- |\n",
    "| **Retrieve item at index** | Must traverse list | $O(n)$ | $O(n)$ |\n",
    "| **Insert item** | Binary insertion | $O(log(n))$ | $O(n)$ |\n",
    "| **Delete item at index** | Binary search | $O(n)$ | $O(n)$ |\n",
    "| | | |\n",
    "| **Get length of list** | Quick, must maintain number of nodes | $O(1)$ | $O(1)$ |\n",
    "| **Traverse list** | Inorder traversal, possible forwardly and backwardly | $O(n)$ | $O(n)$ |"
   ]
  },
  {
   "cell_type": "markdown",
   "id": "c904be2e",
   "metadata": {},
   "source": [
    "*Note:* Inorder traversal of a tree accesses nodes in the order of the items stored. For example, for a list of integers, items would be accessed ascendingly or descendingly."
   ]
  },
  {
   "cell_type": "markdown",
   "id": "3d73e352",
   "metadata": {},
   "source": [
    "*Note:* Inorder traversal of a binary tree is naturally recursive. To implement an optimized iterative version would require a stack data structure, discussed later."
   ]
  },
  {
   "cell_type": "markdown",
   "id": "08548433",
   "metadata": {},
   "source": [
    "#### Using Self-Balancing BSTs <a class=\"anchor\" id=\"using-self-balancing-bsts\"></a>"
   ]
  },
  {
   "cell_type": "markdown",
   "id": "99aeb73d",
   "metadata": {},
   "source": [
    "A *self-balancing BST* is a BST where the height of the left and right *subtrees* of any node in the tree may not differ by more than one. A self-balancing BST maintains time complexity of $O(log(n)$ for insertions at all times.\n",
    "\n",
    "A number of self-balancing implementations of BSTs are available, like AVL trees and Red-Black trees, discussed later. Typically, with each insertion and deletion, a number of complex operations, of time complexity $O(1)$, are peformed in order to maintain the balanced property of the tree."
   ]
  },
  {
   "cell_type": "markdown",
   "id": "1b385bf3",
   "metadata": {},
   "source": [
    "| *Function* | *Implementation* | *Average-Case* | *Worst-Case* |\n",
    "| --- | --- | --- | --- |\n",
    "| **Retrieve item at index** | Must traverse list | $O(n)$ | $O(n)$ |\n",
    "| **Insert item** | Binary insertion | $O(log(n))$ | $O(log(n))$ |\n",
    "| **Delete item at index** | Binary search | $O(n)$ | $O(n)$ |\n",
    "| | | |\n",
    "| **Get length of list** | Quick, must maintain number of nodes | $O(1)$ | $O(1)$ |\n",
    "| **Traverse list** | Inorder traversal, possible forwardly and backwardly | $O(n)$ | $O(n)$ |"
   ]
  },
  {
   "cell_type": "markdown",
   "id": "3dc28104",
   "metadata": {},
   "source": [
    "### Stacks and Queues <a class=\"anchor\" id=\"stacks-and-queues\"></a>"
   ]
  },
  {
   "cell_type": "markdown",
   "id": "c04ae8af",
   "metadata": {},
   "source": [
    "#### Stacks"
   ]
  },
  {
   "cell_type": "markdown",
   "id": "be10016d",
   "metadata": {},
   "source": [
    "A *stack* is a *FILO* (First In, Last Out) data structure. It must provide a number of functions to interface with it, all of which have time-complexity of $O(1)$.\n",
    "* Push item onto the stack.\n",
    "* Pop item off the stack.\n",
    "* Access item on top of the stack.\n",
    "\n",
    "A static implementation of a stack would involve use of arrays in C, with an index tracking the item on top of the stack. The stack is full when the tracking index reaches the length of the array.\n",
    "\n",
    "A dynamic implementation would employ a linked list data structure, in which the functions provided are more limited. The `head` of the linked list would be changing with every push and pop function call, as it represents the item on top of the stack."
   ]
  },
  {
   "cell_type": "markdown",
   "id": "b2ba3a5c",
   "metadata": {},
   "source": [
    "#### Queues"
   ]
  },
  {
   "cell_type": "markdown",
   "id": "4d123366",
   "metadata": {},
   "source": [
    "A *queue* is a *FIFO* (First In, First Out) data structure. It must provide a number of functions to interface with it, all of which have time-complexity of $O(1)$.\n",
    "* Enqueue item (addition).\n",
    "* Dequeue item (removal).\n",
    "* Access item next to be dequeued.\n",
    "\n",
    "A static implementation of a queue would involve circular use of arrays in C, in which items wrap around to the beginning of the array. Two indexes would be used to track the item last enqueued and the item next to be dequeued. The queue is full when the two indexes overlap. The queue length cannot exceed the length of the array.\n",
    "\n",
    "A dynamic implementation would employ a linked list data structure, in which the number of functions provided are more limited. The `head` of the linked list would be changing with every dequeue, and the `tail` with every enqueue."
   ]
  },
  {
   "cell_type": "markdown",
   "id": "f0602f10",
   "metadata": {},
   "source": [
    "*Note:* A *priority queue* is a queue where items are sorted based on their priority. Items with equal priority fall back to the *FIFO* nature of the queue. A priority queue can be implemented easily as a sorted list."
   ]
  },
  {
   "cell_type": "markdown",
   "id": "16a63c15",
   "metadata": {},
   "source": [
    "### Binary Search Trees (BST) <a class=\"anchor\" id=\"binary-search-trees\"></a>"
   ]
  },
  {
   "cell_type": "markdown",
   "id": "6a52e9ef",
   "metadata": {},
   "source": [
    "As mentioned before, a binary search tree is used to represent a sorted list.\n",
    "\n",
    "Insertion is peformed, on average, in time complexity of $O(log(n))$, with a worst-case time complexity of $O(log(n))$. The tree is traversed, each node compared to the new node being inserted, and a decision is made whether it should reside on the left or right of that node, based on a consistently-applied rule.\n",
    "\n",
    "Deletion of a node, let us call it **A**, from a BST is more complex.\n",
    "* If **A** has no children, then simply remove it.\n",
    "* If **A** has a single left or right child, replace it with its child.\n",
    "* If **A** has two children, locate the next *in-order* node, let us call it **B**, in the tree. Then, proceed to copy the data stored at **B** to **A**. Lastly, attempt to delete **B** instead, by re-following the same procedure outlined here."
   ]
  },
  {
   "cell_type": "markdown",
   "id": "00d4b9a4",
   "metadata": {},
   "source": [
    "*Note:* Notice how the deleted node is always a leaf node."
   ]
  },
  {
   "cell_type": "markdown",
   "id": "b1523aa1",
   "metadata": {},
   "source": [
    "*Note:* In-order traversal of a BST is simply accessing the nodes in the tree in their sorted list order, left-to-right."
   ]
  },
  {
   "cell_type": "markdown",
   "id": "258e0983",
   "metadata": {},
   "source": [
    "*Note:* To locate the next in-order node of any other node, jump to its right-child, then traverse maximally on its left-side."
   ]
  },
  {
   "cell_type": "markdown",
   "id": "3b3e9694",
   "metadata": {},
   "source": [
    "*Note:* The next in-order node of any other node cannot have two children, by definition."
   ]
  },
  {
   "cell_type": "markdown",
   "id": "db300abd",
   "metadata": {},
   "source": [
    "#### AVL Trees <a class=\"anchor\" id=\"avl-trees\"></a>"
   ]
  },
  {
   "cell_type": "markdown",
   "id": "1159fe54",
   "metadata": {},
   "source": [
    "In an AVL tree, each node stores its balance, which is the height of its left-child minus the height of its right-child (e.g, the height of the sub-trees to its right and left). A node may have a balance of `1`, denoted *LHIGH*, `-1`, denoted *RHIGH* and `0`, denoted *BAL*.\n",
    "\n",
    "Insertion in an AVL tree initially follows the same algorithm as an unbalanced BST. However, the path of traversal is traced back upwards, re-balancing the affected nodes with each insertion. For example, if a new node was inserted to the right of another node, **A**, then:\n",
    "* If **A**'s balance was *LHIGH*, it is now *BAL*, and the algorithm terminates, since the height of `A` as a sub-tree was unaffected, and hence, did not affect any parent node along the traversal path.\n",
    "* If **A**'s balance was *BAL*, it is now *RHIGH*, and the algorithm must propagate up the traversal path, since the height of `A` as a sub-tree was increased by one, and hence, its parent node is affected.\n",
    "\n",
    "These are the only two cases for node **A**, which is directly the parent of a new node, that is its new right child. Let us assume node **A** has a balance of *RHIGH* right now, and the algorithm propagated to its parent node, **B** (**A** is **B**'s right child), then there's one more case we need to deal with:\n",
    "* If **B**'s balance was *RHIGH*, it is now `-2`, which is not an acceptable balance in an AVL tree. Hence, **B** requires re-balancing.\n",
    "\n",
    "To re-balance a node, **X**, with a `-2` balance, a series of steps must be followed.\n",
    "* If its right-child, **Y**, has a balance of `RHIGH`, then this requires a *left rotation* about **X**.\n",
    "    * Only **X** and **Y** change in balance, and always to *BAL*.\n",
    "* If **Y** has a balance if `LHIGH`, then this requires a *right rotation* about **Y**, followed by a left rotation about **X**.\n",
    "    * If the left child of **Y**, **Z**, has a balance of *BAL*, both **X** and **Y** change balance to *BAL*.\n",
    "    * If **Z** has a balance of *RHIGH*, then **X** becomes *LHIGH* and **Y** becomes *BAL*.\n",
    "    * If **Z** has a balance of *LHIGH*, then **X** becomes *BAL* and **Y** becomes *RHIGH*.\n",
    "\n",
    "Left and right rotations are the fundamental operations by which an AVL tree is re-balanced."
   ]
  },
  {
   "cell_type": "markdown",
   "id": "9c2e9904",
   "metadata": {},
   "source": [
    "```\n",
    "[A]                      [B]\n",
    "   [B]       ->       [A]   [C]              /* left rotation about A */\n",
    "      [C]\n",
    "```"
   ]
  },
  {
   "cell_type": "markdown",
   "id": "8b95e04b",
   "metadata": {},
   "source": [
    "```\n",
    "[A]                [A]                   [B]\n",
    "      [C]    ->       [B]       ->    [A]   [C]          /* right-left rotation about B-A */\n",
    "   [B]                   [C]                \n",
    "```"
   ]
  },
  {
   "cell_type": "markdown",
   "id": "409ba15a",
   "metadata": {},
   "source": [
    "More complex trees better illustrate what happens during a rotation."
   ]
  },
  {
   "cell_type": "markdown",
   "id": "049e2b59",
   "metadata": {},
   "source": [
    "```\n",
    "[A]                             [C]\n",
    "      [C]            ->   [A]         [D]           /* left rotation about A */\n",
    "   [B]   [D]                 [B]         [E]\n",
    "            [E]\n",
    "```"
   ]
  },
  {
   "cell_type": "markdown",
   "id": "548e3a88",
   "metadata": {},
   "source": [
    "Once the preceeding outlined steps are followed, the algorithm terminates, since the height of the sub-tree of `B` is unchanged, and hence, no parent along the traversal path would be further affected."
   ]
  },
  {
   "cell_type": "markdown",
   "id": "3176052c",
   "metadata": {},
   "source": [
    "*Note:* A symmetrical process is followed for a node that is inserted to the left of another node."
   ]
  },
  {
   "cell_type": "markdown",
   "id": "0f772b78",
   "metadata": {},
   "source": [
    "Deletion in an AVL follows a similar procedure, that must be similarly thought through. The deleted leaf node's parent is first in-line, up the traversal path. Notable differences include:\n",
    "* If the balance of a node up the traversal path changes from `0` to `-1`, the algorithm terminates, since its height, as a sub-tree, remains unaffected in this case.\n",
    "* When re-balancing a `+/-2` node, the right-child may have a balance of `BAL`, which does not occur during insertion.\n",
    "* After re-balancing, the algorithm terminates only if the right-child has a `BAL` balance, since its height, as a sub-tree, remains unaffected in this case."
   ]
  }
 ],
 "metadata": {
  "kernelspec": {
   "display_name": "C",
   "language": "c",
   "name": "c"
  },
  "language_info": {
   "file_extension": ".cpp",
   "mimetype": "text/plain",
   "name": "c++"
  }
 },
 "nbformat": 4,
 "nbformat_minor": 5
}
